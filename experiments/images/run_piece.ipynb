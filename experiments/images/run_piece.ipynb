{
 "cells": [
  {
   "cell_type": "code",
   "execution_count": 81,
   "metadata": {},
   "outputs": [],
   "source": [
    "import os.path as osp\n",
    "import numpy as np\n",
    "import pickle\n",
    "import copy\n",
    "\n",
    "import matplotlib.pyplot as plt\n",
    "from PIL import Image\n",
    "\n",
    "import torch\n",
    "from torch import nn\n",
    "from torchvision import transforms\n",
    "from torch import optim\n",
    "\n",
    "import carla_visual as cv\n",
    "from carla_visual.dataloaders.online_dataset import load_online_dataset, build_dataloader\n",
    "\n",
    "from carla_visual.models.classifiers import PIECECNN\n",
    "from carla_visual.models.generators import PIECEGenerator\n",
    "\n",
    "from carla_visual.models.utils import fetch_weights, load_model_weights\n",
    "import carla_visual.evaluation.evaluate_prediction_model as epm\n",
    "\n",
    "from carla_visual.recourse_methods.piece import get_misclassifications, get_misclassificaiton, return_feature_contribution_data\n",
    "from carla_visual.recourse_methods.piece import acquire_feature_probabilities, filter_df_of_exceptional_noise, optimize_z0, modifying_exceptional_features\n",
    "from carla_visual.plotting.plot_output import plot_misclassifications\n",
    "\n",
    "from carla_visual.plotting.plot_output import plot_image "
   ]
  },
  {
   "cell_type": "markdown",
   "metadata": {},
   "source": [
    "# Prepare data"
   ]
  },
  {
   "cell_type": "code",
   "execution_count": 2,
   "metadata": {},
   "outputs": [
    {
     "name": "stdout",
     "output_type": "stream",
     "text": [
      "Shape of the train set:  torch.Size([60000, 28, 28])\n",
      "Shape of the test set:  torch.Size([10000, 28, 28])\n"
     ]
    }
   ],
   "source": [
    "ds_name = 'MNIST'\n",
    "data_root = 'D:\\PycharmProjects\\XAIRobustness\\data\\images'\n",
    "\n",
    "train_data, test_data = load_online_dataset(ds_name, data_root, download=False, split_val=False)\n",
    "print(f'Shape of the train set: ', train_data.data.shape)\n",
    "print(f'Shape of the test set: ', test_data.data.shape)"
   ]
  },
  {
   "cell_type": "code",
   "execution_count": 3,
   "metadata": {},
   "outputs": [],
   "source": [
    "input_chn = 1\n",
    "num_classes = 10\n",
    "batch_size = 1\n",
    "nz = 100\n",
    "device = 'cuda' if torch.cuda.is_available() else 'cpu'\n",
    "ngpu = 0 if device == 'cpu' else 1\n"
   ]
  },
  {
   "cell_type": "code",
   "execution_count": 4,
   "metadata": {},
   "outputs": [],
   "source": [
    "train_dataloader, test_dataloader = build_dataloader([train_data, test_data], \n",
    "                                                      batch_size=batch_size, \n",
    "                                                      shuffle=True)"
   ]
  },
  {
   "cell_type": "markdown",
   "metadata": {},
   "source": [
    "# Load pre-trained CNN and Generator "
   ]
  },
  {
   "cell_type": "code",
   "execution_count": 5,
   "metadata": {},
   "outputs": [],
   "source": [
    "original_cnn_weights = 'https://github.com/EoinKenny/AAAI-2021/raw/refs/heads/master/weights/pytorch_cnn.pth'\n",
    "original_gen_weights = 'https://github.com/EoinKenny/AAAI-2021/raw/refs/heads/master/weights/generator.pth'\n",
    "\n",
    "output_dir = 'D:\\PycharmProjects\\XAIRobustness\\CARLA_VISUAL\\carla_visual\\models\\weights\\piece'\n",
    "cnn_weights_file = 'cnn_weights.pth'\n",
    "gen_weights_file = 'generator_weights.pth'\n"
   ]
  },
  {
   "cell_type": "code",
   "execution_count": 6,
   "metadata": {},
   "outputs": [],
   "source": [
    "fetch_weights(original_cnn_weights, file_name=cnn_weights_file, output_dir=output_dir)\n",
    "fetch_weights(original_gen_weights, file_name=gen_weights_file, output_dir=output_dir)"
   ]
  },
  {
   "cell_type": "code",
   "execution_count": 6,
   "metadata": {},
   "outputs": [
    {
     "name": "stdout",
     "output_type": "stream",
     "text": [
      "Total number of parameters in the CNN: 143162\n"
     ]
    }
   ],
   "source": [
    "cnn = PIECECNN(input_chn, num_classes)\n",
    "print('Total number of parameters in the CNN:', cnn.get_params_num())\n",
    "cnn = load_model_weights(cnn, osp.join(output_dir, cnn_weights_file), device=device)\n"
   ]
  },
  {
   "cell_type": "code",
   "execution_count": 8,
   "metadata": {},
   "outputs": [
    {
     "name": "stderr",
     "output_type": "stream",
     "text": [
      "Evaluating: 100%|██████████| 10000/10000 [00:35<00:00, 282.12it/s]"
     ]
    },
    {
     "name": "stdout",
     "output_type": "stream",
     "text": [
      "Accuracy of the pre-trained CNN:  0.9932\n"
     ]
    },
    {
     "name": "stderr",
     "output_type": "stream",
     "text": [
      "\n"
     ]
    }
   ],
   "source": [
    "print('Accuracy of the pre-trained CNN: ', epm.evaluate_model(cnn, test_dataloader, device)['accuracy'])"
   ]
  },
  {
   "cell_type": "code",
   "execution_count": 7,
   "metadata": {},
   "outputs": [],
   "source": [
    "gen = PIECEGenerator(ngpu=ngpu)\n",
    "gen = load_model_weights(gen, osp.join(output_dir, gen_weights_file), device=device)"
   ]
  },
  {
   "cell_type": "markdown",
   "metadata": {},
   "source": [
    "Check the generative performance of the loaded generator "
   ]
  },
  {
   "cell_type": "code",
   "execution_count": 10,
   "metadata": {},
   "outputs": [
    {
     "data": {
      "image/png": "[encoded data removed]",
      "text/plain": [
       "<Figure size 640x480 with 1 Axes>"
      ]
     },
     "metadata": {},
     "output_type": "display_data"
    }
   ],
   "source": [
    "z = torch.randn(batch_size, nz)\n",
    "z = z.view(z.size(0), nz, 1, 1)\n",
    "generated_images = gen(z)\n",
    "plot_image(generated_images) "
   ]
  },
  {
   "cell_type": "markdown",
   "metadata": {},
   "source": [
    "# PIECE Algorithm  #"
   ]
  },
  {
   "cell_type": "markdown",
   "metadata": {},
   "source": [
    "1) Obtaining a misclassified instance with the specified index *k_misclf_num* "
   ]
  },
  {
   "cell_type": "code",
   "execution_count": 93,
   "metadata": {},
   "outputs": [
    {
     "name": "stdout",
     "output_type": "stream",
     "text": [
      "Label: 6\n",
      "Prediction: 4\n"
     ]
    }
   ],
   "source": [
    "original_query_idx, original_query_img, \\\n",
    "original_query_label, original_query_prediction = get_misclassificaiton(test_dataloader, cnn, k_misclf_num=2)"
   ]
  },
  {
   "cell_type": "markdown",
   "metadata": {},
   "source": [
    "Visualize several missclassifications found in the whole test set "
   ]
  },
  {
   "cell_type": "code",
   "execution_count": 9,
   "metadata": {},
   "outputs": [],
   "source": [
    "misclf_samples = get_misclassifications(cnn, test_dataloader, device)"
   ]
  },
  {
   "cell_type": "code",
   "execution_count": 10,
   "metadata": {},
   "outputs": [
    {
     "data": {
      "image/png": "[encoded data removed]",
      "text/plain": [
       "<Figure size 1000x800 with 10 Axes>"
      ]
     },
     "metadata": {},
     "output_type": "display_data"
    }
   ],
   "source": [
    "plot_misclassifications(misclf_samples)"
   ]
  },
  {
   "cell_type": "markdown",
   "metadata": {},
   "source": [
    "2) Identifying the latent vector that corresponds to the given misclassified image"
   ]
  },
  {
   "cell_type": "code",
   "execution_count": 94,
   "metadata": {},
   "outputs": [
    {
     "name": "stdout",
     "output_type": "stream",
     "text": [
      "Iteration 0, Loss: 4522.54443359375\n",
      "Iteration 100, Loss: 2999.1806640625\n",
      "Iteration 200, Loss: 2424.129150390625\n",
      "Iteration 300, Loss: 2015.048828125\n",
      "Iteration 400, Loss: 1651.19091796875\n",
      "Iteration 500, Loss: 1633.332275390625\n",
      "Iteration 600, Loss: 1536.90185546875\n",
      "Iteration 700, Loss: 1233.998779296875\n",
      "Iteration 800, Loss: 1133.0162353515625\n",
      "Iteration 900, Loss: 897.6160278320312\n",
      "Iteration 1000, Loss: 864.7064208984375\n",
      "Iteration 1100, Loss: 846.9547119140625\n",
      "Iteration 1200, Loss: 840.355224609375\n",
      "Iteration 1300, Loss: 835.583251953125\n",
      "Iteration 1400, Loss: 833.36865234375\n",
      "Iteration 1500, Loss: 831.9500732421875\n",
      "Iteration 1600, Loss: 827.4559326171875\n",
      "Iteration 1700, Loss: 822.6453247070312\n",
      "Iteration 1800, Loss: 820.02392578125\n",
      "Iteration 1900, Loss: 816.7391357421875\n",
      "Iteration 2000, Loss: 816.1718139648438\n",
      "Iteration 2100, Loss: 810.5718994140625\n",
      "Iteration 2200, Loss: 808.431884765625\n",
      "Iteration 2300, Loss: 800.4140625\n",
      "Iteration 2400, Loss: 795.2857055664062\n",
      "Iteration 2500, Loss: 790.151611328125\n",
      "Iteration 2600, Loss: 784.0614624023438\n",
      "Iteration 2700, Loss: 782.224853515625\n",
      "Iteration 2800, Loss: 778.3161010742188\n",
      "Iteration 2900, Loss: 778.516357421875\n",
      "Iteration 3000, Loss: 774.288818359375\n",
      "Iteration 3100, Loss: 774.759765625\n",
      "Iteration 3200, Loss: 772.6181640625\n",
      "Iteration 3300, Loss: 769.43359375\n",
      "Iteration 3400, Loss: 768.61083984375\n",
      "Iteration 3500, Loss: 767.3070068359375\n",
      "Iteration 3600, Loss: 764.8075561523438\n",
      "Iteration 3700, Loss: 767.41943359375\n",
      "Iteration 3800, Loss: 762.158203125\n",
      "Iteration 3900, Loss: 761.9466552734375\n",
      "Iteration 4000, Loss: 762.73779296875\n",
      "Iteration 4100, Loss: 756.737060546875\n",
      "Iteration 4200, Loss: 746.3314819335938\n",
      "Iteration 4300, Loss: 749.8773193359375\n",
      "Iteration 4400, Loss: 746.22998046875\n",
      "Iteration 4500, Loss: 744.2113037109375\n",
      "Iteration 4600, Loss: 741.973876953125\n",
      "Iteration 4700, Loss: 744.5104370117188\n",
      "Iteration 4800, Loss: 775.217529296875\n",
      "Iteration 4900, Loss: 743.3551025390625\n",
      "Iteration 5000, Loss: 741.8115234375\n",
      "Iteration 5100, Loss: 736.207275390625\n",
      "Iteration 5200, Loss: 733.9305419921875\n",
      "Iteration 5300, Loss: 728.9999389648438\n",
      "Iteration 5400, Loss: 834.8031005859375\n",
      "Iteration 5500, Loss: 727.3330688476562\n",
      "Iteration 5600, Loss: 755.1873168945312\n",
      "Iteration 5700, Loss: 726.7426147460938\n",
      "Iteration 5800, Loss: 735.2437744140625\n",
      "Iteration 5900, Loss: 720.2969360351562\n",
      "Iteration 6000, Loss: 739.865234375\n",
      "Iteration 6100, Loss: 729.3380126953125\n",
      "Iteration 6200, Loss: 718.8521728515625\n",
      "Iteration 6300, Loss: 714.421630859375\n",
      "Iteration 6400, Loss: 713.5435791015625\n",
      "Iteration 6500, Loss: 711.4215698242188\n",
      "Iteration 6600, Loss: 710.8793334960938\n",
      "Iteration 6700, Loss: 707.43603515625\n",
      "Iteration 6800, Loss: 706.6126708984375\n",
      "Iteration 6900, Loss: 707.1519165039062\n",
      "Iteration 7000, Loss: 705.771484375\n",
      "Iteration 7100, Loss: 710.2401123046875\n",
      "Iteration 7200, Loss: 717.308349609375\n",
      "Iteration 7300, Loss: 705.7900390625\n",
      "Iteration 7400, Loss: 707.462646484375\n",
      "Iteration 7500, Loss: 704.8927612304688\n",
      "Iteration 7600, Loss: 715.3760375976562\n",
      "Iteration 7700, Loss: 704.5220336914062\n",
      "Iteration 7800, Loss: 703.9127197265625\n",
      "Iteration 7900, Loss: 704.5724487304688\n",
      "Iteration 8000, Loss: 702.0087890625\n",
      "Iteration 8100, Loss: 702.4468994140625\n",
      "Iteration 8200, Loss: 3008.5380859375\n",
      "Iteration 8300, Loss: 2115.75537109375\n",
      "Iteration 8400, Loss: 1733.3759765625\n",
      "Iteration 8500, Loss: 1675.396484375\n",
      "Iteration 8600, Loss: 1645.6385498046875\n",
      "Iteration 8700, Loss: 1632.6964111328125\n",
      "Iteration 8800, Loss: 1614.4853515625\n",
      "Iteration 8900, Loss: 1599.6549072265625\n",
      "Iteration 9000, Loss: 1592.801025390625\n",
      "Iteration 9100, Loss: 1565.415771484375\n",
      "Iteration 9200, Loss: 1552.6715087890625\n",
      "Iteration 9300, Loss: 1547.0810546875\n",
      "Iteration 9400, Loss: 1540.78955078125\n",
      "Iteration 9500, Loss: 1528.824951171875\n",
      "Iteration 9600, Loss: 1511.257568359375\n",
      "Iteration 9700, Loss: 1481.931884765625\n",
      "Iteration 9800, Loss: 1460.864013671875\n",
      "Iteration 9900, Loss: 1453.14501953125\n"
     ]
    }
   ],
   "source": [
    "z_I = optimize_z0(gen, cnn.main, original_query_img, nz)"
   ]
  },
  {
   "cell_type": "code",
   "execution_count": 95,
   "metadata": {},
   "outputs": [
    {
     "data": {
      "image/png": "[encoded data removed]",
      "text/plain": [
       "<Figure size 640x480 with 1 Axes>"
      ]
     },
     "metadata": {},
     "output_type": "display_data"
    }
   ],
   "source": [
    "plot_image(original_query_img)"
   ]
  },
  {
   "cell_type": "code",
   "execution_count": 96,
   "metadata": {},
   "outputs": [
    {
     "data": {
      "image/png": "[encoded data removed]",
      "text/plain": [
       "<Figure size 640x480 with 1 Axes>"
      ]
     },
     "metadata": {},
     "output_type": "display_data"
    }
   ],
   "source": [
    "plot_image(gen(z_I))"
   ]
  },
  {
   "cell_type": "code",
   "execution_count": 98,
   "metadata": {},
   "outputs": [],
   "source": [
    "query_activations = cnn(gen(z_I))[1][0]"
   ]
  },
  {
   "cell_type": "markdown",
   "metadata": {},
   "source": [
    "3) Constructing a latent dataset for training data (THE FUNCTION IS TIME-CONSUMING!)"
   ]
  },
  {
   "cell_type": "code",
   "execution_count": 13,
   "metadata": {},
   "outputs": [
    {
     "name": "stdout",
     "output_type": "stream",
     "text": [
      "0.0 % complete...\n",
      "17.0 % complete...\n",
      "33.0 % complete...\n",
      "50.0 % complete...\n",
      "67.0 % complete...\n",
      "83.0 % complete...\n"
     ]
    }
   ],
   "source": [
    "# On this step, we construct a latent datset that constitute the logits of the all training data and the corresponding for them predictions \n",
    "\n",
    "latent_ds = return_feature_contribution_data(train_dataloader, cnn, num_classes=10)"
   ]
  },
  {
   "cell_type": "markdown",
   "metadata": {},
   "source": [
    "(!) Pickle calculated activations and their corresponding predictions"
   ]
  },
  {
   "cell_type": "code",
   "execution_count": 21,
   "metadata": {},
   "outputs": [],
   "source": [
    "latent_ds_path = r'D:\\PycharmProjects\\XAIRobustness\\CARLA_VISUAL\\carla_visual\\recourse_methods\\piece\\latent_ds.pickle'\n",
    "with open(latent_ds_path, 'wb') as handle:\n",
    "    pickle.dump(latent_ds, handle, protocol=pickle.HIGHEST_PROTOCOL)"
   ]
  },
  {
   "cell_type": "markdown",
   "metadata": {},
   "source": [
    "(!) Load pre-calculated latent dataset "
   ]
  },
  {
   "cell_type": "code",
   "execution_count": 99,
   "metadata": {},
   "outputs": [],
   "source": [
    "latent_ds_path = r'D:\\PycharmProjects\\XAIRobustness\\CARLA_VISUAL\\carla_visual\\recourse_methods\\piece\\latent_mnist_dataset.pickle'\n",
    "with open(latent_ds_path, 'rb') as handle:\n",
    "    latent_ds = pickle.load(handle)"
   ]
  },
  {
   "cell_type": "markdown",
   "metadata": {},
   "source": [
    "4) Step 1: Acquire the probability of each features, and identify the excpetional ones (i.e., those with a probability lower than alpha)"
   ]
  },
  {
   "cell_type": "code",
   "execution_count": 100,
   "metadata": {},
   "outputs": [],
   "source": [
    "alpha = 0.05"
   ]
  },
  {
   "cell_type": "code",
   "execution_count": 101,
   "metadata": {},
   "outputs": [],
   "source": [
    "df = acquire_feature_probabilities(latent_ds, original_query_label, cnn, original_query_img, alpha)"
   ]
  },
  {
   "cell_type": "code",
   "execution_count": 102,
   "metadata": {},
   "outputs": [
    {
     "data": {
      "text/html": [
       "<div>\n",
       "<style scoped>\n",
       "    .dataframe tbody tr th:only-of-type {\n",
       "        vertical-align: middle;\n",
       "    }\n",
       "\n",
       "    .dataframe tbody tr th {\n",
       "        vertical-align: top;\n",
       "    }\n",
       "\n",
       "    .dataframe thead th {\n",
       "        text-align: right;\n",
       "    }\n",
       "</style>\n",
       "<table border=\"1\" class=\"dataframe\">\n",
       "  <thead>\n",
       "    <tr style=\"text-align: right;\">\n",
       "      <th></th>\n",
       "      <th>Feature Map</th>\n",
       "      <th>Contribution</th>\n",
       "      <th>Bern Fail</th>\n",
       "      <th>Bern Success</th>\n",
       "      <th>Cont High</th>\n",
       "      <th>Cont Low</th>\n",
       "      <th>Expected Value</th>\n",
       "      <th>Probability of Event</th>\n",
       "      <th>Distribtuion p-value KsTest</th>\n",
       "      <th>Dist Type</th>\n",
       "    </tr>\n",
       "  </thead>\n",
       "  <tbody>\n",
       "    <tr>\n",
       "      <th>0</th>\n",
       "      <td>0</td>\n",
       "      <td>-0.0557</td>\n",
       "      <td>False</td>\n",
       "      <td>False</td>\n",
       "      <td>True</td>\n",
       "      <td>False</td>\n",
       "      <td>0.0462</td>\n",
       "      <td>0.0000</td>\n",
       "      <td>0.0000</td>\n",
       "      <td>gamma</td>\n",
       "    </tr>\n",
       "    <tr>\n",
       "      <th>1</th>\n",
       "      <td>1</td>\n",
       "      <td>0.1373</td>\n",
       "      <td>False</td>\n",
       "      <td>False</td>\n",
       "      <td>False</td>\n",
       "      <td>True</td>\n",
       "      <td>0.7364</td>\n",
       "      <td>0.0186</td>\n",
       "      <td>0.2368</td>\n",
       "      <td>norm</td>\n",
       "    </tr>\n",
       "    <tr>\n",
       "      <th>2</th>\n",
       "      <td>2</td>\n",
       "      <td>0.0385</td>\n",
       "      <td>False</td>\n",
       "      <td>False</td>\n",
       "      <td>False</td>\n",
       "      <td>True</td>\n",
       "      <td>0.4627</td>\n",
       "      <td>0.0032</td>\n",
       "      <td>0.0872</td>\n",
       "      <td>gamma</td>\n",
       "    </tr>\n",
       "    <tr>\n",
       "      <th>3</th>\n",
       "      <td>3</td>\n",
       "      <td>0.0019</td>\n",
       "      <td>False</td>\n",
       "      <td>False</td>\n",
       "      <td>False</td>\n",
       "      <td>False</td>\n",
       "      <td>0.1483</td>\n",
       "      <td>0.4011</td>\n",
       "      <td>0.3607</td>\n",
       "      <td>gamma</td>\n",
       "    </tr>\n",
       "    <tr>\n",
       "      <th>4</th>\n",
       "      <td>4</td>\n",
       "      <td>0.0622</td>\n",
       "      <td>False</td>\n",
       "      <td>False</td>\n",
       "      <td>False</td>\n",
       "      <td>True</td>\n",
       "      <td>0.4831</td>\n",
       "      <td>0.0227</td>\n",
       "      <td>0.2617</td>\n",
       "      <td>gamma</td>\n",
       "    </tr>\n",
       "    <tr>\n",
       "      <th>...</th>\n",
       "      <td>...</td>\n",
       "      <td>...</td>\n",
       "      <td>...</td>\n",
       "      <td>...</td>\n",
       "      <td>...</td>\n",
       "      <td>...</td>\n",
       "      <td>...</td>\n",
       "      <td>...</td>\n",
       "      <td>...</td>\n",
       "      <td>...</td>\n",
       "    </tr>\n",
       "    <tr>\n",
       "      <th>123</th>\n",
       "      <td>123</td>\n",
       "      <td>-0.0806</td>\n",
       "      <td>False</td>\n",
       "      <td>False</td>\n",
       "      <td>True</td>\n",
       "      <td>False</td>\n",
       "      <td>0.0589</td>\n",
       "      <td>0.0001</td>\n",
       "      <td>0.1330</td>\n",
       "      <td>gamma</td>\n",
       "    </tr>\n",
       "    <tr>\n",
       "      <th>124</th>\n",
       "      <td>124</td>\n",
       "      <td>-0.0427</td>\n",
       "      <td>False</td>\n",
       "      <td>False</td>\n",
       "      <td>True</td>\n",
       "      <td>False</td>\n",
       "      <td>0.0727</td>\n",
       "      <td>0.0100</td>\n",
       "      <td>0.0000</td>\n",
       "      <td>gamma With Fixed 0 Location</td>\n",
       "    </tr>\n",
       "    <tr>\n",
       "      <th>125</th>\n",
       "      <td>125</td>\n",
       "      <td>-0.0472</td>\n",
       "      <td>False</td>\n",
       "      <td>False</td>\n",
       "      <td>True</td>\n",
       "      <td>False</td>\n",
       "      <td>0.0536</td>\n",
       "      <td>0.0000</td>\n",
       "      <td>0.0000</td>\n",
       "      <td>gamma With Fixed 0 Location</td>\n",
       "    </tr>\n",
       "    <tr>\n",
       "      <th>126</th>\n",
       "      <td>126</td>\n",
       "      <td>0.1632</td>\n",
       "      <td>False</td>\n",
       "      <td>False</td>\n",
       "      <td>False</td>\n",
       "      <td>False</td>\n",
       "      <td>0.6146</td>\n",
       "      <td>0.3484</td>\n",
       "      <td>0.0271</td>\n",
       "      <td>gamma</td>\n",
       "    </tr>\n",
       "    <tr>\n",
       "      <th>127</th>\n",
       "      <td>127</td>\n",
       "      <td>-0.0334</td>\n",
       "      <td>False</td>\n",
       "      <td>False</td>\n",
       "      <td>False</td>\n",
       "      <td>False</td>\n",
       "      <td>0.1168</td>\n",
       "      <td>0.1977</td>\n",
       "      <td>0.0115</td>\n",
       "      <td>gamma</td>\n",
       "    </tr>\n",
       "  </tbody>\n",
       "</table>\n",
       "<p>128 rows × 10 columns</p>\n",
       "</div>"
      ],
      "text/plain": [
       "     Feature Map  Contribution  Bern Fail  Bern Success  Cont High  Cont Low  \\\n",
       "0              0       -0.0557      False         False       True     False   \n",
       "1              1        0.1373      False         False      False      True   \n",
       "2              2        0.0385      False         False      False      True   \n",
       "3              3        0.0019      False         False      False     False   \n",
       "4              4        0.0622      False         False      False      True   \n",
       "..           ...           ...        ...           ...        ...       ...   \n",
       "123          123       -0.0806      False         False       True     False   \n",
       "124          124       -0.0427      False         False       True     False   \n",
       "125          125       -0.0472      False         False       True     False   \n",
       "126          126        0.1632      False         False      False     False   \n",
       "127          127       -0.0334      False         False      False     False   \n",
       "\n",
       "     Expected Value  Probability of Event  Distribtuion p-value KsTest  \\\n",
       "0            0.0462                0.0000                       0.0000   \n",
       "1            0.7364                0.0186                       0.2368   \n",
       "2            0.4627                0.0032                       0.0872   \n",
       "3            0.1483                0.4011                       0.3607   \n",
       "4            0.4831                0.0227                       0.2617   \n",
       "..              ...                   ...                          ...   \n",
       "123          0.0589                0.0001                       0.1330   \n",
       "124          0.0727                0.0100                       0.0000   \n",
       "125          0.0536                0.0000                       0.0000   \n",
       "126          0.6146                0.3484                       0.0271   \n",
       "127          0.1168                0.1977                       0.0115   \n",
       "\n",
       "                       Dist Type  \n",
       "0                          gamma  \n",
       "1                           norm  \n",
       "2                          gamma  \n",
       "3                          gamma  \n",
       "4                          gamma  \n",
       "..                           ...  \n",
       "123                        gamma  \n",
       "124  gamma With Fixed 0 Location  \n",
       "125  gamma With Fixed 0 Location  \n",
       "126                        gamma  \n",
       "127                        gamma  \n",
       "\n",
       "[128 rows x 10 columns]"
      ]
     },
     "execution_count": 102,
     "metadata": {},
     "output_type": "execute_result"
    }
   ],
   "source": [
    "df"
   ]
  },
  {
   "cell_type": "markdown",
   "metadata": {},
   "source": [
    "5) Step 2: Filter out exceptional features which we want to change, and change them to their expected values in the counterfactual class"
   ]
  },
  {
   "cell_type": "code",
   "execution_count": 105,
   "metadata": {},
   "outputs": [
    {
     "data": {
      "text/html": [
       "<div>\n",
       "<style scoped>\n",
       "    .dataframe tbody tr th:only-of-type {\n",
       "        vertical-align: middle;\n",
       "    }\n",
       "\n",
       "    .dataframe tbody tr th {\n",
       "        vertical-align: top;\n",
       "    }\n",
       "\n",
       "    .dataframe thead th {\n",
       "        text-align: right;\n",
       "    }\n",
       "</style>\n",
       "<table border=\"1\" class=\"dataframe\">\n",
       "  <thead>\n",
       "    <tr style=\"text-align: right;\">\n",
       "      <th></th>\n",
       "      <th>Feature Map</th>\n",
       "      <th>Contribution</th>\n",
       "      <th>Bern Fail</th>\n",
       "      <th>Bern Success</th>\n",
       "      <th>Cont High</th>\n",
       "      <th>Cont Low</th>\n",
       "      <th>Expected Value</th>\n",
       "      <th>Probability of Event</th>\n",
       "      <th>Distribtuion p-value KsTest</th>\n",
       "      <th>Dist Type</th>\n",
       "      <th>flag</th>\n",
       "    </tr>\n",
       "  </thead>\n",
       "  <tbody>\n",
       "    <tr>\n",
       "      <th>0</th>\n",
       "      <td>0</td>\n",
       "      <td>-0.0557</td>\n",
       "      <td>False</td>\n",
       "      <td>False</td>\n",
       "      <td>True</td>\n",
       "      <td>False</td>\n",
       "      <td>0.0462</td>\n",
       "      <td>0.0000</td>\n",
       "      <td>0.0000</td>\n",
       "      <td>gamma</td>\n",
       "      <td>0</td>\n",
       "    </tr>\n",
       "    <tr>\n",
       "      <th>1</th>\n",
       "      <td>1</td>\n",
       "      <td>0.1373</td>\n",
       "      <td>False</td>\n",
       "      <td>False</td>\n",
       "      <td>False</td>\n",
       "      <td>True</td>\n",
       "      <td>0.7364</td>\n",
       "      <td>0.0186</td>\n",
       "      <td>0.2368</td>\n",
       "      <td>norm</td>\n",
       "      <td>0</td>\n",
       "    </tr>\n",
       "    <tr>\n",
       "      <th>2</th>\n",
       "      <td>2</td>\n",
       "      <td>0.0385</td>\n",
       "      <td>False</td>\n",
       "      <td>False</td>\n",
       "      <td>False</td>\n",
       "      <td>True</td>\n",
       "      <td>0.4627</td>\n",
       "      <td>0.0032</td>\n",
       "      <td>0.0872</td>\n",
       "      <td>gamma</td>\n",
       "      <td>0</td>\n",
       "    </tr>\n",
       "    <tr>\n",
       "      <th>4</th>\n",
       "      <td>4</td>\n",
       "      <td>0.0622</td>\n",
       "      <td>False</td>\n",
       "      <td>False</td>\n",
       "      <td>False</td>\n",
       "      <td>True</td>\n",
       "      <td>0.4831</td>\n",
       "      <td>0.0227</td>\n",
       "      <td>0.2617</td>\n",
       "      <td>gamma</td>\n",
       "      <td>0</td>\n",
       "    </tr>\n",
       "    <tr>\n",
       "      <th>5</th>\n",
       "      <td>5</td>\n",
       "      <td>-0.0602</td>\n",
       "      <td>False</td>\n",
       "      <td>False</td>\n",
       "      <td>True</td>\n",
       "      <td>False</td>\n",
       "      <td>0.0685</td>\n",
       "      <td>0.0006</td>\n",
       "      <td>0.0000</td>\n",
       "      <td>gamma With Fixed 0 Location</td>\n",
       "      <td>0</td>\n",
       "    </tr>\n",
       "    <tr>\n",
       "      <th>...</th>\n",
       "      <td>...</td>\n",
       "      <td>...</td>\n",
       "      <td>...</td>\n",
       "      <td>...</td>\n",
       "      <td>...</td>\n",
       "      <td>...</td>\n",
       "      <td>...</td>\n",
       "      <td>...</td>\n",
       "      <td>...</td>\n",
       "      <td>...</td>\n",
       "      <td>...</td>\n",
       "    </tr>\n",
       "    <tr>\n",
       "      <th>119</th>\n",
       "      <td>119</td>\n",
       "      <td>-0.1318</td>\n",
       "      <td>False</td>\n",
       "      <td>False</td>\n",
       "      <td>True</td>\n",
       "      <td>False</td>\n",
       "      <td>0.0330</td>\n",
       "      <td>0.0000</td>\n",
       "      <td>0.0000</td>\n",
       "      <td>gamma With Fixed 0 Location</td>\n",
       "      <td>0</td>\n",
       "    </tr>\n",
       "    <tr>\n",
       "      <th>121</th>\n",
       "      <td>121</td>\n",
       "      <td>-0.1326</td>\n",
       "      <td>False</td>\n",
       "      <td>False</td>\n",
       "      <td>True</td>\n",
       "      <td>False</td>\n",
       "      <td>0.0450</td>\n",
       "      <td>0.0000</td>\n",
       "      <td>0.0152</td>\n",
       "      <td>gamma</td>\n",
       "      <td>0</td>\n",
       "    </tr>\n",
       "    <tr>\n",
       "      <th>123</th>\n",
       "      <td>123</td>\n",
       "      <td>-0.0806</td>\n",
       "      <td>False</td>\n",
       "      <td>False</td>\n",
       "      <td>True</td>\n",
       "      <td>False</td>\n",
       "      <td>0.0589</td>\n",
       "      <td>0.0001</td>\n",
       "      <td>0.1330</td>\n",
       "      <td>gamma</td>\n",
       "      <td>0</td>\n",
       "    </tr>\n",
       "    <tr>\n",
       "      <th>124</th>\n",
       "      <td>124</td>\n",
       "      <td>-0.0427</td>\n",
       "      <td>False</td>\n",
       "      <td>False</td>\n",
       "      <td>True</td>\n",
       "      <td>False</td>\n",
       "      <td>0.0727</td>\n",
       "      <td>0.0100</td>\n",
       "      <td>0.0000</td>\n",
       "      <td>gamma With Fixed 0 Location</td>\n",
       "      <td>0</td>\n",
       "    </tr>\n",
       "    <tr>\n",
       "      <th>125</th>\n",
       "      <td>125</td>\n",
       "      <td>-0.0472</td>\n",
       "      <td>False</td>\n",
       "      <td>False</td>\n",
       "      <td>True</td>\n",
       "      <td>False</td>\n",
       "      <td>0.0536</td>\n",
       "      <td>0.0000</td>\n",
       "      <td>0.0000</td>\n",
       "      <td>gamma With Fixed 0 Location</td>\n",
       "      <td>0</td>\n",
       "    </tr>\n",
       "  </tbody>\n",
       "</table>\n",
       "<p>79 rows × 11 columns</p>\n",
       "</div>"
      ],
      "text/plain": [
       "     Feature Map  Contribution  Bern Fail  Bern Success  Cont High  Cont Low  \\\n",
       "0              0       -0.0557      False         False       True     False   \n",
       "1              1        0.1373      False         False      False      True   \n",
       "2              2        0.0385      False         False      False      True   \n",
       "4              4        0.0622      False         False      False      True   \n",
       "5              5       -0.0602      False         False       True     False   \n",
       "..           ...           ...        ...           ...        ...       ...   \n",
       "119          119       -0.1318      False         False       True     False   \n",
       "121          121       -0.1326      False         False       True     False   \n",
       "123          123       -0.0806      False         False       True     False   \n",
       "124          124       -0.0427      False         False       True     False   \n",
       "125          125       -0.0472      False         False       True     False   \n",
       "\n",
       "     Expected Value  Probability of Event  Distribtuion p-value KsTest  \\\n",
       "0            0.0462                0.0000                       0.0000   \n",
       "1            0.7364                0.0186                       0.2368   \n",
       "2            0.4627                0.0032                       0.0872   \n",
       "4            0.4831                0.0227                       0.2617   \n",
       "5            0.0685                0.0006                       0.0000   \n",
       "..              ...                   ...                          ...   \n",
       "119          0.0330                0.0000                       0.0000   \n",
       "121          0.0450                0.0000                       0.0152   \n",
       "123          0.0589                0.0001                       0.1330   \n",
       "124          0.0727                0.0100                       0.0000   \n",
       "125          0.0536                0.0000                       0.0000   \n",
       "\n",
       "                       Dist Type  flag  \n",
       "0                          gamma     0  \n",
       "1                           norm     0  \n",
       "2                          gamma     0  \n",
       "4                          gamma     0  \n",
       "5    gamma With Fixed 0 Location     0  \n",
       "..                           ...   ...  \n",
       "119  gamma With Fixed 0 Location     0  \n",
       "121                        gamma     0  \n",
       "123                        gamma     0  \n",
       "124  gamma With Fixed 0 Location     0  \n",
       "125  gamma With Fixed 0 Location     0  \n",
       "\n",
       "[79 rows x 11 columns]"
      ]
     },
     "execution_count": 105,
     "metadata": {},
     "output_type": "execute_result"
    }
   ],
   "source": [
    "df_new"
   ]
  },
  {
   "cell_type": "code",
   "execution_count": 106,
   "metadata": {},
   "outputs": [
    {
     "name": "stdout",
     "output_type": "stream",
     "text": [
      "Exceptions(?):  [36, 53, 61, 70, 94, 98, 118]\n",
      "The length of the latent datset before and after filtering: (128, 10) | (56, 10)\n",
      "Number of noisy exceptional features deleted: 72\n"
     ]
    },
    {
     "name": "stderr",
     "output_type": "stream",
     "text": [
      "C:\\Users\\sahat\\AppData\\Local\\Temp\\ipykernel_37440\\1343122470.py:4: SettingWithCopyWarning: \n",
      "A value is trying to be set on a copy of a slice from a DataFrame.\n",
      "Try using .loc[row_indexer,col_indexer] = value instead\n",
      "\n",
      "See the caveats in the documentation: https://pandas.pydata.org/pandas-docs/stable/user_guide/indexing.html#returning-a-view-versus-a-copy\n",
      "  df_new['flag'] = 0\n"
     ]
    }
   ],
   "source": [
    "df_copy = copy.deepcopy(df)\n",
    "df_new = df_copy[df_copy['Probability of Event'] < alpha]\n",
    "\n",
    "df_new['flag'] = 0\n",
    "digit_weights = cnn.classifier[0].weight[original_query_label]\n",
    "\n",
    "for idx, row in df_new.iterrows():\n",
    "    feature_idx = int(row['Feature Map'])  \n",
    "\n",
    "    if row['Bern Fail']:  # if it's unusual to not activate, but it's negative\n",
    "        if digit_weights[feature_idx] < 0: \n",
    "            df_new.at[feature_idx, 'flag'] = 1\n",
    "    if row['Cont High']:  # if it's high, but positive\n",
    "        if digit_weights[feature_idx] > 0: \n",
    "            df_new.at[feature_idx, 'flag'] = 1\n",
    "    if row['Cont Low'] :  # if it's low, but negative\n",
    "        if digit_weights[feature_idx] < 0: \n",
    "            df_new.at[feature_idx, 'flag'] = 1\n",
    "\n",
    "exceptional_noise_idx = df_new[df_new.flag == 0].index.tolist()\n",
    "print('Exceptions(?): ', df_new[df_new.flag == 1].index.tolist())\n",
    "df_copy = df_copy.drop(index=exceptional_noise_idx, axis=0)\n",
    "print('The length of the latent datset before and after filtering:', df.shape, '|', df_copy.shape)\n",
    "print('Number of noisy exceptional features deleted:', len(exceptional_noise_idx))\n"
   ]
  },
  {
   "cell_type": "code",
   "execution_count": 108,
   "metadata": {},
   "outputs": [],
   "source": [
    "# Sort by least probable to the most probable\n",
    "df_copy = df_copy.sort_values('Probability of Event')\n",
    "\n",
    "# Get x' -- The Ideal Explanation\n",
    "ideal_xprime = modifying_exceptional_features(df_copy, original_query_label, query_activations)   \n",
    "ideal_xprime = ideal_xprime.clone().detach().float().requires_grad_(False)"
   ]
  },
  {
   "cell_type": "code",
   "execution_count": 109,
   "metadata": {},
   "outputs": [],
   "source": [
    "def optim_PIECE(G, cnn, x_prime, z_e, criterion, optimizer):\n",
    "\t\"\"\"\n",
    "\tStep 3 of the PIECE algorithm\n",
    "\treturns: z prime\n",
    "\t\"\"\"\n",
    "\n",
    "\tfor i in range(300):\n",
    "\n",
    "\t\toptimizer.zero_grad()\n",
    "\t\tlogits, x_e = cnn(G(z_e))\n",
    "\t\tloss = criterion(x_e[0], x_prime)\n",
    "\n",
    "\t\tloss.backward()  \n",
    "\t\toptimizer.step()  \n",
    "\n",
    "\t\tif i % 50 == 0:\n",
    "\t\t\tprint(\"Loss:\", loss.item())\n",
    "\n",
    "\treturn z_e"
   ]
  },
  {
   "cell_type": "code",
   "execution_count": 110,
   "metadata": {},
   "outputs": [
    {
     "name": "stdout",
     "output_type": "stream",
     "text": [
      "Loss: 0.013176127336919308\n",
      "Loss: 0.01156739890575409\n",
      "Loss: 0.01121441274881363\n",
      "Loss: 0.010827381163835526\n",
      "Loss: 0.01050705835223198\n",
      "Loss: 0.01024685800075531\n"
     ]
    }
   ],
   "source": [
    "criterion = nn.MSELoss()\n",
    "optimizer = optim.Adam([z_I], lr=0.001)\n",
    "z_prime = optim_PIECE(gen, cnn, ideal_xprime, z_I, criterion, optimizer)"
   ]
  },
  {
   "cell_type": "code",
   "execution_count": 111,
   "metadata": {},
   "outputs": [
    {
     "data": {
      "image/png": "[encoded data removed]",
      "text/plain": [
       "<Figure size 640x480 with 1 Axes>"
      ]
     },
     "metadata": {},
     "output_type": "display_data"
    },
    {
     "name": "stdout",
     "output_type": "stream",
     "text": [
      "Prediction of the CNN classifier: 6\n"
     ]
    }
   ],
   "source": [
    "counterfactual_image = gen(z_prime)\n",
    "plot_image(counterfactual_image)\n",
    "print('Prediction of the CNN classifier:', torch.argmax(cnn(counterfactual_image)[0]).numpy())"
   ]
  },
  {
   "cell_type": "code",
   "execution_count": null,
   "metadata": {},
   "outputs": [],
   "source": []
  }
 ],
 "metadata": {
  "kernelspec": {
   "display_name": "venv",
   "language": "python",
   "name": "python3"
  },
  "language_info": {
   "codemirror_mode": {
    "name": "ipython",
    "version": 3
   },
   "file_extension": ".py",
   "mimetype": "text/x-python",
   "name": "python",
   "nbconvert_exporter": "python",
   "pygments_lexer": "ipython3",
   "version": "3.11.4"
  }
 },
 "nbformat": 4,
 "nbformat_minor": 2
}
