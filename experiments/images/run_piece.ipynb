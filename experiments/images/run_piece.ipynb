{
 "cells": [
  {
   "cell_type": "code",
   "execution_count": 64,
   "metadata": {},
   "outputs": [],
   "source": [
    "import os.path as osp\n",
    "import numpy as np\n",
    "import pickle\n",
    "from tqdm import tqdm \n",
    "\n",
    "import matplotlib.pyplot as plt\n",
    "from PIL import Image\n",
    "\n",
    "import torch\n",
    "from torch import nn\n",
    "from torchvision import transforms\n",
    "from torch import optim\n",
    "\n",
    "import carla_visual as cv\n",
    "from carla_visual.dataloaders.online_dataset import load_online_dataset, build_dataloader\n",
    "\n",
    "from carla_visual.models.classifiers import PIECECNN\n",
    "from carla_visual.models.generators import PIECEGenerator\n",
    "\n",
    "from carla_visual.models.utils import fetch_weights, load_model_weights\n",
    "import carla_visual.evaluation.evaluate_prediction_model as epm\n",
    "\n",
    "import carla_visual.recourse_methods.piece.utils as putils  \n",
    "from carla_visual.plotting.plot_output import plot_misclassifications\n",
    "\n",
    "from carla_visual.plotting.plot_output import plot_image  "
   ]
  },
  {
   "cell_type": "code",
   "execution_count": 65,
   "metadata": {},
   "outputs": [],
   "source": [
    "np.random.seed(0)\n",
    "torch.manual_seed(0);"
   ]
  },
  {
   "cell_type": "markdown",
   "metadata": {},
   "source": [
    "# Prepare data"
   ]
  },
  {
   "cell_type": "code",
   "execution_count": 91,
   "metadata": {},
   "outputs": [
    {
     "name": "stdout",
     "output_type": "stream",
     "text": [
      "Shape of the train set:  torch.Size([60000, 28, 28])\n",
      "Shape of the test set:  torch.Size([10000, 28, 28])\n"
     ]
    }
   ],
   "source": [
    "ds_name = 'MNIST'\n",
    "data_root = 'D:\\PycharmProjects\\XAIRobustness\\data\\images'\n",
    "\n",
    "train_data, test_data = load_online_dataset(ds_name, data_root, download=False)\n",
    "print(f'Shape of the train set: ', train_data.data.shape)\n",
    "print(f'Shape of the test set: ', test_data.data.shape)"
   ]
  },
  {
   "cell_type": "code",
   "execution_count": 102,
   "metadata": {},
   "outputs": [
    {
     "name": "stdout",
     "output_type": "stream",
     "text": [
      "torch.float32\n",
      "torch.float32\n",
      "torch.float32\n",
      "torch.float32\n",
      "torch.float32\n",
      "torch.float32\n",
      "torch.float32\n",
      "torch.float32\n",
      "torch.float32\n",
      "torch.float32\n",
      "torch.float32\n",
      "torch.float32\n",
      "torch.float32\n",
      "torch.float32\n",
      "torch.float32\n",
      "torch.float32\n",
      "torch.float32\n",
      "torch.float32\n"
     ]
    }
   ],
   "source": [
    "from torch.utils.data import DataLoader\n",
    "\n",
    "\n",
    "indices = torch.nonzero(test_data.targets==1)\n",
    "images = test_data.data[indices].float()\n",
    "dl = DataLoader(images, batch_size=64)\n",
    "\n",
    "for d in dl:\n",
    "    print(d.dtype)"
   ]
  },
  {
   "cell_type": "code",
   "execution_count": 67,
   "metadata": {},
   "outputs": [],
   "source": [
    "input_shape = (28, 28, 1)\n",
    "input_chn = input_shape[-1]\n",
    "num_classes = 10\n",
    "batch_size = 1\n",
    "nz = 100\n",
    "device = 'cuda' if torch.cuda.is_available() else 'cpu'\n",
    "ngpu = 0 if device == 'cpu' else 1\n"
   ]
  },
  {
   "cell_type": "code",
   "execution_count": 68,
   "metadata": {},
   "outputs": [],
   "source": [
    "train_dataloader, test_dataloader = build_dataloader([train_data, test_data], \n",
    "                                                      batch_size=batch_size, \n",
    "                                                      shuffle=False)"
   ]
  },
  {
   "cell_type": "markdown",
   "metadata": {},
   "source": [
    "# Load pre-trained CNN and Generator "
   ]
  },
  {
   "cell_type": "code",
   "execution_count": 6,
   "metadata": {},
   "outputs": [],
   "source": [
    "original_cnn_weights = 'https://github.com/EoinKenny/AAAI-2021/raw/refs/heads/master/weights/pytorch_cnn.pth'\n",
    "original_gen_weights = 'https://github.com/EoinKenny/AAAI-2021/raw/refs/heads/master/weights/generator.pth'\n",
    "\n",
    "output_dir = 'D:\\PycharmProjects\\XAIRobustness\\CARLA_VISUAL\\carla_visual\\models\\weights\\piece'\n",
    "cnn_weights_file = 'cnn_weights.pth'\n",
    "gen_weights_file = 'generator_weights.pth'\n"
   ]
  },
  {
   "cell_type": "code",
   "execution_count": 22,
   "metadata": {},
   "outputs": [],
   "source": [
    "fetch_weights(original_cnn_weights, file_name=cnn_weights_file, output_dir=output_dir)\n",
    "fetch_weights(original_gen_weights, file_name=gen_weights_file, output_dir=output_dir)"
   ]
  },
  {
   "cell_type": "code",
   "execution_count": 7,
   "metadata": {},
   "outputs": [
    {
     "name": "stdout",
     "output_type": "stream",
     "text": [
      "Total number of parameters in the CNN: 143162\n"
     ]
    }
   ],
   "source": [
    "cnn = PIECECNN(input_chn, num_classes)\n",
    "print('Total number of parameters in the CNN:', cnn.get_params_num())\n",
    "cnn = load_model_weights(cnn, osp.join(output_dir, cnn_weights_file), device=device)"
   ]
  },
  {
   "cell_type": "code",
   "execution_count": 8,
   "metadata": {},
   "outputs": [
    {
     "name": "stderr",
     "output_type": "stream",
     "text": [
      "Evaluating: 100%|██████████| 10000/10000 [01:06<00:00, 150.95it/s]"
     ]
    },
    {
     "name": "stdout",
     "output_type": "stream",
     "text": [
      "Accuracy of the pre-trained CNN:  0.9932\n"
     ]
    },
    {
     "name": "stderr",
     "output_type": "stream",
     "text": [
      "\n"
     ]
    }
   ],
   "source": [
    "print('Accuracy of the pre-trained CNN: ', epm.evaluate_model(cnn, test_dataloader, device)['accuracy'])"
   ]
  },
  {
   "cell_type": "code",
   "execution_count": 8,
   "metadata": {},
   "outputs": [],
   "source": [
    "gen = PIECEGenerator(ngpu=ngpu)\n",
    "gen = load_model_weights(gen, osp.join(output_dir, gen_weights_file), device=device)"
   ]
  },
  {
   "cell_type": "markdown",
   "metadata": {},
   "source": [
    "Check the generative performance of the loaded generator "
   ]
  },
  {
   "cell_type": "code",
   "execution_count": 10,
   "metadata": {},
   "outputs": [
    {
     "data": {
      "image/png": "[encoded data removed]",
      "text/plain": [
       "<Figure size 640x480 with 1 Axes>"
      ]
     },
     "metadata": {},
     "output_type": "display_data"
    }
   ],
   "source": [
    "z = torch.randn(batch_size, nz)\n",
    "z = z.view(z.size(0), nz, 1, 1)\n",
    "generated_images = gen(z)\n",
    "plot_image(generated_images) "
   ]
  },
  {
   "cell_type": "markdown",
   "metadata": {},
   "source": [
    "# PIECE Algorithm  #"
   ]
  },
  {
   "cell_type": "markdown",
   "metadata": {},
   "source": [
    "PIECE algorithm generates counterfactual explanations for the given misclassified test instances. Therefore, the target counterfactual class is a correct label. In case of the correct classification, a target cf class is chosen during the optimization problem using a gradient ascent. The goal is to choose a target cf class when a desicion boundary is crossed for the first time. \n",
    "The following experiments are based on the provided implementation for misclassified instances. "
   ]
  },
  {
   "cell_type": "markdown",
   "metadata": {},
   "source": [
    "1) Obtaining misclassified instances "
   ]
  },
  {
   "cell_type": "code",
   "execution_count": 16,
   "metadata": {},
   "outputs": [],
   "source": [
    "# Upload already calculated misclassified instances which is a list of tuples with an original misclasssified image, a ground-truth label, and a predicted label\n",
    "\n",
    "LOAD_MISCLASSIFIED_SAMPLES = True\n",
    "\n",
    "if LOAD_MISCLASSIFIED_SAMPLES:\n",
    "    misclf_samples_path = r'D:\\PycharmProjects\\XAIRobustness\\CARLA_VISUAL\\carla_visual\\recourse_methods\\piece\\misclassified_instances\\misclassified_instances.pickle'\n",
    "\n",
    "    with open(misclf_samples_path, 'rb') as f:\n",
    "        misclf_samples = pickle.load(f)\n",
    "else:\n",
    "    misclf_samples = putils.get_misclassifications(cnn, test_dataloader, device) \n",
    "    print('Number of misclassified test images: ', len(misclf_samples))\n",
    "\n",
    "    with open(r'D:\\PycharmProjects\\XAIRobustness\\CARLA_VISUAL\\carla_visual\\recourse_methods\\piece\\misclassified_instances\\misclassified_instances.pickle', 'wb') as f:\n",
    "        pickle.dump(misclf_samples, f)"
   ]
  },
  {
   "cell_type": "code",
   "execution_count": 10,
   "metadata": {},
   "outputs": [
    {
     "data": {
      "image/png": "[encoded data removed]",
      "text/plain": [
       "<Figure size 1000x800 with 10 Axes>"
      ]
     },
     "metadata": {},
     "output_type": "display_data"
    }
   ],
   "source": [
    "plot_misclassifications(misclf_samples[:10])"
   ]
  },
  {
   "cell_type": "markdown",
   "metadata": {},
   "source": [
    "2) Identifying the latent vector that corresponds to the given misclassified image"
   ]
  },
  {
   "cell_type": "code",
   "execution_count": 20,
   "metadata": {},
   "outputs": [
    {
     "name": "stderr",
     "output_type": "stream",
     "text": [
      "100%|██████████| 68/68 [14:17<00:00, 12.62s/it]\n"
     ]
    }
   ],
   "source": [
    "LOAD_MISCLF_AND_LV = True\n",
    "\n",
    "if LOAD_MISCLF_AND_LV:\n",
    "    misclf_samples_info_path = r'D:\\PycharmProjects\\XAIRobustness\\CARLA_VISUAL\\carla_visual\\recourse_methods\\piece\\misclassified_instances\\misclassified_instances_and_latent_vectors.pickle'\n",
    "\n",
    "    with open(misclf_samples_info_path, 'rb') as f:\n",
    "        misclf_samples_info = pickle.load(f)\n",
    "\n",
    "else:\n",
    "    misclf_samples_info = []\n",
    "\n",
    "    for mscl_sample in tqdm(misclf_samples):\n",
    "        img, label, pred = mscl_sample\n",
    "        img = img.unsqueeze(0)\n",
    "        latent_vector = putils.optimize_z0(gen, cnn.main, img, nz, num_iterations=400)\n",
    "        sample_info = {'image': img, 'label': label, \n",
    "                    'prediction': pred, 'latent_vector': latent_vector}\n",
    "        misclf_samples_info.append(sample_info) \n",
    "\n",
    "    # Save calculated latent vectors \n",
    "    misclf_samples_info_path = r'D:\\PycharmProjects\\XAIRobustness\\CARLA_VISUAL\\carla_visual\\recourse_methods\\piece\\misclassified_instances\\misclassified_instances_and_latent_vectors.pickle'\n",
    "\n",
    "    with open(misclf_samples_info_path, 'wb') as f:\n",
    "        pickle.dump(misclf_samples_info, f)\n"
   ]
  },
  {
   "cell_type": "code",
   "execution_count": 22,
   "metadata": {},
   "outputs": [
    {
     "data": {
      "image/png": "[encoded data removed]",
      "text/plain": [
       "<Figure size 640x480 with 1 Axes>"
      ]
     },
     "metadata": {},
     "output_type": "display_data"
    }
   ],
   "source": [
    "original_query_img = misclf_samples_info[0]['image']\n",
    "plot_image(original_query_img)"
   ]
  },
  {
   "cell_type": "code",
   "execution_count": 23,
   "metadata": {},
   "outputs": [
    {
     "data": {
      "image/png": "[encoded data removed]",
      "text/plain": [
       "<Figure size 640x480 with 1 Axes>"
      ]
     },
     "metadata": {},
     "output_type": "display_data"
    }
   ],
   "source": [
    "plot_image(gen(misclf_samples_info[0]['latent_vector']))"
   ]
  },
  {
   "cell_type": "code",
   "execution_count": 18,
   "metadata": {},
   "outputs": [],
   "source": [
    "query_activations = cnn(gen(z_I))[1][0]"
   ]
  },
  {
   "cell_type": "markdown",
   "metadata": {},
   "source": [
    "3) Constructing a latent dataset for training data (THE FUNCTION 'return_feature_contribution_data' IS TIME-CONSUMING!)"
   ]
  },
  {
   "cell_type": "code",
   "execution_count": 25,
   "metadata": {},
   "outputs": [],
   "source": [
    "LOAD_LATENT_ACTIVATIONS = True \n",
    "\n",
    "latent_ds_path = r'D:\\PycharmProjects\\XAIRobustness\\CARLA_VISUAL\\carla_visual\\recourse_methods\\piece\\latent_activations\\latent_mnist_dataset.pickle'\n",
    "\n",
    "\n",
    "if not LOAD_LATENT_ACTIVATIONS:\n",
    "    # On this step, we construct a latent datset that constitute the logits of the all training data and the corresponding for them predictions \n",
    "    latent_ds = putils.return_feature_contribution_data(train_dataloader, cnn, num_classes=10)\n",
    "\n",
    "    # Pickle calculated activations and their corresponding predictions\n",
    "    with open(latent_ds_path, 'wb') as handle:\n",
    "        pickle.dump(latent_ds, handle, protocol=pickle.HIGHEST_PROTOCOL)\n",
    "else:\n",
    "    # Load pre-calculated latent dataset\n",
    "    with open(latent_ds_path, 'rb') as handle:\n",
    "        latent_ds = pickle.load(handle)"
   ]
  },
  {
   "cell_type": "markdown",
   "metadata": {},
   "source": [
    "4) Step 1: Acquire the probability of each features, and identify the excpetional ones (i.e., those with a probability lower than alpha)"
   ]
  },
  {
   "cell_type": "markdown",
   "metadata": {},
   "source": [
    "5) Step 2: Filter out exceptional features which we want to change, and change them to their expected values in the counterfactual class"
   ]
  },
  {
   "cell_type": "code",
   "execution_count": 26,
   "metadata": {},
   "outputs": [],
   "source": [
    "alpha = 0.05"
   ]
  },
  {
   "cell_type": "code",
   "execution_count": 35,
   "metadata": {},
   "outputs": [
    {
     "name": "stderr",
     "output_type": "stream",
     "text": [
      "0it [00:00, ?it/s]"
     ]
    },
    {
     "name": "stdout",
     "output_type": "stream",
     "text": [
      "Processing instance 0 for the generation of counterfactual explanation\n",
      "Identifying the most expectional features\n"
     ]
    },
    {
     "name": "stderr",
     "output_type": "stream",
     "text": [
      "d:\\pycharmprojects\\xairobustness\\carla_visual\\carla_visual\\recourse_methods\\piece\\utils.py:226: SettingWithCopyWarning: \n",
      "A value is trying to be set on a copy of a slice from a DataFrame.\n",
      "Try using .loc[row_indexer,col_indexer] = value instead\n",
      "\n",
      "See the caveats in the documentation: https://pandas.pydata.org/pandas-docs/stable/user_guide/indexing.html#returning-a-view-versus-a-copy\n",
      "  df_new['flag'] = 0\n"
     ]
    },
    {
     "name": "stdout",
     "output_type": "stream",
     "text": [
      "Exceptions(?):  [16, 37, 106, 115]\n",
      "The length of the latent datset before and after filtering: (128, 10) | (60, 10)\n",
      "Number of noisy exceptional features deleted: 68\n",
      "Correcting the activations X\n",
      "Optimizing the latent vector\n",
      "Loss: 0.007391198072582483\n",
      "Loss: 0.005797310266643763\n",
      "Loss: 0.005782019812613726\n",
      "Loss: 0.005773212760686874\n",
      "Loss: 0.005765813868492842\n",
      "Loss: 0.005757696460932493\n",
      "Loss: 0.005750156007707119\n",
      "Loss: 0.005742586217820644\n",
      "Loss: 0.005734917242079973\n",
      "Loss: 0.00572773814201355\n"
     ]
    },
    {
     "name": "stderr",
     "output_type": "stream",
     "text": [
      "1it [00:31, 31.37s/it]"
     ]
    },
    {
     "name": "stdout",
     "output_type": "stream",
     "text": [
      "Processing instance 1 for the generation of counterfactual explanation\n",
      "Identifying the most expectional features\n"
     ]
    },
    {
     "name": "stderr",
     "output_type": "stream",
     "text": [
      "d:\\pycharmprojects\\xairobustness\\carla_visual\\carla_visual\\recourse_methods\\piece\\utils.py:226: SettingWithCopyWarning: \n",
      "A value is trying to be set on a copy of a slice from a DataFrame.\n",
      "Try using .loc[row_indexer,col_indexer] = value instead\n",
      "\n",
      "See the caveats in the documentation: https://pandas.pydata.org/pandas-docs/stable/user_guide/indexing.html#returning-a-view-versus-a-copy\n",
      "  df_new['flag'] = 0\n"
     ]
    },
    {
     "name": "stdout",
     "output_type": "stream",
     "text": [
      "Exceptions(?):  [42]\n",
      "The length of the latent datset before and after filtering: (128, 10) | (63, 10)\n",
      "Number of noisy exceptional features deleted: 65\n",
      "Correcting the activations X\n",
      "Optimizing the latent vector\n",
      "Loss: 0.005245736800134182\n",
      "Loss: 0.003991015255451202\n",
      "Loss: 0.003764460328966379\n",
      "Loss: 0.003674248466268182\n",
      "Loss: 0.003619380760937929\n",
      "Loss: 0.003591768676415086\n",
      "Loss: 0.0035713729448616505\n",
      "Loss: 0.0035544047132134438\n",
      "Loss: 0.0035383817739784718\n",
      "Loss: 0.003523018676787615\n"
     ]
    },
    {
     "name": "stderr",
     "output_type": "stream",
     "text": [
      "2it [01:04, 32.19s/it]"
     ]
    },
    {
     "name": "stdout",
     "output_type": "stream",
     "text": [
      "Processing instance 2 for the generation of counterfactual explanation\n",
      "Identifying the most expectional features\n"
     ]
    },
    {
     "name": "stderr",
     "output_type": "stream",
     "text": [
      "d:\\pycharmprojects\\xairobustness\\carla_visual\\carla_visual\\recourse_methods\\piece\\utils.py:226: SettingWithCopyWarning: \n",
      "A value is trying to be set on a copy of a slice from a DataFrame.\n",
      "Try using .loc[row_indexer,col_indexer] = value instead\n",
      "\n",
      "See the caveats in the documentation: https://pandas.pydata.org/pandas-docs/stable/user_guide/indexing.html#returning-a-view-versus-a-copy\n",
      "  df_new['flag'] = 0\n"
     ]
    },
    {
     "name": "stdout",
     "output_type": "stream",
     "text": [
      "Exceptions(?):  [47, 73, 75, 110, 113, 117, 126]\n",
      "The length of the latent datset before and after filtering: (128, 10) | (72, 10)\n",
      "Number of noisy exceptional features deleted: 56\n",
      "Correcting the activations X\n",
      "Optimizing the latent vector\n",
      "Loss: 0.0115139689296484\n",
      "Loss: 0.0106825465336442\n",
      "Loss: 0.01014158595353365\n",
      "Loss: 0.0099916011095047\n",
      "Loss: 0.009867901913821697\n",
      "Loss: 0.00978558138012886\n",
      "Loss: 0.009686935693025589\n",
      "Loss: 0.009601837955415249\n",
      "Loss: 0.009545840322971344\n",
      "Loss: 0.009503873065114021\n"
     ]
    },
    {
     "name": "stderr",
     "output_type": "stream",
     "text": [
      "3it [01:42, 34.95s/it]"
     ]
    },
    {
     "name": "stdout",
     "output_type": "stream",
     "text": [
      "Processing instance 3 for the generation of counterfactual explanation\n",
      "Identifying the most expectional features\n"
     ]
    },
    {
     "name": "stderr",
     "output_type": "stream",
     "text": [
      "d:\\pycharmprojects\\xairobustness\\carla_visual\\carla_visual\\recourse_methods\\piece\\utils.py:226: SettingWithCopyWarning: \n",
      "A value is trying to be set on a copy of a slice from a DataFrame.\n",
      "Try using .loc[row_indexer,col_indexer] = value instead\n",
      "\n",
      "See the caveats in the documentation: https://pandas.pydata.org/pandas-docs/stable/user_guide/indexing.html#returning-a-view-versus-a-copy\n",
      "  df_new['flag'] = 0\n"
     ]
    },
    {
     "name": "stdout",
     "output_type": "stream",
     "text": [
      "Exceptions(?):  [66, 99]\n",
      "The length of the latent datset before and after filtering: (128, 10) | (65, 10)\n",
      "Number of noisy exceptional features deleted: 63\n",
      "Correcting the activations X\n",
      "Optimizing the latent vector\n",
      "Loss: 0.05162421613931656\n",
      "Loss: 0.0485432893037796\n",
      "Loss: 0.04710545018315315\n",
      "Loss: 0.04612857848405838\n",
      "Loss: 0.04515368118882179\n",
      "Loss: 0.04441763833165169\n",
      "Loss: 0.04393983259797096\n",
      "Loss: 0.04343479499220848\n",
      "Loss: 0.04269997030496597\n",
      "Loss: 0.04216194897890091\n"
     ]
    },
    {
     "name": "stderr",
     "output_type": "stream",
     "text": [
      "4it [02:17, 35.10s/it]"
     ]
    },
    {
     "name": "stdout",
     "output_type": "stream",
     "text": [
      "Processing instance 4 for the generation of counterfactual explanation\n",
      "Identifying the most expectional features\n"
     ]
    },
    {
     "name": "stderr",
     "output_type": "stream",
     "text": [
      "d:\\pycharmprojects\\xairobustness\\carla_visual\\carla_visual\\recourse_methods\\piece\\utils.py:226: SettingWithCopyWarning: \n",
      "A value is trying to be set on a copy of a slice from a DataFrame.\n",
      "Try using .loc[row_indexer,col_indexer] = value instead\n",
      "\n",
      "See the caveats in the documentation: https://pandas.pydata.org/pandas-docs/stable/user_guide/indexing.html#returning-a-view-versus-a-copy\n",
      "  df_new['flag'] = 0\n"
     ]
    },
    {
     "name": "stdout",
     "output_type": "stream",
     "text": [
      "Exceptions(?):  [98]\n",
      "The length of the latent datset before and after filtering: (128, 10) | (51, 10)\n",
      "Number of noisy exceptional features deleted: 77\n",
      "Correcting the activations X\n",
      "Optimizing the latent vector\n",
      "Loss: 0.006898417137563229\n",
      "Loss: 0.005577011965215206\n",
      "Loss: 0.004875827115029097\n",
      "Loss: 0.004664108157157898\n",
      "Loss: 0.004578916821628809\n",
      "Loss: 0.004539750516414642\n",
      "Loss: 0.004512676503509283\n",
      "Loss: 0.004500254523009062\n",
      "Loss: 0.004489907994866371\n",
      "Loss: 0.004480072297155857\n"
     ]
    },
    {
     "name": "stderr",
     "output_type": "stream",
     "text": [
      "5it [02:56, 36.46s/it]"
     ]
    },
    {
     "name": "stdout",
     "output_type": "stream",
     "text": [
      "Processing instance 5 for the generation of counterfactual explanation\n",
      "Identifying the most expectional features\n"
     ]
    },
    {
     "name": "stderr",
     "output_type": "stream",
     "text": [
      "d:\\pycharmprojects\\xairobustness\\carla_visual\\carla_visual\\recourse_methods\\piece\\utils.py:226: SettingWithCopyWarning: \n",
      "A value is trying to be set on a copy of a slice from a DataFrame.\n",
      "Try using .loc[row_indexer,col_indexer] = value instead\n",
      "\n",
      "See the caveats in the documentation: https://pandas.pydata.org/pandas-docs/stable/user_guide/indexing.html#returning-a-view-versus-a-copy\n",
      "  df_new['flag'] = 0\n"
     ]
    },
    {
     "name": "stdout",
     "output_type": "stream",
     "text": [
      "Exceptions(?):  [31, 33, 47, 54, 55, 61, 63, 81, 89, 104, 123]\n",
      "The length of the latent datset before and after filtering: (128, 10) | (75, 10)\n",
      "Number of noisy exceptional features deleted: 53\n",
      "Correcting the activations X\n",
      "Optimizing the latent vector\n",
      "Loss: 0.008232442662119865\n",
      "Loss: 0.007702896371483803\n",
      "Loss: 0.00763321528211236\n",
      "Loss: 0.0075571537017822266\n",
      "Loss: 0.006773156579583883\n",
      "Loss: 0.006657414138317108\n",
      "Loss: 0.0065913330763578415\n",
      "Loss: 0.00654166005551815\n",
      "Loss: 0.006438275799155235\n",
      "Loss: 0.00637428555637598\n"
     ]
    },
    {
     "name": "stderr",
     "output_type": "stream",
     "text": [
      "6it [03:34, 36.88s/it]"
     ]
    },
    {
     "name": "stdout",
     "output_type": "stream",
     "text": [
      "Processing instance 6 for the generation of counterfactual explanation\n",
      "Identifying the most expectional features\n"
     ]
    },
    {
     "name": "stderr",
     "output_type": "stream",
     "text": [
      "d:\\pycharmprojects\\xairobustness\\carla_visual\\carla_visual\\recourse_methods\\piece\\utils.py:226: SettingWithCopyWarning: \n",
      "A value is trying to be set on a copy of a slice from a DataFrame.\n",
      "Try using .loc[row_indexer,col_indexer] = value instead\n",
      "\n",
      "See the caveats in the documentation: https://pandas.pydata.org/pandas-docs/stable/user_guide/indexing.html#returning-a-view-versus-a-copy\n",
      "  df_new['flag'] = 0\n"
     ]
    },
    {
     "name": "stdout",
     "output_type": "stream",
     "text": [
      "Exceptions(?):  [15, 22, 48, 80, 99, 121]\n",
      "The length of the latent datset before and after filtering: (128, 10) | (58, 10)\n",
      "Number of noisy exceptional features deleted: 70\n",
      "Correcting the activations X\n",
      "Optimizing the latent vector\n",
      "Loss: 0.024566352367401123\n",
      "Loss: 0.02129431813955307\n",
      "Loss: 0.0193219855427742\n",
      "Loss: 0.017854612320661545\n",
      "Loss: 0.016946913674473763\n",
      "Loss: 0.016597969457507133\n",
      "Loss: 0.016280852258205414\n",
      "Loss: 0.015998760238289833\n",
      "Loss: 0.01551438495516777\n",
      "Loss: 0.015091217122972012\n"
     ]
    },
    {
     "name": "stderr",
     "output_type": "stream",
     "text": [
      "7it [04:10, 36.58s/it]"
     ]
    },
    {
     "name": "stdout",
     "output_type": "stream",
     "text": [
      "Processing instance 7 for the generation of counterfactual explanation\n",
      "Identifying the most expectional features\n"
     ]
    },
    {
     "name": "stderr",
     "output_type": "stream",
     "text": [
      "d:\\pycharmprojects\\xairobustness\\carla_visual\\carla_visual\\recourse_methods\\piece\\utils.py:226: SettingWithCopyWarning: \n",
      "A value is trying to be set on a copy of a slice from a DataFrame.\n",
      "Try using .loc[row_indexer,col_indexer] = value instead\n",
      "\n",
      "See the caveats in the documentation: https://pandas.pydata.org/pandas-docs/stable/user_guide/indexing.html#returning-a-view-versus-a-copy\n",
      "  df_new['flag'] = 0\n"
     ]
    },
    {
     "name": "stdout",
     "output_type": "stream",
     "text": [
      "Exceptions(?):  [0, 13, 18, 29, 58, 73, 75, 110, 125]\n",
      "The length of the latent datset before and after filtering: (128, 10) | (71, 10)\n",
      "Number of noisy exceptional features deleted: 57\n",
      "Correcting the activations X\n",
      "Optimizing the latent vector\n",
      "Loss: 0.022869199514389038\n",
      "Loss: 0.020867938175797462\n",
      "Loss: 0.02016800455749035\n",
      "Loss: 0.019795240834355354\n",
      "Loss: 0.019362162798643112\n",
      "Loss: 0.019086480140686035\n",
      "Loss: 0.018900834023952484\n",
      "Loss: 0.01871110498905182\n",
      "Loss: 0.018488921225070953\n",
      "Loss: 0.01826687529683113\n"
     ]
    },
    {
     "name": "stderr",
     "output_type": "stream",
     "text": [
      "8it [04:44, 35.70s/it]"
     ]
    },
    {
     "name": "stdout",
     "output_type": "stream",
     "text": [
      "Processing instance 8 for the generation of counterfactual explanation\n",
      "Identifying the most expectional features\n"
     ]
    },
    {
     "name": "stderr",
     "output_type": "stream",
     "text": [
      "d:\\pycharmprojects\\xairobustness\\carla_visual\\carla_visual\\recourse_methods\\piece\\utils.py:226: SettingWithCopyWarning: \n",
      "A value is trying to be set on a copy of a slice from a DataFrame.\n",
      "Try using .loc[row_indexer,col_indexer] = value instead\n",
      "\n",
      "See the caveats in the documentation: https://pandas.pydata.org/pandas-docs/stable/user_guide/indexing.html#returning-a-view-versus-a-copy\n",
      "  df_new['flag'] = 0\n"
     ]
    },
    {
     "name": "stdout",
     "output_type": "stream",
     "text": [
      "Exceptions(?):  [8, 10, 12, 14, 27, 29, 41, 44, 47, 64, 73, 76, 81, 83, 85, 109, 113, 122, 123, 125]\n",
      "The length of the latent datset before and after filtering: (128, 10) | (67, 10)\n",
      "Number of noisy exceptional features deleted: 61\n",
      "Correcting the activations X\n",
      "Optimizing the latent vector\n",
      "Loss: 0.006100550293922424\n",
      "Loss: 0.005311734974384308\n",
      "Loss: 0.005249631591141224\n",
      "Loss: 0.005150852724909782\n",
      "Loss: 0.005102221388369799\n",
      "Loss: 0.0050586313009262085\n",
      "Loss: 0.005043477285653353\n",
      "Loss: 0.005034582689404488\n",
      "Loss: 0.005026466678828001\n",
      "Loss: 0.005021283868700266\n"
     ]
    },
    {
     "name": "stderr",
     "output_type": "stream",
     "text": [
      "9it [05:25, 37.47s/it]"
     ]
    },
    {
     "name": "stdout",
     "output_type": "stream",
     "text": [
      "Processing instance 9 for the generation of counterfactual explanation\n",
      "Identifying the most expectional features\n"
     ]
    },
    {
     "name": "stderr",
     "output_type": "stream",
     "text": [
      "d:\\pycharmprojects\\xairobustness\\carla_visual\\carla_visual\\recourse_methods\\piece\\utils.py:226: SettingWithCopyWarning: \n",
      "A value is trying to be set on a copy of a slice from a DataFrame.\n",
      "Try using .loc[row_indexer,col_indexer] = value instead\n",
      "\n",
      "See the caveats in the documentation: https://pandas.pydata.org/pandas-docs/stable/user_guide/indexing.html#returning-a-view-versus-a-copy\n",
      "  df_new['flag'] = 0\n"
     ]
    },
    {
     "name": "stdout",
     "output_type": "stream",
     "text": [
      "Exceptions(?):  [24, 45, 49, 59, 66, 71, 84, 87, 98, 100, 101, 103, 107, 126]\n",
      "The length of the latent datset before and after filtering: (128, 10) | (71, 10)\n",
      "Number of noisy exceptional features deleted: 57\n",
      "Correcting the activations X\n",
      "Optimizing the latent vector\n",
      "Loss: 0.002707390347495675\n",
      "Loss: 0.0021656553726643324\n",
      "Loss: 0.0020773853175342083\n",
      "Loss: 0.0020422963425517082\n",
      "Loss: 0.0020184714812785387\n",
      "Loss: 0.0019922892097383738\n",
      "Loss: 0.001969934906810522\n",
      "Loss: 0.0019502041395753622\n",
      "Loss: 0.0019298434490337968\n",
      "Loss: 0.001905130222439766\n"
     ]
    },
    {
     "name": "stderr",
     "output_type": "stream",
     "text": [
      "10it [05:59, 36.45s/it]"
     ]
    },
    {
     "name": "stdout",
     "output_type": "stream",
     "text": [
      "Processing instance 10 for the generation of counterfactual explanation\n",
      "Identifying the most expectional features\n"
     ]
    },
    {
     "name": "stderr",
     "output_type": "stream",
     "text": [
      "d:\\pycharmprojects\\xairobustness\\carla_visual\\carla_visual\\recourse_methods\\piece\\utils.py:226: SettingWithCopyWarning: \n",
      "A value is trying to be set on a copy of a slice from a DataFrame.\n",
      "Try using .loc[row_indexer,col_indexer] = value instead\n",
      "\n",
      "See the caveats in the documentation: https://pandas.pydata.org/pandas-docs/stable/user_guide/indexing.html#returning-a-view-versus-a-copy\n",
      "  df_new['flag'] = 0\n"
     ]
    },
    {
     "name": "stdout",
     "output_type": "stream",
     "text": [
      "Exceptions(?):  [0, 13, 14, 17, 27, 40, 62, 73, 76, 85, 91, 110, 113, 118, 125]\n",
      "The length of the latent datset before and after filtering: (128, 10) | (75, 10)\n",
      "Number of noisy exceptional features deleted: 53\n",
      "Correcting the activations X\n",
      "Optimizing the latent vector\n",
      "Loss: 0.00593540770933032\n",
      "Loss: 0.005638883449137211\n",
      "Loss: 0.005447419360280037\n",
      "Loss: 0.005321998614817858\n",
      "Loss: 0.005271760746836662\n",
      "Loss: 0.005230064038187265\n",
      "Loss: 0.005200743675231934\n",
      "Loss: 0.005173252895474434\n",
      "Loss: 0.005158645566552877\n",
      "Loss: 0.005143372341990471\n"
     ]
    },
    {
     "name": "stderr",
     "output_type": "stream",
     "text": [
      "11it [06:41, 38.00s/it]"
     ]
    },
    {
     "name": "stdout",
     "output_type": "stream",
     "text": [
      "Processing instance 11 for the generation of counterfactual explanation\n",
      "Identifying the most expectional features\n"
     ]
    },
    {
     "name": "stderr",
     "output_type": "stream",
     "text": [
      "d:\\pycharmprojects\\xairobustness\\carla_visual\\carla_visual\\recourse_methods\\piece\\utils.py:226: SettingWithCopyWarning: \n",
      "A value is trying to be set on a copy of a slice from a DataFrame.\n",
      "Try using .loc[row_indexer,col_indexer] = value instead\n",
      "\n",
      "See the caveats in the documentation: https://pandas.pydata.org/pandas-docs/stable/user_guide/indexing.html#returning-a-view-versus-a-copy\n",
      "  df_new['flag'] = 0\n"
     ]
    },
    {
     "name": "stdout",
     "output_type": "stream",
     "text": [
      "Exceptions(?):  [36, 42, 53, 60, 70, 94, 98, 118]\n",
      "The length of the latent datset before and after filtering: (128, 10) | (65, 10)\n",
      "Number of noisy exceptional features deleted: 63\n",
      "Correcting the activations X\n",
      "Optimizing the latent vector\n",
      "Loss: 0.01090258825570345\n",
      "Loss: 0.009320376440882683\n",
      "Loss: 0.008794981986284256\n",
      "Loss: 0.008227159269154072\n",
      "Loss: 0.007452311925590038\n",
      "Loss: 0.007027032319456339\n",
      "Loss: 0.0066508031450212\n",
      "Loss: 0.006299477536231279\n",
      "Loss: 0.006029353942722082\n",
      "Loss: 0.005892784800380468\n"
     ]
    },
    {
     "name": "stderr",
     "output_type": "stream",
     "text": [
      "12it [07:16, 37.18s/it]"
     ]
    },
    {
     "name": "stdout",
     "output_type": "stream",
     "text": [
      "Processing instance 12 for the generation of counterfactual explanation\n",
      "Identifying the most expectional features\n"
     ]
    },
    {
     "name": "stderr",
     "output_type": "stream",
     "text": [
      "d:\\pycharmprojects\\xairobustness\\carla_visual\\carla_visual\\recourse_methods\\piece\\utils.py:226: SettingWithCopyWarning: \n",
      "A value is trying to be set on a copy of a slice from a DataFrame.\n",
      "Try using .loc[row_indexer,col_indexer] = value instead\n",
      "\n",
      "See the caveats in the documentation: https://pandas.pydata.org/pandas-docs/stable/user_guide/indexing.html#returning-a-view-versus-a-copy\n",
      "  df_new['flag'] = 0\n"
     ]
    },
    {
     "name": "stdout",
     "output_type": "stream",
     "text": [
      "Exceptions(?):  [36, 58, 75, 113, 117, 126]\n",
      "The length of the latent datset before and after filtering: (128, 10) | (92, 10)\n",
      "Number of noisy exceptional features deleted: 36\n",
      "Correcting the activations X\n",
      "Optimizing the latent vector\n",
      "Loss: 0.009438827633857727\n",
      "Loss: 0.008402830921113491\n",
      "Loss: 0.0082966024056077\n",
      "Loss: 0.00822425913065672\n",
      "Loss: 0.008161074481904507\n",
      "Loss: 0.008112247101962566\n",
      "Loss: 0.008064957335591316\n",
      "Loss: 0.008028583601117134\n",
      "Loss: 0.007963708601891994\n",
      "Loss: 0.007921010255813599\n"
     ]
    },
    {
     "name": "stderr",
     "output_type": "stream",
     "text": [
      "13it [07:52, 36.71s/it]"
     ]
    },
    {
     "name": "stdout",
     "output_type": "stream",
     "text": [
      "Processing instance 13 for the generation of counterfactual explanation\n",
      "Identifying the most expectional features\n"
     ]
    },
    {
     "name": "stderr",
     "output_type": "stream",
     "text": [
      "d:\\pycharmprojects\\xairobustness\\carla_visual\\carla_visual\\recourse_methods\\piece\\utils.py:226: SettingWithCopyWarning: \n",
      "A value is trying to be set on a copy of a slice from a DataFrame.\n",
      "Try using .loc[row_indexer,col_indexer] = value instead\n",
      "\n",
      "See the caveats in the documentation: https://pandas.pydata.org/pandas-docs/stable/user_guide/indexing.html#returning-a-view-versus-a-copy\n",
      "  df_new['flag'] = 0\n"
     ]
    },
    {
     "name": "stdout",
     "output_type": "stream",
     "text": [
      "Exceptions(?):  [31, 55, 63, 81, 89, 104]\n",
      "The length of the latent datset before and after filtering: (128, 10) | (60, 10)\n",
      "Number of noisy exceptional features deleted: 68\n",
      "Correcting the activations X\n",
      "Optimizing the latent vector\n",
      "Loss: 0.05873939394950867\n",
      "Loss: 0.0578707680106163\n",
      "Loss: 0.057142533361911774\n",
      "Loss: 0.05654841288924217\n",
      "Loss: 0.05620916187763214\n",
      "Loss: 0.0560070164501667\n",
      "Loss: 0.055835749953985214\n",
      "Loss: 0.055688004940748215\n",
      "Loss: 0.05554640293121338\n",
      "Loss: 0.055402740836143494\n"
     ]
    },
    {
     "name": "stderr",
     "output_type": "stream",
     "text": [
      "14it [08:27, 36.42s/it]"
     ]
    },
    {
     "name": "stdout",
     "output_type": "stream",
     "text": [
      "Processing instance 14 for the generation of counterfactual explanation\n",
      "Identifying the most expectional features\n"
     ]
    },
    {
     "name": "stderr",
     "output_type": "stream",
     "text": [
      "d:\\pycharmprojects\\xairobustness\\carla_visual\\carla_visual\\recourse_methods\\piece\\utils.py:226: SettingWithCopyWarning: \n",
      "A value is trying to be set on a copy of a slice from a DataFrame.\n",
      "Try using .loc[row_indexer,col_indexer] = value instead\n",
      "\n",
      "See the caveats in the documentation: https://pandas.pydata.org/pandas-docs/stable/user_guide/indexing.html#returning-a-view-versus-a-copy\n",
      "  df_new['flag'] = 0\n"
     ]
    },
    {
     "name": "stdout",
     "output_type": "stream",
     "text": [
      "Exceptions(?):  [30, 32, 39, 54, 57, 58, 78, 90, 94, 104, 124]\n",
      "The length of the latent datset before and after filtering: (128, 10) | (98, 10)\n",
      "Number of noisy exceptional features deleted: 30\n",
      "Correcting the activations X\n",
      "Optimizing the latent vector\n",
      "Loss: 0.053524553775787354\n",
      "Loss: 0.0517265722155571\n",
      "Loss: 0.05148635059595108\n",
      "Loss: 0.05087905377149582\n",
      "Loss: 0.05041753128170967\n",
      "Loss: 0.05002834275364876\n",
      "Loss: 0.04967004433274269\n",
      "Loss: 0.04921388253569603\n",
      "Loss: 0.04879932850599289\n",
      "Loss: 0.048237431794404984\n"
     ]
    },
    {
     "name": "stderr",
     "output_type": "stream",
     "text": [
      "15it [09:00, 35.17s/it]"
     ]
    },
    {
     "name": "stdout",
     "output_type": "stream",
     "text": [
      "Processing instance 15 for the generation of counterfactual explanation\n",
      "Identifying the most expectional features\n"
     ]
    },
    {
     "name": "stderr",
     "output_type": "stream",
     "text": [
      "d:\\pycharmprojects\\xairobustness\\carla_visual\\carla_visual\\recourse_methods\\piece\\utils.py:226: SettingWithCopyWarning: \n",
      "A value is trying to be set on a copy of a slice from a DataFrame.\n",
      "Try using .loc[row_indexer,col_indexer] = value instead\n",
      "\n",
      "See the caveats in the documentation: https://pandas.pydata.org/pandas-docs/stable/user_guide/indexing.html#returning-a-view-versus-a-copy\n",
      "  df_new['flag'] = 0\n"
     ]
    },
    {
     "name": "stdout",
     "output_type": "stream",
     "text": [
      "Exceptions(?):  [55, 61, 90]\n",
      "The length of the latent datset before and after filtering: (128, 10) | (76, 10)\n",
      "Number of noisy exceptional features deleted: 52\n",
      "Correcting the activations X\n",
      "Optimizing the latent vector\n",
      "Loss: 0.017180070281028748\n",
      "Loss: 0.016866572201251984\n",
      "Loss: 0.01676325500011444\n",
      "Loss: 0.01665758714079857\n",
      "Loss: 0.016534801572561264\n",
      "Loss: 0.016429632902145386\n",
      "Loss: 0.016314076259732246\n",
      "Loss: 0.016195211559534073\n",
      "Loss: 0.01605829782783985\n",
      "Loss: 0.015923572704195976\n"
     ]
    },
    {
     "name": "stderr",
     "output_type": "stream",
     "text": [
      "16it [09:36, 35.53s/it]"
     ]
    },
    {
     "name": "stdout",
     "output_type": "stream",
     "text": [
      "Processing instance 16 for the generation of counterfactual explanation\n",
      "Identifying the most expectional features\n"
     ]
    },
    {
     "name": "stderr",
     "output_type": "stream",
     "text": [
      "d:\\pycharmprojects\\xairobustness\\carla_visual\\carla_visual\\recourse_methods\\piece\\utils.py:226: SettingWithCopyWarning: \n",
      "A value is trying to be set on a copy of a slice from a DataFrame.\n",
      "Try using .loc[row_indexer,col_indexer] = value instead\n",
      "\n",
      "See the caveats in the documentation: https://pandas.pydata.org/pandas-docs/stable/user_guide/indexing.html#returning-a-view-versus-a-copy\n",
      "  df_new['flag'] = 0\n"
     ]
    },
    {
     "name": "stdout",
     "output_type": "stream",
     "text": [
      "Exceptions(?):  [3, 5, 26, 39, 42, 58, 65, 94, 100, 113, 127]\n",
      "The length of the latent datset before and after filtering: (128, 10) | (75, 10)\n",
      "Number of noisy exceptional features deleted: 53\n",
      "Correcting the activations X\n",
      "Optimizing the latent vector\n",
      "Loss: 0.017554789781570435\n",
      "Loss: 0.01572212018072605\n",
      "Loss: 0.015242929570376873\n",
      "Loss: 0.014724240638315678\n",
      "Loss: 0.013474875129759312\n",
      "Loss: 0.012027416378259659\n",
      "Loss: 0.011355135589838028\n",
      "Loss: 0.010985622182488441\n",
      "Loss: 0.010753972455859184\n",
      "Loss: 0.010449671186506748\n"
     ]
    },
    {
     "name": "stderr",
     "output_type": "stream",
     "text": [
      "17it [10:12, 35.57s/it]"
     ]
    },
    {
     "name": "stdout",
     "output_type": "stream",
     "text": [
      "Processing instance 17 for the generation of counterfactual explanation\n",
      "Identifying the most expectional features\n"
     ]
    },
    {
     "name": "stderr",
     "output_type": "stream",
     "text": [
      "d:\\pycharmprojects\\xairobustness\\carla_visual\\carla_visual\\recourse_methods\\piece\\utils.py:226: SettingWithCopyWarning: \n",
      "A value is trying to be set on a copy of a slice from a DataFrame.\n",
      "Try using .loc[row_indexer,col_indexer] = value instead\n",
      "\n",
      "See the caveats in the documentation: https://pandas.pydata.org/pandas-docs/stable/user_guide/indexing.html#returning-a-view-versus-a-copy\n",
      "  df_new['flag'] = 0\n"
     ]
    },
    {
     "name": "stdout",
     "output_type": "stream",
     "text": [
      "Exceptions(?):  [14, 21, 22, 35, 40, 55, 80, 89, 90, 112, 116, 121]\n",
      "The length of the latent datset before and after filtering: (128, 10) | (70, 10)\n",
      "Number of noisy exceptional features deleted: 58\n",
      "Correcting the activations X\n",
      "Optimizing the latent vector\n",
      "Loss: 0.019585419446229935\n",
      "Loss: 0.018914930522441864\n",
      "Loss: 0.018781699240207672\n",
      "Loss: 0.018644025549292564\n",
      "Loss: 0.018553204834461212\n",
      "Loss: 0.01847059652209282\n",
      "Loss: 0.01840495876967907\n",
      "Loss: 0.018347330391407013\n",
      "Loss: 0.018293926492333412\n",
      "Loss: 0.018235240131616592\n"
     ]
    },
    {
     "name": "stderr",
     "output_type": "stream",
     "text": [
      "18it [10:49, 36.10s/it]"
     ]
    },
    {
     "name": "stdout",
     "output_type": "stream",
     "text": [
      "Processing instance 18 for the generation of counterfactual explanation\n",
      "Identifying the most expectional features\n"
     ]
    },
    {
     "name": "stderr",
     "output_type": "stream",
     "text": [
      "d:\\pycharmprojects\\xairobustness\\carla_visual\\carla_visual\\recourse_methods\\piece\\utils.py:226: SettingWithCopyWarning: \n",
      "A value is trying to be set on a copy of a slice from a DataFrame.\n",
      "Try using .loc[row_indexer,col_indexer] = value instead\n",
      "\n",
      "See the caveats in the documentation: https://pandas.pydata.org/pandas-docs/stable/user_guide/indexing.html#returning-a-view-versus-a-copy\n",
      "  df_new['flag'] = 0\n"
     ]
    },
    {
     "name": "stdout",
     "output_type": "stream",
     "text": [
      "Exceptions(?):  [1, 10, 26, 43, 61, 81, 83, 108, 111, 113, 122, 124, 126]\n",
      "The length of the latent datset before and after filtering: (128, 10) | (56, 10)\n",
      "Number of noisy exceptional features deleted: 72\n",
      "Correcting the activations X\n",
      "Optimizing the latent vector\n",
      "Loss: 0.00825466401875019\n",
      "Loss: 0.007015097886323929\n",
      "Loss: 0.006908302195370197\n",
      "Loss: 0.006854251492768526\n",
      "Loss: 0.006818999070674181\n",
      "Loss: 0.006788262166082859\n",
      "Loss: 0.006760107818990946\n",
      "Loss: 0.00672465655952692\n",
      "Loss: 0.006696199998259544\n",
      "Loss: 0.006677515339106321\n"
     ]
    },
    {
     "name": "stderr",
     "output_type": "stream",
     "text": [
      "19it [11:30, 37.52s/it]"
     ]
    },
    {
     "name": "stdout",
     "output_type": "stream",
     "text": [
      "Processing instance 19 for the generation of counterfactual explanation\n",
      "Identifying the most expectional features\n"
     ]
    },
    {
     "name": "stderr",
     "output_type": "stream",
     "text": [
      "d:\\pycharmprojects\\xairobustness\\carla_visual\\carla_visual\\recourse_methods\\piece\\utils.py:226: SettingWithCopyWarning: \n",
      "A value is trying to be set on a copy of a slice from a DataFrame.\n",
      "Try using .loc[row_indexer,col_indexer] = value instead\n",
      "\n",
      "See the caveats in the documentation: https://pandas.pydata.org/pandas-docs/stable/user_guide/indexing.html#returning-a-view-versus-a-copy\n",
      "  df_new['flag'] = 0\n"
     ]
    },
    {
     "name": "stdout",
     "output_type": "stream",
     "text": [
      "Exceptions(?):  [2, 8, 10, 12, 14, 26, 27, 41, 44, 47, 73, 76, 81, 83, 85, 97, 109, 113, 122, 123]\n",
      "The length of the latent datset before and after filtering: (128, 10) | (62, 10)\n",
      "Number of noisy exceptional features deleted: 66\n",
      "Correcting the activations X\n",
      "Optimizing the latent vector\n",
      "Loss: 0.00563837168738246\n",
      "Loss: 0.005343735218048096\n",
      "Loss: 0.005258252844214439\n",
      "Loss: 0.005231377203017473\n",
      "Loss: 0.005208173301070929\n",
      "Loss: 0.005185078829526901\n",
      "Loss: 0.005166396498680115\n",
      "Loss: 0.0051496801897883415\n",
      "Loss: 0.005123309791088104\n",
      "Loss: 0.005074342712759972\n"
     ]
    },
    {
     "name": "stderr",
     "output_type": "stream",
     "text": [
      "20it [12:09, 37.97s/it]"
     ]
    },
    {
     "name": "stdout",
     "output_type": "stream",
     "text": [
      "Processing instance 20 for the generation of counterfactual explanation\n",
      "Identifying the most expectional features\n"
     ]
    },
    {
     "name": "stderr",
     "output_type": "stream",
     "text": [
      "d:\\pycharmprojects\\xairobustness\\carla_visual\\carla_visual\\recourse_methods\\piece\\utils.py:226: SettingWithCopyWarning: \n",
      "A value is trying to be set on a copy of a slice from a DataFrame.\n",
      "Try using .loc[row_indexer,col_indexer] = value instead\n",
      "\n",
      "See the caveats in the documentation: https://pandas.pydata.org/pandas-docs/stable/user_guide/indexing.html#returning-a-view-versus-a-copy\n",
      "  df_new['flag'] = 0\n"
     ]
    },
    {
     "name": "stdout",
     "output_type": "stream",
     "text": [
      "Exceptions(?):  [3, 5, 28, 32, 33, 75, 102, 103, 105, 112, 120]\n",
      "The length of the latent datset before and after filtering: (128, 10) | (66, 10)\n",
      "Number of noisy exceptional features deleted: 62\n",
      "Correcting the activations X\n",
      "Optimizing the latent vector\n",
      "Loss: 0.01685313694179058\n",
      "Loss: 0.01643848977982998\n",
      "Loss: 0.016313649713993073\n",
      "Loss: 0.0162039864808321\n",
      "Loss: 0.016112111508846283\n",
      "Loss: 0.016039017587900162\n",
      "Loss: 0.01596459187567234\n",
      "Loss: 0.015893051400780678\n",
      "Loss: 0.015847207978367805\n",
      "Loss: 0.01580878533422947\n"
     ]
    },
    {
     "name": "stderr",
     "output_type": "stream",
     "text": [
      "21it [12:45, 37.31s/it]"
     ]
    },
    {
     "name": "stdout",
     "output_type": "stream",
     "text": [
      "Processing instance 21 for the generation of counterfactual explanation\n",
      "Identifying the most expectional features\n"
     ]
    },
    {
     "name": "stderr",
     "output_type": "stream",
     "text": [
      "d:\\pycharmprojects\\xairobustness\\carla_visual\\carla_visual\\recourse_methods\\piece\\utils.py:226: SettingWithCopyWarning: \n",
      "A value is trying to be set on a copy of a slice from a DataFrame.\n",
      "Try using .loc[row_indexer,col_indexer] = value instead\n",
      "\n",
      "See the caveats in the documentation: https://pandas.pydata.org/pandas-docs/stable/user_guide/indexing.html#returning-a-view-versus-a-copy\n",
      "  df_new['flag'] = 0\n"
     ]
    },
    {
     "name": "stdout",
     "output_type": "stream",
     "text": [
      "Exceptions(?):  [15, 52, 55, 81, 82, 90, 98, 104, 117, 120]\n",
      "The length of the latent datset before and after filtering: (128, 10) | (62, 10)\n",
      "Number of noisy exceptional features deleted: 66\n",
      "Correcting the activations X\n",
      "Optimizing the latent vector\n",
      "Loss: 0.039073411375284195\n",
      "Loss: 0.037678468972444534\n",
      "Loss: 0.03730223700404167\n",
      "Loss: 0.03717157244682312\n",
      "Loss: 0.03707445412874222\n",
      "Loss: 0.03698185086250305\n",
      "Loss: 0.03689106926321983\n",
      "Loss: 0.036824457347393036\n",
      "Loss: 0.036761000752449036\n",
      "Loss: 0.036689240485429764\n"
     ]
    },
    {
     "name": "stderr",
     "output_type": "stream",
     "text": [
      "22it [13:21, 37.09s/it]"
     ]
    },
    {
     "name": "stdout",
     "output_type": "stream",
     "text": [
      "Processing instance 22 for the generation of counterfactual explanation\n",
      "Identifying the most expectional features\n"
     ]
    },
    {
     "name": "stderr",
     "output_type": "stream",
     "text": [
      "d:\\pycharmprojects\\xairobustness\\carla_visual\\carla_visual\\recourse_methods\\piece\\utils.py:226: SettingWithCopyWarning: \n",
      "A value is trying to be set on a copy of a slice from a DataFrame.\n",
      "Try using .loc[row_indexer,col_indexer] = value instead\n",
      "\n",
      "See the caveats in the documentation: https://pandas.pydata.org/pandas-docs/stable/user_guide/indexing.html#returning-a-view-versus-a-copy\n",
      "  df_new['flag'] = 0\n"
     ]
    },
    {
     "name": "stdout",
     "output_type": "stream",
     "text": [
      "Exceptions(?):  [4, 22, 35, 40, 80, 91, 110, 119, 121]\n",
      "The length of the latent datset before and after filtering: (128, 10) | (77, 10)\n",
      "Number of noisy exceptional features deleted: 51\n",
      "Correcting the activations X\n",
      "Optimizing the latent vector\n",
      "Loss: 0.02025630697607994\n",
      "Loss: 0.017286838963627815\n",
      "Loss: 0.01634993404150009\n",
      "Loss: 0.01601346582174301\n",
      "Loss: 0.015717970207333565\n",
      "Loss: 0.01528957299888134\n",
      "Loss: 0.014856262132525444\n",
      "Loss: 0.014596967957913876\n",
      "Loss: 0.014300372451543808\n",
      "Loss: 0.014095347374677658\n"
     ]
    },
    {
     "name": "stderr",
     "output_type": "stream",
     "text": [
      "23it [13:53, 35.51s/it]"
     ]
    },
    {
     "name": "stdout",
     "output_type": "stream",
     "text": [
      "Processing instance 23 for the generation of counterfactual explanation\n",
      "Identifying the most expectional features\n"
     ]
    },
    {
     "name": "stderr",
     "output_type": "stream",
     "text": [
      "d:\\pycharmprojects\\xairobustness\\carla_visual\\carla_visual\\recourse_methods\\piece\\utils.py:226: SettingWithCopyWarning: \n",
      "A value is trying to be set on a copy of a slice from a DataFrame.\n",
      "Try using .loc[row_indexer,col_indexer] = value instead\n",
      "\n",
      "See the caveats in the documentation: https://pandas.pydata.org/pandas-docs/stable/user_guide/indexing.html#returning-a-view-versus-a-copy\n",
      "  df_new['flag'] = 0\n"
     ]
    },
    {
     "name": "stdout",
     "output_type": "stream",
     "text": [
      "Exceptions(?):  [69, 119, 124]\n",
      "The length of the latent datset before and after filtering: (128, 10) | (83, 10)\n",
      "Number of noisy exceptional features deleted: 45\n",
      "Correcting the activations X\n",
      "Optimizing the latent vector\n",
      "Loss: 0.0075062294490635395\n",
      "Loss: 0.007342352997511625\n",
      "Loss: 0.007217426784336567\n",
      "Loss: 0.007081389427185059\n",
      "Loss: 0.007010617293417454\n",
      "Loss: 0.006947404704988003\n",
      "Loss: 0.0069062430411577225\n",
      "Loss: 0.006873429287225008\n",
      "Loss: 0.0068433270789682865\n",
      "Loss: 0.00681156013160944\n"
     ]
    },
    {
     "name": "stderr",
     "output_type": "stream",
     "text": [
      "24it [14:24, 34.15s/it]"
     ]
    },
    {
     "name": "stdout",
     "output_type": "stream",
     "text": [
      "Processing instance 24 for the generation of counterfactual explanation\n",
      "Identifying the most expectional features\n"
     ]
    },
    {
     "name": "stderr",
     "output_type": "stream",
     "text": [
      "d:\\pycharmprojects\\xairobustness\\carla_visual\\carla_visual\\recourse_methods\\piece\\utils.py:226: SettingWithCopyWarning: \n",
      "A value is trying to be set on a copy of a slice from a DataFrame.\n",
      "Try using .loc[row_indexer,col_indexer] = value instead\n",
      "\n",
      "See the caveats in the documentation: https://pandas.pydata.org/pandas-docs/stable/user_guide/indexing.html#returning-a-view-versus-a-copy\n",
      "  df_new['flag'] = 0\n"
     ]
    },
    {
     "name": "stdout",
     "output_type": "stream",
     "text": [
      "Exceptions(?):  [22, 43, 45, 70, 82, 86, 94, 116]\n",
      "The length of the latent datset before and after filtering: (128, 10) | (69, 10)\n",
      "Number of noisy exceptional features deleted: 59\n",
      "Correcting the activations X\n",
      "Optimizing the latent vector\n",
      "Loss: 0.04913201928138733\n",
      "Loss: 0.04497171938419342\n",
      "Loss: 0.0446823388338089\n",
      "Loss: 0.04445689171552658\n",
      "Loss: 0.04429512470960617\n",
      "Loss: 0.04419346898794174\n",
      "Loss: 0.044129449874162674\n",
      "Loss: 0.04404472932219505\n",
      "Loss: 0.043953243643045425\n",
      "Loss: 0.04387041553854942\n"
     ]
    },
    {
     "name": "stderr",
     "output_type": "stream",
     "text": [
      "25it [15:00, 34.85s/it]"
     ]
    },
    {
     "name": "stdout",
     "output_type": "stream",
     "text": [
      "Processing instance 25 for the generation of counterfactual explanation\n",
      "Identifying the most expectional features\n"
     ]
    },
    {
     "name": "stderr",
     "output_type": "stream",
     "text": [
      "d:\\pycharmprojects\\xairobustness\\carla_visual\\carla_visual\\recourse_methods\\piece\\utils.py:226: SettingWithCopyWarning: \n",
      "A value is trying to be set on a copy of a slice from a DataFrame.\n",
      "Try using .loc[row_indexer,col_indexer] = value instead\n",
      "\n",
      "See the caveats in the documentation: https://pandas.pydata.org/pandas-docs/stable/user_guide/indexing.html#returning-a-view-versus-a-copy\n",
      "  df_new['flag'] = 0\n"
     ]
    },
    {
     "name": "stdout",
     "output_type": "stream",
     "text": [
      "Exceptions(?):  [52, 74, 88]\n",
      "The length of the latent datset before and after filtering: (128, 10) | (70, 10)\n",
      "Number of noisy exceptional features deleted: 58\n",
      "Correcting the activations X\n",
      "Optimizing the latent vector\n",
      "Loss: 0.01409204676747322\n",
      "Loss: 0.013303708285093307\n",
      "Loss: 0.012443259358406067\n",
      "Loss: 0.011246062815189362\n",
      "Loss: 0.010950435884296894\n",
      "Loss: 0.010074981488287449\n",
      "Loss: 0.009833358228206635\n",
      "Loss: 0.009693178348243237\n",
      "Loss: 0.009611022658646107\n",
      "Loss: 0.009530708193778992\n"
     ]
    },
    {
     "name": "stderr",
     "output_type": "stream",
     "text": [
      "26it [15:38, 35.64s/it]"
     ]
    },
    {
     "name": "stdout",
     "output_type": "stream",
     "text": [
      "Processing instance 26 for the generation of counterfactual explanation\n",
      "Identifying the most expectional features\n"
     ]
    },
    {
     "name": "stderr",
     "output_type": "stream",
     "text": [
      "d:\\pycharmprojects\\xairobustness\\carla_visual\\carla_visual\\recourse_methods\\piece\\utils.py:226: SettingWithCopyWarning: \n",
      "A value is trying to be set on a copy of a slice from a DataFrame.\n",
      "Try using .loc[row_indexer,col_indexer] = value instead\n",
      "\n",
      "See the caveats in the documentation: https://pandas.pydata.org/pandas-docs/stable/user_guide/indexing.html#returning-a-view-versus-a-copy\n",
      "  df_new['flag'] = 0\n"
     ]
    },
    {
     "name": "stdout",
     "output_type": "stream",
     "text": [
      "Exceptions(?):  [12, 38, 41, 44, 62, 82, 92, 117, 127]\n",
      "The length of the latent datset before and after filtering: (128, 10) | (74, 10)\n",
      "Number of noisy exceptional features deleted: 54\n",
      "Correcting the activations X\n",
      "Optimizing the latent vector\n",
      "Loss: 0.005743358284235001\n",
      "Loss: 0.004893573932349682\n",
      "Loss: 0.0046753170900046825\n",
      "Loss: 0.004530917853116989\n",
      "Loss: 0.004444493912160397\n",
      "Loss: 0.0043504987843334675\n",
      "Loss: 0.004245657939463854\n",
      "Loss: 0.004149136133491993\n",
      "Loss: 0.004060573410242796\n",
      "Loss: 0.003987443633377552\n"
     ]
    },
    {
     "name": "stderr",
     "output_type": "stream",
     "text": [
      "27it [16:17, 36.80s/it]"
     ]
    },
    {
     "name": "stdout",
     "output_type": "stream",
     "text": [
      "Processing instance 27 for the generation of counterfactual explanation\n",
      "Identifying the most expectional features\n"
     ]
    },
    {
     "name": "stderr",
     "output_type": "stream",
     "text": [
      "d:\\pycharmprojects\\xairobustness\\carla_visual\\carla_visual\\recourse_methods\\piece\\utils.py:226: SettingWithCopyWarning: \n",
      "A value is trying to be set on a copy of a slice from a DataFrame.\n",
      "Try using .loc[row_indexer,col_indexer] = value instead\n",
      "\n",
      "See the caveats in the documentation: https://pandas.pydata.org/pandas-docs/stable/user_guide/indexing.html#returning-a-view-versus-a-copy\n",
      "  df_new['flag'] = 0\n"
     ]
    },
    {
     "name": "stdout",
     "output_type": "stream",
     "text": [
      "Exceptions(?):  [12, 20, 26, 29, 38, 44, 65, 66, 97, 99]\n",
      "The length of the latent datset before and after filtering: (128, 10) | (75, 10)\n",
      "Number of noisy exceptional features deleted: 53\n",
      "Correcting the activations X\n",
      "Optimizing the latent vector\n",
      "Loss: 0.0071805198676884174\n",
      "Loss: 0.005636846646666527\n",
      "Loss: 0.005416853353381157\n",
      "Loss: 0.0053600287064909935\n",
      "Loss: 0.005296879913657904\n",
      "Loss: 0.005235794931650162\n",
      "Loss: 0.005202371161431074\n",
      "Loss: 0.005185337737202644\n",
      "Loss: 0.005168649833649397\n",
      "Loss: 0.005152175202965736\n"
     ]
    },
    {
     "name": "stderr",
     "output_type": "stream",
     "text": [
      "28it [16:54, 36.76s/it]"
     ]
    },
    {
     "name": "stdout",
     "output_type": "stream",
     "text": [
      "Processing instance 28 for the generation of counterfactual explanation\n",
      "Identifying the most expectional features\n"
     ]
    },
    {
     "name": "stderr",
     "output_type": "stream",
     "text": [
      "d:\\pycharmprojects\\xairobustness\\carla_visual\\carla_visual\\recourse_methods\\piece\\utils.py:226: SettingWithCopyWarning: \n",
      "A value is trying to be set on a copy of a slice from a DataFrame.\n",
      "Try using .loc[row_indexer,col_indexer] = value instead\n",
      "\n",
      "See the caveats in the documentation: https://pandas.pydata.org/pandas-docs/stable/user_guide/indexing.html#returning-a-view-versus-a-copy\n",
      "  df_new['flag'] = 0\n"
     ]
    },
    {
     "name": "stdout",
     "output_type": "stream",
     "text": [
      "Exceptions(?):  [12, 28, 33, 77, 102, 106, 111, 112, 115]\n",
      "The length of the latent datset before and after filtering: (128, 10) | (57, 10)\n",
      "Number of noisy exceptional features deleted: 71\n",
      "Correcting the activations X\n",
      "Optimizing the latent vector\n",
      "Loss: 0.014177191071212292\n",
      "Loss: 0.01236784365028143\n",
      "Loss: 0.0118291350081563\n",
      "Loss: 0.011515166610479355\n",
      "Loss: 0.011276239529252052\n",
      "Loss: 0.011125502176582813\n",
      "Loss: 0.010976956225931644\n",
      "Loss: 0.010862325318157673\n",
      "Loss: 0.01065856870263815\n",
      "Loss: 0.010452375747263432\n"
     ]
    },
    {
     "name": "stderr",
     "output_type": "stream",
     "text": [
      "29it [17:31, 36.90s/it]"
     ]
    },
    {
     "name": "stdout",
     "output_type": "stream",
     "text": [
      "Processing instance 29 for the generation of counterfactual explanation\n",
      "Identifying the most expectional features\n"
     ]
    },
    {
     "name": "stderr",
     "output_type": "stream",
     "text": [
      "d:\\pycharmprojects\\xairobustness\\carla_visual\\carla_visual\\recourse_methods\\piece\\utils.py:226: SettingWithCopyWarning: \n",
      "A value is trying to be set on a copy of a slice from a DataFrame.\n",
      "Try using .loc[row_indexer,col_indexer] = value instead\n",
      "\n",
      "See the caveats in the documentation: https://pandas.pydata.org/pandas-docs/stable/user_guide/indexing.html#returning-a-view-versus-a-copy\n",
      "  df_new['flag'] = 0\n"
     ]
    },
    {
     "name": "stdout",
     "output_type": "stream",
     "text": [
      "Exceptions(?):  [16, 31, 33, 55, 61, 63, 81, 89, 104, 108, 111]\n",
      "The length of the latent datset before and after filtering: (128, 10) | (57, 10)\n",
      "Number of noisy exceptional features deleted: 71\n",
      "Correcting the activations X\n",
      "Optimizing the latent vector\n",
      "Loss: 0.012606349773705006\n",
      "Loss: 0.011026192456483841\n",
      "Loss: 0.010749708861112595\n",
      "Loss: 0.010641119442880154\n",
      "Loss: 0.01055683009326458\n",
      "Loss: 0.010467828251421452\n",
      "Loss: 0.010369760915637016\n",
      "Loss: 0.010252594016492367\n",
      "Loss: 0.010136513039469719\n",
      "Loss: 0.010013275779783726\n"
     ]
    },
    {
     "name": "stderr",
     "output_type": "stream",
     "text": [
      "30it [18:07, 36.47s/it]"
     ]
    },
    {
     "name": "stdout",
     "output_type": "stream",
     "text": [
      "Processing instance 30 for the generation of counterfactual explanation\n",
      "Identifying the most expectional features\n"
     ]
    },
    {
     "name": "stderr",
     "output_type": "stream",
     "text": [
      "d:\\pycharmprojects\\xairobustness\\carla_visual\\carla_visual\\recourse_methods\\piece\\utils.py:226: SettingWithCopyWarning: \n",
      "A value is trying to be set on a copy of a slice from a DataFrame.\n",
      "Try using .loc[row_indexer,col_indexer] = value instead\n",
      "\n",
      "See the caveats in the documentation: https://pandas.pydata.org/pandas-docs/stable/user_guide/indexing.html#returning-a-view-versus-a-copy\n",
      "  df_new['flag'] = 0\n"
     ]
    },
    {
     "name": "stdout",
     "output_type": "stream",
     "text": [
      "Exceptions(?):  [12, 15, 16, 79, 103, 120]\n",
      "The length of the latent datset before and after filtering: (128, 10) | (51, 10)\n",
      "Number of noisy exceptional features deleted: 77\n",
      "Correcting the activations X\n",
      "Optimizing the latent vector\n",
      "Loss: 0.006476815789937973\n",
      "Loss: 0.005561722908169031\n",
      "Loss: 0.005430101417005062\n",
      "Loss: 0.005394915584474802\n",
      "Loss: 0.005367266945540905\n",
      "Loss: 0.005334668792784214\n",
      "Loss: 0.0052684517577290535\n",
      "Loss: 0.005227508023381233\n",
      "Loss: 0.005198285449296236\n",
      "Loss: 0.005172004923224449\n"
     ]
    },
    {
     "name": "stderr",
     "output_type": "stream",
     "text": [
      "31it [18:41, 35.75s/it]"
     ]
    },
    {
     "name": "stdout",
     "output_type": "stream",
     "text": [
      "Processing instance 31 for the generation of counterfactual explanation\n",
      "Identifying the most expectional features\n"
     ]
    },
    {
     "name": "stderr",
     "output_type": "stream",
     "text": [
      "d:\\pycharmprojects\\xairobustness\\carla_visual\\carla_visual\\recourse_methods\\piece\\utils.py:226: SettingWithCopyWarning: \n",
      "A value is trying to be set on a copy of a slice from a DataFrame.\n",
      "Try using .loc[row_indexer,col_indexer] = value instead\n",
      "\n",
      "See the caveats in the documentation: https://pandas.pydata.org/pandas-docs/stable/user_guide/indexing.html#returning-a-view-versus-a-copy\n",
      "  df_new['flag'] = 0\n"
     ]
    },
    {
     "name": "stdout",
     "output_type": "stream",
     "text": [
      "Exceptions(?):  [10, 15, 16, 49, 94, 101, 106, 115]\n",
      "The length of the latent datset before and after filtering: (128, 10) | (63, 10)\n",
      "Number of noisy exceptional features deleted: 65\n",
      "Correcting the activations X\n",
      "Optimizing the latent vector\n",
      "Loss: 0.015870660543441772\n",
      "Loss: 0.015401714481413364\n",
      "Loss: 0.015229888260364532\n",
      "Loss: 0.015170528553426266\n",
      "Loss: 0.015097812749445438\n",
      "Loss: 0.014994503930211067\n",
      "Loss: 0.014880875125527382\n",
      "Loss: 0.01470566913485527\n",
      "Loss: 0.014597506262362003\n",
      "Loss: 0.014381463639438152\n"
     ]
    },
    {
     "name": "stderr",
     "output_type": "stream",
     "text": [
      "32it [19:19, 36.40s/it]"
     ]
    },
    {
     "name": "stdout",
     "output_type": "stream",
     "text": [
      "Processing instance 32 for the generation of counterfactual explanation\n",
      "Identifying the most expectional features\n"
     ]
    },
    {
     "name": "stderr",
     "output_type": "stream",
     "text": [
      "d:\\pycharmprojects\\xairobustness\\carla_visual\\carla_visual\\recourse_methods\\piece\\utils.py:226: SettingWithCopyWarning: \n",
      "A value is trying to be set on a copy of a slice from a DataFrame.\n",
      "Try using .loc[row_indexer,col_indexer] = value instead\n",
      "\n",
      "See the caveats in the documentation: https://pandas.pydata.org/pandas-docs/stable/user_guide/indexing.html#returning-a-view-versus-a-copy\n",
      "  df_new['flag'] = 0\n"
     ]
    },
    {
     "name": "stdout",
     "output_type": "stream",
     "text": [
      "Exceptions(?):  [36, 61, 77, 102]\n",
      "The length of the latent datset before and after filtering: (128, 10) | (44, 10)\n",
      "Number of noisy exceptional features deleted: 84\n",
      "Correcting the activations X\n",
      "Optimizing the latent vector\n",
      "Loss: 0.00887185987085104\n",
      "Loss: 0.00725029269233346\n",
      "Loss: 0.006656169891357422\n",
      "Loss: 0.006232820451259613\n",
      "Loss: 0.006124869920313358\n",
      "Loss: 0.00600852258503437\n",
      "Loss: 0.005838490556925535\n",
      "Loss: 0.005566791631281376\n",
      "Loss: 0.0054074800573289394\n",
      "Loss: 0.005310218781232834\n"
     ]
    },
    {
     "name": "stderr",
     "output_type": "stream",
     "text": [
      "33it [19:55, 36.51s/it]"
     ]
    },
    {
     "name": "stdout",
     "output_type": "stream",
     "text": [
      "Processing instance 33 for the generation of counterfactual explanation\n",
      "Identifying the most expectional features\n"
     ]
    },
    {
     "name": "stderr",
     "output_type": "stream",
     "text": [
      "d:\\pycharmprojects\\xairobustness\\carla_visual\\carla_visual\\recourse_methods\\piece\\utils.py:226: SettingWithCopyWarning: \n",
      "A value is trying to be set on a copy of a slice from a DataFrame.\n",
      "Try using .loc[row_indexer,col_indexer] = value instead\n",
      "\n",
      "See the caveats in the documentation: https://pandas.pydata.org/pandas-docs/stable/user_guide/indexing.html#returning-a-view-versus-a-copy\n",
      "  df_new['flag'] = 0\n"
     ]
    },
    {
     "name": "stdout",
     "output_type": "stream",
     "text": [
      "Exceptions(?):  [2, 26, 105, 124]\n",
      "The length of the latent datset before and after filtering: (128, 10) | (59, 10)\n",
      "Number of noisy exceptional features deleted: 69\n",
      "Correcting the activations X\n",
      "Optimizing the latent vector\n",
      "Loss: 0.013808635994791985\n",
      "Loss: 0.012206370942294598\n",
      "Loss: 0.011533060111105442\n",
      "Loss: 0.011147646233439445\n",
      "Loss: 0.01090273167937994\n",
      "Loss: 0.010686988942325115\n",
      "Loss: 0.01056536752730608\n",
      "Loss: 0.010469812899827957\n",
      "Loss: 0.010396658442914486\n",
      "Loss: 0.01031555887311697\n"
     ]
    },
    {
     "name": "stderr",
     "output_type": "stream",
     "text": [
      "34it [20:27, 35.14s/it]"
     ]
    },
    {
     "name": "stdout",
     "output_type": "stream",
     "text": [
      "Processing instance 34 for the generation of counterfactual explanation\n",
      "Identifying the most expectional features\n"
     ]
    },
    {
     "name": "stderr",
     "output_type": "stream",
     "text": [
      "d:\\pycharmprojects\\xairobustness\\carla_visual\\carla_visual\\recourse_methods\\piece\\utils.py:226: SettingWithCopyWarning: \n",
      "A value is trying to be set on a copy of a slice from a DataFrame.\n",
      "Try using .loc[row_indexer,col_indexer] = value instead\n",
      "\n",
      "See the caveats in the documentation: https://pandas.pydata.org/pandas-docs/stable/user_guide/indexing.html#returning-a-view-versus-a-copy\n",
      "  df_new['flag'] = 0\n"
     ]
    },
    {
     "name": "stdout",
     "output_type": "stream",
     "text": [
      "Exceptions(?):  [21, 36, 98, 110]\n",
      "The length of the latent datset before and after filtering: (128, 10) | (70, 10)\n",
      "Number of noisy exceptional features deleted: 58\n",
      "Correcting the activations X\n",
      "Optimizing the latent vector\n",
      "Loss: 0.012615703977644444\n",
      "Loss: 0.01129592303186655\n",
      "Loss: 0.010833938606083393\n",
      "Loss: 0.010683526284992695\n",
      "Loss: 0.010499694384634495\n",
      "Loss: 0.010392563417553902\n",
      "Loss: 0.01027554553002119\n",
      "Loss: 0.010216400027275085\n",
      "Loss: 0.010167816653847694\n",
      "Loss: 0.010104729793965816\n"
     ]
    },
    {
     "name": "stderr",
     "output_type": "stream",
     "text": [
      "35it [21:03, 35.14s/it]"
     ]
    },
    {
     "name": "stdout",
     "output_type": "stream",
     "text": [
      "Processing instance 35 for the generation of counterfactual explanation\n",
      "Identifying the most expectional features\n"
     ]
    },
    {
     "name": "stderr",
     "output_type": "stream",
     "text": [
      "d:\\pycharmprojects\\xairobustness\\carla_visual\\carla_visual\\recourse_methods\\piece\\utils.py:226: SettingWithCopyWarning: \n",
      "A value is trying to be set on a copy of a slice from a DataFrame.\n",
      "Try using .loc[row_indexer,col_indexer] = value instead\n",
      "\n",
      "See the caveats in the documentation: https://pandas.pydata.org/pandas-docs/stable/user_guide/indexing.html#returning-a-view-versus-a-copy\n",
      "  df_new['flag'] = 0\n"
     ]
    },
    {
     "name": "stdout",
     "output_type": "stream",
     "text": [
      "Exceptions(?):  [49, 68, 100, 101, 115]\n",
      "The length of the latent datset before and after filtering: (128, 10) | (68, 10)\n",
      "Number of noisy exceptional features deleted: 60\n",
      "Correcting the activations X\n",
      "Optimizing the latent vector\n",
      "Loss: 0.011458508670330048\n",
      "Loss: 0.0096935098990798\n",
      "Loss: 0.009197590872645378\n",
      "Loss: 0.008871901780366898\n",
      "Loss: 0.008742806501686573\n",
      "Loss: 0.008682478219270706\n",
      "Loss: 0.008620867505669594\n",
      "Loss: 0.008548997342586517\n",
      "Loss: 0.008459670469164848\n",
      "Loss: 0.008370521478354931\n"
     ]
    },
    {
     "name": "stderr",
     "output_type": "stream",
     "text": [
      "36it [21:39, 35.67s/it]"
     ]
    },
    {
     "name": "stdout",
     "output_type": "stream",
     "text": [
      "Processing instance 36 for the generation of counterfactual explanation\n",
      "Identifying the most expectional features\n"
     ]
    },
    {
     "name": "stderr",
     "output_type": "stream",
     "text": [
      "d:\\pycharmprojects\\xairobustness\\carla_visual\\carla_visual\\recourse_methods\\piece\\utils.py:226: SettingWithCopyWarning: \n",
      "A value is trying to be set on a copy of a slice from a DataFrame.\n",
      "Try using .loc[row_indexer,col_indexer] = value instead\n",
      "\n",
      "See the caveats in the documentation: https://pandas.pydata.org/pandas-docs/stable/user_guide/indexing.html#returning-a-view-versus-a-copy\n",
      "  df_new['flag'] = 0\n"
     ]
    },
    {
     "name": "stdout",
     "output_type": "stream",
     "text": [
      "Exceptions(?):  [23, 28, 33, 51, 61, 77, 102, 106, 107, 111, 112, 115]\n",
      "The length of the latent datset before and after filtering: (128, 10) | (59, 10)\n",
      "Number of noisy exceptional features deleted: 69\n",
      "Correcting the activations X\n",
      "Optimizing the latent vector\n",
      "Loss: 0.021503601223230362\n",
      "Loss: 0.020031889900565147\n",
      "Loss: 0.019348153844475746\n",
      "Loss: 0.018998287618160248\n",
      "Loss: 0.018723150715231895\n",
      "Loss: 0.01849569007754326\n",
      "Loss: 0.018316831439733505\n",
      "Loss: 0.018107986077666283\n",
      "Loss: 0.018008001148700714\n",
      "Loss: 0.017941219732165337\n"
     ]
    },
    {
     "name": "stderr",
     "output_type": "stream",
     "text": [
      "37it [22:18, 36.38s/it]"
     ]
    },
    {
     "name": "stdout",
     "output_type": "stream",
     "text": [
      "Processing instance 37 for the generation of counterfactual explanation\n",
      "Identifying the most expectional features\n"
     ]
    },
    {
     "name": "stderr",
     "output_type": "stream",
     "text": [
      "d:\\pycharmprojects\\xairobustness\\carla_visual\\carla_visual\\recourse_methods\\piece\\utils.py:226: SettingWithCopyWarning: \n",
      "A value is trying to be set on a copy of a slice from a DataFrame.\n",
      "Try using .loc[row_indexer,col_indexer] = value instead\n",
      "\n",
      "See the caveats in the documentation: https://pandas.pydata.org/pandas-docs/stable/user_guide/indexing.html#returning-a-view-versus-a-copy\n",
      "  df_new['flag'] = 0\n"
     ]
    },
    {
     "name": "stdout",
     "output_type": "stream",
     "text": [
      "Exceptions(?):  [7, 12, 21, 27, 41, 62, 72, 75, 77, 87, 93, 107]\n",
      "The length of the latent datset before and after filtering: (128, 10) | (85, 10)\n",
      "Number of noisy exceptional features deleted: 43\n",
      "Correcting the activations X\n",
      "Optimizing the latent vector\n",
      "Loss: 0.010816222056746483\n",
      "Loss: 0.009270831011235714\n",
      "Loss: 0.008214880712330341\n",
      "Loss: 0.00791211985051632\n",
      "Loss: 0.0077888378873467445\n",
      "Loss: 0.0076881274580955505\n",
      "Loss: 0.007618605624884367\n",
      "Loss: 0.007572166621685028\n",
      "Loss: 0.007517990656197071\n",
      "Loss: 0.0074753244407474995\n"
     ]
    },
    {
     "name": "stderr",
     "output_type": "stream",
     "text": [
      "38it [22:54, 36.45s/it]"
     ]
    },
    {
     "name": "stdout",
     "output_type": "stream",
     "text": [
      "Processing instance 38 for the generation of counterfactual explanation\n",
      "Identifying the most expectional features\n"
     ]
    },
    {
     "name": "stderr",
     "output_type": "stream",
     "text": [
      "d:\\pycharmprojects\\xairobustness\\carla_visual\\carla_visual\\recourse_methods\\piece\\utils.py:226: SettingWithCopyWarning: \n",
      "A value is trying to be set on a copy of a slice from a DataFrame.\n",
      "Try using .loc[row_indexer,col_indexer] = value instead\n",
      "\n",
      "See the caveats in the documentation: https://pandas.pydata.org/pandas-docs/stable/user_guide/indexing.html#returning-a-view-versus-a-copy\n",
      "  df_new['flag'] = 0\n"
     ]
    },
    {
     "name": "stdout",
     "output_type": "stream",
     "text": [
      "Exceptions(?):  [5, 8, 14, 27, 38, 51, 64, 67, 76, 85, 88]\n",
      "The length of the latent datset before and after filtering: (128, 10) | (76, 10)\n",
      "Number of noisy exceptional features deleted: 52\n",
      "Correcting the activations X\n",
      "Optimizing the latent vector\n",
      "Loss: 0.01717548258602619\n",
      "Loss: 0.01461353711783886\n",
      "Loss: 0.013001909479498863\n",
      "Loss: 0.01185714639723301\n",
      "Loss: 0.011512326076626778\n",
      "Loss: 0.011260760948061943\n",
      "Loss: 0.01105518825352192\n",
      "Loss: 0.010868186131119728\n",
      "Loss: 0.010714028030633926\n",
      "Loss: 0.010610347613692284\n"
     ]
    },
    {
     "name": "stderr",
     "output_type": "stream",
     "text": [
      "39it [23:33, 37.15s/it]"
     ]
    },
    {
     "name": "stdout",
     "output_type": "stream",
     "text": [
      "Processing instance 39 for the generation of counterfactual explanation\n",
      "Identifying the most expectional features\n"
     ]
    },
    {
     "name": "stderr",
     "output_type": "stream",
     "text": [
      "d:\\pycharmprojects\\xairobustness\\carla_visual\\carla_visual\\recourse_methods\\piece\\utils.py:226: SettingWithCopyWarning: \n",
      "A value is trying to be set on a copy of a slice from a DataFrame.\n",
      "Try using .loc[row_indexer,col_indexer] = value instead\n",
      "\n",
      "See the caveats in the documentation: https://pandas.pydata.org/pandas-docs/stable/user_guide/indexing.html#returning-a-view-versus-a-copy\n",
      "  df_new['flag'] = 0\n"
     ]
    },
    {
     "name": "stdout",
     "output_type": "stream",
     "text": [
      "Exceptions(?):  [1, 29, 48]\n",
      "The length of the latent datset before and after filtering: (128, 10) | (58, 10)\n",
      "Number of noisy exceptional features deleted: 70\n",
      "Correcting the activations X\n",
      "Optimizing the latent vector\n",
      "Loss: 0.0021788182202726603\n",
      "Loss: 0.0017661608289927244\n",
      "Loss: 0.0017229776130989194\n",
      "Loss: 0.0016949102282524109\n",
      "Loss: 0.0016655449289828539\n",
      "Loss: 0.0016438869060948491\n",
      "Loss: 0.0016283891163766384\n",
      "Loss: 0.0016157992649823427\n",
      "Loss: 0.0016059582121670246\n",
      "Loss: 0.0015995100839063525\n"
     ]
    },
    {
     "name": "stderr",
     "output_type": "stream",
     "text": [
      "40it [24:09, 36.96s/it]"
     ]
    },
    {
     "name": "stdout",
     "output_type": "stream",
     "text": [
      "Processing instance 40 for the generation of counterfactual explanation\n",
      "Identifying the most expectional features\n"
     ]
    },
    {
     "name": "stderr",
     "output_type": "stream",
     "text": [
      "d:\\pycharmprojects\\xairobustness\\carla_visual\\carla_visual\\recourse_methods\\piece\\utils.py:226: SettingWithCopyWarning: \n",
      "A value is trying to be set on a copy of a slice from a DataFrame.\n",
      "Try using .loc[row_indexer,col_indexer] = value instead\n",
      "\n",
      "See the caveats in the documentation: https://pandas.pydata.org/pandas-docs/stable/user_guide/indexing.html#returning-a-view-versus-a-copy\n",
      "  df_new['flag'] = 0\n"
     ]
    },
    {
     "name": "stdout",
     "output_type": "stream",
     "text": [
      "Exceptions(?):  [11, 67, 74, 76, 81, 83, 85, 88, 108, 122]\n",
      "The length of the latent datset before and after filtering: (128, 10) | (62, 10)\n",
      "Number of noisy exceptional features deleted: 66\n",
      "Correcting the activations X\n",
      "Optimizing the latent vector\n",
      "Loss: 0.006738394033163786\n",
      "Loss: 0.006172593683004379\n",
      "Loss: 0.006076709367334843\n",
      "Loss: 0.006014096550643444\n",
      "Loss: 0.005960910581052303\n",
      "Loss: 0.005909384228289127\n",
      "Loss: 0.005826319567859173\n",
      "Loss: 0.005687916185706854\n",
      "Loss: 0.005624006502330303\n",
      "Loss: 0.0055748941376805305\n"
     ]
    },
    {
     "name": "stderr",
     "output_type": "stream",
     "text": [
      "41it [24:49, 37.75s/it]"
     ]
    },
    {
     "name": "stdout",
     "output_type": "stream",
     "text": [
      "Processing instance 41 for the generation of counterfactual explanation\n",
      "Identifying the most expectional features\n"
     ]
    },
    {
     "name": "stderr",
     "output_type": "stream",
     "text": [
      "d:\\pycharmprojects\\xairobustness\\carla_visual\\carla_visual\\recourse_methods\\piece\\utils.py:226: SettingWithCopyWarning: \n",
      "A value is trying to be set on a copy of a slice from a DataFrame.\n",
      "Try using .loc[row_indexer,col_indexer] = value instead\n",
      "\n",
      "See the caveats in the documentation: https://pandas.pydata.org/pandas-docs/stable/user_guide/indexing.html#returning-a-view-versus-a-copy\n",
      "  df_new['flag'] = 0\n"
     ]
    },
    {
     "name": "stdout",
     "output_type": "stream",
     "text": [
      "Exceptions(?):  [2, 4, 47, 114, 123]\n",
      "The length of the latent datset before and after filtering: (128, 10) | (78, 10)\n",
      "Number of noisy exceptional features deleted: 50\n",
      "Correcting the activations X\n",
      "Optimizing the latent vector\n",
      "Loss: 0.009407119825482368\n",
      "Loss: 0.0076445359736680984\n",
      "Loss: 0.007284538354724646\n",
      "Loss: 0.007218115031719208\n",
      "Loss: 0.007133711129426956\n",
      "Loss: 0.007004286628216505\n",
      "Loss: 0.006886907387524843\n",
      "Loss: 0.006551230326294899\n",
      "Loss: 0.006450744345784187\n",
      "Loss: 0.00637174304574728\n"
     ]
    },
    {
     "name": "stderr",
     "output_type": "stream",
     "text": [
      "42it [25:25, 37.14s/it]"
     ]
    },
    {
     "name": "stdout",
     "output_type": "stream",
     "text": [
      "Processing instance 42 for the generation of counterfactual explanation\n",
      "Identifying the most expectional features\n"
     ]
    },
    {
     "name": "stderr",
     "output_type": "stream",
     "text": [
      "d:\\pycharmprojects\\xairobustness\\carla_visual\\carla_visual\\recourse_methods\\piece\\utils.py:226: SettingWithCopyWarning: \n",
      "A value is trying to be set on a copy of a slice from a DataFrame.\n",
      "Try using .loc[row_indexer,col_indexer] = value instead\n",
      "\n",
      "See the caveats in the documentation: https://pandas.pydata.org/pandas-docs/stable/user_guide/indexing.html#returning-a-view-versus-a-copy\n",
      "  df_new['flag'] = 0\n"
     ]
    },
    {
     "name": "stdout",
     "output_type": "stream",
     "text": [
      "Exceptions(?):  [28, 33, 82, 117]\n",
      "The length of the latent datset before and after filtering: (128, 10) | (54, 10)\n",
      "Number of noisy exceptional features deleted: 74\n",
      "Correcting the activations X\n",
      "Optimizing the latent vector\n",
      "Loss: 0.019760537892580032\n",
      "Loss: 0.018784597516059875\n",
      "Loss: 0.01841268688440323\n",
      "Loss: 0.018149107694625854\n",
      "Loss: 0.018004927784204483\n",
      "Loss: 0.017885848879814148\n",
      "Loss: 0.017773063853383064\n",
      "Loss: 0.017670124769210815\n",
      "Loss: 0.017568320035934448\n",
      "Loss: 0.017435923218727112\n"
     ]
    },
    {
     "name": "stderr",
     "output_type": "stream",
     "text": [
      "43it [26:03, 37.41s/it]"
     ]
    },
    {
     "name": "stdout",
     "output_type": "stream",
     "text": [
      "Processing instance 43 for the generation of counterfactual explanation\n",
      "Identifying the most expectional features\n"
     ]
    },
    {
     "name": "stderr",
     "output_type": "stream",
     "text": [
      "d:\\pycharmprojects\\xairobustness\\carla_visual\\carla_visual\\recourse_methods\\piece\\utils.py:226: SettingWithCopyWarning: \n",
      "A value is trying to be set on a copy of a slice from a DataFrame.\n",
      "Try using .loc[row_indexer,col_indexer] = value instead\n",
      "\n",
      "See the caveats in the documentation: https://pandas.pydata.org/pandas-docs/stable/user_guide/indexing.html#returning-a-view-versus-a-copy\n",
      "  df_new['flag'] = 0\n"
     ]
    },
    {
     "name": "stdout",
     "output_type": "stream",
     "text": [
      "Exceptions(?):  [3, 5, 9, 18, 22, 42, 58, 80, 91, 110, 113, 114]\n",
      "The length of the latent datset before and after filtering: (128, 10) | (77, 10)\n",
      "Number of noisy exceptional features deleted: 51\n",
      "Correcting the activations X\n",
      "Optimizing the latent vector\n",
      "Loss: 0.01737925224006176\n",
      "Loss: 0.01609465293586254\n",
      "Loss: 0.015651436522603035\n",
      "Loss: 0.014733018353581429\n",
      "Loss: 0.013826305978000164\n",
      "Loss: 0.01256193220615387\n",
      "Loss: 0.01193241123110056\n",
      "Loss: 0.011532989330589771\n",
      "Loss: 0.01116440910845995\n",
      "Loss: 0.010823563672602177\n"
     ]
    },
    {
     "name": "stderr",
     "output_type": "stream",
     "text": [
      "44it [26:40, 37.39s/it]"
     ]
    },
    {
     "name": "stdout",
     "output_type": "stream",
     "text": [
      "Processing instance 44 for the generation of counterfactual explanation\n",
      "Identifying the most expectional features\n"
     ]
    },
    {
     "name": "stderr",
     "output_type": "stream",
     "text": [
      "d:\\pycharmprojects\\xairobustness\\carla_visual\\carla_visual\\recourse_methods\\piece\\utils.py:226: SettingWithCopyWarning: \n",
      "A value is trying to be set on a copy of a slice from a DataFrame.\n",
      "Try using .loc[row_indexer,col_indexer] = value instead\n",
      "\n",
      "See the caveats in the documentation: https://pandas.pydata.org/pandas-docs/stable/user_guide/indexing.html#returning-a-view-versus-a-copy\n",
      "  df_new['flag'] = 0\n"
     ]
    },
    {
     "name": "stdout",
     "output_type": "stream",
     "text": [
      "Exceptions(?):  [9, 28, 33, 69, 102, 112, 116, 124]\n",
      "The length of the latent datset before and after filtering: (128, 10) | (84, 10)\n",
      "Number of noisy exceptional features deleted: 44\n",
      "Correcting the activations X\n",
      "Optimizing the latent vector\n",
      "Loss: 0.05960102751851082\n",
      "Loss: 0.04662873223423958\n",
      "Loss: 0.04579266533255577\n",
      "Loss: 0.045248210430145264\n",
      "Loss: 0.044837769120931625\n",
      "Loss: 0.04443293437361717\n",
      "Loss: 0.04405151307582855\n",
      "Loss: 0.04352869838476181\n",
      "Loss: 0.04302706941962242\n",
      "Loss: 0.042089201509952545\n"
     ]
    },
    {
     "name": "stderr",
     "output_type": "stream",
     "text": [
      "45it [27:15, 36.56s/it]"
     ]
    },
    {
     "name": "stdout",
     "output_type": "stream",
     "text": [
      "Processing instance 45 for the generation of counterfactual explanation\n",
      "Identifying the most expectional features\n"
     ]
    },
    {
     "name": "stderr",
     "output_type": "stream",
     "text": [
      "d:\\pycharmprojects\\xairobustness\\carla_visual\\carla_visual\\recourse_methods\\piece\\utils.py:226: SettingWithCopyWarning: \n",
      "A value is trying to be set on a copy of a slice from a DataFrame.\n",
      "Try using .loc[row_indexer,col_indexer] = value instead\n",
      "\n",
      "See the caveats in the documentation: https://pandas.pydata.org/pandas-docs/stable/user_guide/indexing.html#returning-a-view-versus-a-copy\n",
      "  df_new['flag'] = 0\n"
     ]
    },
    {
     "name": "stdout",
     "output_type": "stream",
     "text": [
      "Exceptions(?):  [12, 43, 107, 111]\n",
      "The length of the latent datset before and after filtering: (128, 10) | (61, 10)\n",
      "Number of noisy exceptional features deleted: 67\n",
      "Correcting the activations X\n",
      "Optimizing the latent vector\n",
      "Loss: 0.010708022862672806\n",
      "Loss: 0.010054107755422592\n",
      "Loss: 0.009631565771996975\n",
      "Loss: 0.009375153109431267\n",
      "Loss: 0.009197535924613476\n",
      "Loss: 0.009098672308027744\n",
      "Loss: 0.009001903235912323\n",
      "Loss: 0.008866353891789913\n",
      "Loss: 0.00875924527645111\n",
      "Loss: 0.008641749620437622\n"
     ]
    },
    {
     "name": "stderr",
     "output_type": "stream",
     "text": [
      "46it [27:50, 36.25s/it]"
     ]
    },
    {
     "name": "stdout",
     "output_type": "stream",
     "text": [
      "Processing instance 46 for the generation of counterfactual explanation\n",
      "Identifying the most expectional features\n"
     ]
    },
    {
     "name": "stderr",
     "output_type": "stream",
     "text": [
      "d:\\pycharmprojects\\xairobustness\\carla_visual\\carla_visual\\recourse_methods\\piece\\utils.py:226: SettingWithCopyWarning: \n",
      "A value is trying to be set on a copy of a slice from a DataFrame.\n",
      "Try using .loc[row_indexer,col_indexer] = value instead\n",
      "\n",
      "See the caveats in the documentation: https://pandas.pydata.org/pandas-docs/stable/user_guide/indexing.html#returning-a-view-versus-a-copy\n",
      "  df_new['flag'] = 0\n"
     ]
    },
    {
     "name": "stdout",
     "output_type": "stream",
     "text": [
      "Exceptions(?):  [46, 60, 79, 95, 107, 120]\n",
      "The length of the latent datset before and after filtering: (128, 10) | (60, 10)\n",
      "Number of noisy exceptional features deleted: 68\n",
      "Correcting the activations X\n",
      "Optimizing the latent vector\n",
      "Loss: 0.03914036601781845\n",
      "Loss: 0.03698832914233208\n",
      "Loss: 0.036682821810245514\n",
      "Loss: 0.036527641117572784\n",
      "Loss: 0.036381546407938004\n",
      "Loss: 0.03624033182859421\n",
      "Loss: 0.036110520362854004\n",
      "Loss: 0.035959288477897644\n",
      "Loss: 0.03575175628066063\n",
      "Loss: 0.035314351320266724\n"
     ]
    },
    {
     "name": "stderr",
     "output_type": "stream",
     "text": [
      "47it [28:27, 36.44s/it]"
     ]
    },
    {
     "name": "stdout",
     "output_type": "stream",
     "text": [
      "Processing instance 47 for the generation of counterfactual explanation\n",
      "Identifying the most expectional features\n"
     ]
    },
    {
     "name": "stderr",
     "output_type": "stream",
     "text": [
      "d:\\pycharmprojects\\xairobustness\\carla_visual\\carla_visual\\recourse_methods\\piece\\utils.py:226: SettingWithCopyWarning: \n",
      "A value is trying to be set on a copy of a slice from a DataFrame.\n",
      "Try using .loc[row_indexer,col_indexer] = value instead\n",
      "\n",
      "See the caveats in the documentation: https://pandas.pydata.org/pandas-docs/stable/user_guide/indexing.html#returning-a-view-versus-a-copy\n",
      "  df_new['flag'] = 0\n"
     ]
    },
    {
     "name": "stdout",
     "output_type": "stream",
     "text": [
      "Exceptions(?):  [5, 22, 52, 115]\n",
      "The length of the latent datset before and after filtering: (128, 10) | (47, 10)\n",
      "Number of noisy exceptional features deleted: 81\n",
      "Correcting the activations X\n",
      "Optimizing the latent vector\n",
      "Loss: 0.013928444124758244\n",
      "Loss: 0.013579016551375389\n",
      "Loss: 0.013439217582345009\n",
      "Loss: 0.01327393390238285\n",
      "Loss: 0.013048217631876469\n",
      "Loss: 0.012817014940083027\n",
      "Loss: 0.012639252468943596\n",
      "Loss: 0.012569083832204342\n",
      "Loss: 0.012512454763054848\n",
      "Loss: 0.012452374212443829\n"
     ]
    },
    {
     "name": "stderr",
     "output_type": "stream",
     "text": [
      "48it [29:06, 37.27s/it]"
     ]
    },
    {
     "name": "stdout",
     "output_type": "stream",
     "text": [
      "Processing instance 48 for the generation of counterfactual explanation\n",
      "Identifying the most expectional features\n"
     ]
    },
    {
     "name": "stderr",
     "output_type": "stream",
     "text": [
      "d:\\pycharmprojects\\xairobustness\\carla_visual\\carla_visual\\recourse_methods\\piece\\utils.py:226: SettingWithCopyWarning: \n",
      "A value is trying to be set on a copy of a slice from a DataFrame.\n",
      "Try using .loc[row_indexer,col_indexer] = value instead\n",
      "\n",
      "See the caveats in the documentation: https://pandas.pydata.org/pandas-docs/stable/user_guide/indexing.html#returning-a-view-versus-a-copy\n",
      "  df_new['flag'] = 0\n"
     ]
    },
    {
     "name": "stdout",
     "output_type": "stream",
     "text": [
      "Exceptions(?):  []\n",
      "The length of the latent datset before and after filtering: (128, 10) | (48, 10)\n",
      "Number of noisy exceptional features deleted: 80\n",
      "Correcting the activations X\n",
      "Optimizing the latent vector\n",
      "Loss: 0.003137760329991579\n",
      "Loss: 0.00270282500423491\n",
      "Loss: 0.0026610412169247866\n",
      "Loss: 0.002644079737365246\n",
      "Loss: 0.002630221890285611\n",
      "Loss: 0.0026188113261014223\n",
      "Loss: 0.0026050377637147903\n",
      "Loss: 0.0025852229446172714\n",
      "Loss: 0.0025722221471369267\n",
      "Loss: 0.0025611910969018936\n"
     ]
    },
    {
     "name": "stderr",
     "output_type": "stream",
     "text": [
      "49it [29:41, 36.50s/it]"
     ]
    },
    {
     "name": "stdout",
     "output_type": "stream",
     "text": [
      "Processing instance 49 for the generation of counterfactual explanation\n",
      "Identifying the most expectional features\n"
     ]
    },
    {
     "name": "stderr",
     "output_type": "stream",
     "text": [
      "d:\\pycharmprojects\\xairobustness\\carla_visual\\carla_visual\\recourse_methods\\piece\\utils.py:226: SettingWithCopyWarning: \n",
      "A value is trying to be set on a copy of a slice from a DataFrame.\n",
      "Try using .loc[row_indexer,col_indexer] = value instead\n",
      "\n",
      "See the caveats in the documentation: https://pandas.pydata.org/pandas-docs/stable/user_guide/indexing.html#returning-a-view-versus-a-copy\n",
      "  df_new['flag'] = 0\n"
     ]
    },
    {
     "name": "stdout",
     "output_type": "stream",
     "text": [
      "Exceptions(?):  [34, 87]\n",
      "The length of the latent datset before and after filtering: (128, 10) | (53, 10)\n",
      "Number of noisy exceptional features deleted: 75\n",
      "Correcting the activations X\n",
      "Optimizing the latent vector\n",
      "Loss: 0.06458614766597748\n",
      "Loss: 0.06437668204307556\n",
      "Loss: 0.06427976489067078\n",
      "Loss: 0.06421376019716263\n",
      "Loss: 0.06415018439292908\n",
      "Loss: 0.06409017741680145\n",
      "Loss: 0.06402897089719772\n",
      "Loss: 0.06396926939487457\n",
      "Loss: 0.06388229131698608\n",
      "Loss: 0.06375588476657867\n"
     ]
    },
    {
     "name": "stderr",
     "output_type": "stream",
     "text": [
      "50it [30:16, 35.96s/it]"
     ]
    },
    {
     "name": "stdout",
     "output_type": "stream",
     "text": [
      "Processing instance 50 for the generation of counterfactual explanation\n",
      "Identifying the most expectional features\n"
     ]
    },
    {
     "name": "stderr",
     "output_type": "stream",
     "text": [
      "d:\\pycharmprojects\\xairobustness\\carla_visual\\carla_visual\\recourse_methods\\piece\\utils.py:226: SettingWithCopyWarning: \n",
      "A value is trying to be set on a copy of a slice from a DataFrame.\n",
      "Try using .loc[row_indexer,col_indexer] = value instead\n",
      "\n",
      "See the caveats in the documentation: https://pandas.pydata.org/pandas-docs/stable/user_guide/indexing.html#returning-a-view-versus-a-copy\n",
      "  df_new['flag'] = 0\n"
     ]
    },
    {
     "name": "stdout",
     "output_type": "stream",
     "text": [
      "Exceptions(?):  [2, 10, 15, 44, 122]\n",
      "The length of the latent datset before and after filtering: (128, 10) | (47, 10)\n",
      "Number of noisy exceptional features deleted: 81\n",
      "Correcting the activations X\n",
      "Optimizing the latent vector\n",
      "Loss: 0.04203341156244278\n",
      "Loss: 0.040513262152671814\n",
      "Loss: 0.04016025736927986\n",
      "Loss: 0.039965517818927765\n",
      "Loss: 0.03985407575964928\n",
      "Loss: 0.03976888582110405\n",
      "Loss: 0.03969835489988327\n",
      "Loss: 0.03962336853146553\n",
      "Loss: 0.03956077992916107\n",
      "Loss: 0.03948723524808884\n"
     ]
    },
    {
     "name": "stderr",
     "output_type": "stream",
     "text": [
      "51it [30:49, 35.07s/it]"
     ]
    },
    {
     "name": "stdout",
     "output_type": "stream",
     "text": [
      "Processing instance 51 for the generation of counterfactual explanation\n",
      "Identifying the most expectional features\n"
     ]
    },
    {
     "name": "stderr",
     "output_type": "stream",
     "text": [
      "d:\\pycharmprojects\\xairobustness\\carla_visual\\carla_visual\\recourse_methods\\piece\\utils.py:226: SettingWithCopyWarning: \n",
      "A value is trying to be set on a copy of a slice from a DataFrame.\n",
      "Try using .loc[row_indexer,col_indexer] = value instead\n",
      "\n",
      "See the caveats in the documentation: https://pandas.pydata.org/pandas-docs/stable/user_guide/indexing.html#returning-a-view-versus-a-copy\n",
      "  df_new['flag'] = 0\n"
     ]
    },
    {
     "name": "stdout",
     "output_type": "stream",
     "text": [
      "Exceptions(?):  [24, 44, 49, 67, 73, 86, 92, 107, 108, 111]\n",
      "The length of the latent datset before and after filtering: (128, 10) | (77, 10)\n",
      "Number of noisy exceptional features deleted: 51\n",
      "Correcting the activations X\n",
      "Optimizing the latent vector\n",
      "Loss: 0.0037117970641702414\n",
      "Loss: 0.003271749708801508\n",
      "Loss: 0.003201431129127741\n",
      "Loss: 0.00310819735750556\n",
      "Loss: 0.0029988030437380075\n",
      "Loss: 0.002950584515929222\n",
      "Loss: 0.0029209833592176437\n",
      "Loss: 0.002874006051570177\n",
      "Loss: 0.0028434586711227894\n",
      "Loss: 0.0028110994026064873\n"
     ]
    },
    {
     "name": "stderr",
     "output_type": "stream",
     "text": [
      "52it [31:29, 36.65s/it]"
     ]
    },
    {
     "name": "stdout",
     "output_type": "stream",
     "text": [
      "Processing instance 52 for the generation of counterfactual explanation\n",
      "Identifying the most expectional features\n"
     ]
    },
    {
     "name": "stderr",
     "output_type": "stream",
     "text": [
      "d:\\pycharmprojects\\xairobustness\\carla_visual\\carla_visual\\recourse_methods\\piece\\utils.py:226: SettingWithCopyWarning: \n",
      "A value is trying to be set on a copy of a slice from a DataFrame.\n",
      "Try using .loc[row_indexer,col_indexer] = value instead\n",
      "\n",
      "See the caveats in the documentation: https://pandas.pydata.org/pandas-docs/stable/user_guide/indexing.html#returning-a-view-versus-a-copy\n",
      "  df_new['flag'] = 0\n"
     ]
    },
    {
     "name": "stdout",
     "output_type": "stream",
     "text": [
      "Exceptions(?):  [2, 10, 15]\n",
      "The length of the latent datset before and after filtering: (128, 10) | (72, 10)\n",
      "Number of noisy exceptional features deleted: 56\n",
      "Correcting the activations X\n",
      "Optimizing the latent vector\n",
      "Loss: 0.04562831670045853\n",
      "Loss: 0.04309375584125519\n",
      "Loss: 0.04200729355216026\n",
      "Loss: 0.04023388773202896\n",
      "Loss: 0.036323487758636475\n",
      "Loss: 0.03486358001828194\n",
      "Loss: 0.03375084698200226\n",
      "Loss: 0.033262256532907486\n",
      "Loss: 0.032974258065223694\n",
      "Loss: 0.0326666422188282\n"
     ]
    },
    {
     "name": "stderr",
     "output_type": "stream",
     "text": [
      "53it [32:01, 35.25s/it]"
     ]
    },
    {
     "name": "stdout",
     "output_type": "stream",
     "text": [
      "Processing instance 53 for the generation of counterfactual explanation\n",
      "Identifying the most expectional features\n"
     ]
    },
    {
     "name": "stderr",
     "output_type": "stream",
     "text": [
      "d:\\pycharmprojects\\xairobustness\\carla_visual\\carla_visual\\recourse_methods\\piece\\utils.py:226: SettingWithCopyWarning: \n",
      "A value is trying to be set on a copy of a slice from a DataFrame.\n",
      "Try using .loc[row_indexer,col_indexer] = value instead\n",
      "\n",
      "See the caveats in the documentation: https://pandas.pydata.org/pandas-docs/stable/user_guide/indexing.html#returning-a-view-versus-a-copy\n",
      "  df_new['flag'] = 0\n"
     ]
    },
    {
     "name": "stdout",
     "output_type": "stream",
     "text": [
      "Exceptions(?):  [2, 4, 20, 34, 35, 50, 66, 76, 85, 103, 107, 120, 121]\n",
      "The length of the latent datset before and after filtering: (128, 10) | (57, 10)\n",
      "Number of noisy exceptional features deleted: 71\n",
      "Correcting the activations X\n",
      "Optimizing the latent vector\n",
      "Loss: 0.011528754606842995\n",
      "Loss: 0.009514699690043926\n",
      "Loss: 0.008967751637101173\n",
      "Loss: 0.008884823881089687\n",
      "Loss: 0.008811057545244694\n",
      "Loss: 0.008739330805838108\n",
      "Loss: 0.008629908785223961\n",
      "Loss: 0.008555328473448753\n",
      "Loss: 0.00851255003362894\n",
      "Loss: 0.008473533205688\n"
     ]
    },
    {
     "name": "stderr",
     "output_type": "stream",
     "text": [
      "54it [32:36, 35.17s/it]"
     ]
    },
    {
     "name": "stdout",
     "output_type": "stream",
     "text": [
      "Processing instance 54 for the generation of counterfactual explanation\n",
      "Identifying the most expectional features\n"
     ]
    },
    {
     "name": "stderr",
     "output_type": "stream",
     "text": [
      "d:\\pycharmprojects\\xairobustness\\carla_visual\\carla_visual\\recourse_methods\\piece\\utils.py:226: SettingWithCopyWarning: \n",
      "A value is trying to be set on a copy of a slice from a DataFrame.\n",
      "Try using .loc[row_indexer,col_indexer] = value instead\n",
      "\n",
      "See the caveats in the documentation: https://pandas.pydata.org/pandas-docs/stable/user_guide/indexing.html#returning-a-view-versus-a-copy\n",
      "  df_new['flag'] = 0\n"
     ]
    },
    {
     "name": "stdout",
     "output_type": "stream",
     "text": [
      "Exceptions(?):  [10, 15, 17, 25, 31, 77, 81, 90, 104]\n",
      "The length of the latent datset before and after filtering: (128, 10) | (85, 10)\n",
      "Number of noisy exceptional features deleted: 43\n",
      "Correcting the activations X\n",
      "Optimizing the latent vector\n",
      "Loss: 0.02307104878127575\n",
      "Loss: 0.020056601613759995\n",
      "Loss: 0.01871069334447384\n",
      "Loss: 0.01776089332997799\n",
      "Loss: 0.01710747368633747\n",
      "Loss: 0.016611475497484207\n",
      "Loss: 0.016318878158926964\n",
      "Loss: 0.016145991161465645\n",
      "Loss: 0.015995707362890244\n",
      "Loss: 0.01584756001830101\n"
     ]
    },
    {
     "name": "stderr",
     "output_type": "stream",
     "text": [
      "55it [33:09, 34.56s/it]"
     ]
    },
    {
     "name": "stdout",
     "output_type": "stream",
     "text": [
      "Processing instance 55 for the generation of counterfactual explanation\n",
      "Identifying the most expectional features\n"
     ]
    },
    {
     "name": "stderr",
     "output_type": "stream",
     "text": [
      "d:\\pycharmprojects\\xairobustness\\carla_visual\\carla_visual\\recourse_methods\\piece\\utils.py:226: SettingWithCopyWarning: \n",
      "A value is trying to be set on a copy of a slice from a DataFrame.\n",
      "Try using .loc[row_indexer,col_indexer] = value instead\n",
      "\n",
      "See the caveats in the documentation: https://pandas.pydata.org/pandas-docs/stable/user_guide/indexing.html#returning-a-view-versus-a-copy\n",
      "  df_new['flag'] = 0\n"
     ]
    },
    {
     "name": "stdout",
     "output_type": "stream",
     "text": [
      "Exceptions(?):  [5, 22, 23, 27, 51, 56, 85]\n",
      "The length of the latent datset before and after filtering: (128, 10) | (82, 10)\n",
      "Number of noisy exceptional features deleted: 46\n",
      "Correcting the activations X\n",
      "Optimizing the latent vector\n",
      "Loss: 0.01510080136358738\n",
      "Loss: 0.012875541113317013\n",
      "Loss: 0.011937189847230911\n",
      "Loss: 0.011366626247763634\n",
      "Loss: 0.011063751764595509\n",
      "Loss: 0.010783471167087555\n",
      "Loss: 0.01048025768250227\n",
      "Loss: 0.010150419548153877\n",
      "Loss: 0.009120729751884937\n",
      "Loss: 0.008488887920975685\n"
     ]
    },
    {
     "name": "stderr",
     "output_type": "stream",
     "text": [
      "56it [33:46, 35.15s/it]"
     ]
    },
    {
     "name": "stdout",
     "output_type": "stream",
     "text": [
      "Processing instance 56 for the generation of counterfactual explanation\n",
      "Identifying the most expectional features\n"
     ]
    },
    {
     "name": "stderr",
     "output_type": "stream",
     "text": [
      "d:\\pycharmprojects\\xairobustness\\carla_visual\\carla_visual\\recourse_methods\\piece\\utils.py:226: SettingWithCopyWarning: \n",
      "A value is trying to be set on a copy of a slice from a DataFrame.\n",
      "Try using .loc[row_indexer,col_indexer] = value instead\n",
      "\n",
      "See the caveats in the documentation: https://pandas.pydata.org/pandas-docs/stable/user_guide/indexing.html#returning-a-view-versus-a-copy\n",
      "  df_new['flag'] = 0\n"
     ]
    },
    {
     "name": "stdout",
     "output_type": "stream",
     "text": [
      "Exceptions(?):  [12, 36, 41, 61, 65, 74, 99, 116, 123]\n",
      "The length of the latent datset before and after filtering: (128, 10) | (52, 10)\n",
      "Number of noisy exceptional features deleted: 76\n",
      "Correcting the activations X\n",
      "Optimizing the latent vector\n",
      "Loss: 0.03176143765449524\n",
      "Loss: 0.03138417750597\n",
      "Loss: 0.03120284713804722\n",
      "Loss: 0.03102993592619896\n",
      "Loss: 0.030894041061401367\n",
      "Loss: 0.030797995626926422\n",
      "Loss: 0.030726570636034012\n",
      "Loss: 0.030672695487737656\n",
      "Loss: 0.030630916357040405\n",
      "Loss: 0.03059220500290394\n"
     ]
    },
    {
     "name": "stderr",
     "output_type": "stream",
     "text": [
      "57it [34:21, 35.31s/it]"
     ]
    },
    {
     "name": "stdout",
     "output_type": "stream",
     "text": [
      "Processing instance 57 for the generation of counterfactual explanation\n",
      "Identifying the most expectional features\n"
     ]
    },
    {
     "name": "stderr",
     "output_type": "stream",
     "text": [
      "d:\\pycharmprojects\\xairobustness\\carla_visual\\carla_visual\\recourse_methods\\piece\\utils.py:226: SettingWithCopyWarning: \n",
      "A value is trying to be set on a copy of a slice from a DataFrame.\n",
      "Try using .loc[row_indexer,col_indexer] = value instead\n",
      "\n",
      "See the caveats in the documentation: https://pandas.pydata.org/pandas-docs/stable/user_guide/indexing.html#returning-a-view-versus-a-copy\n",
      "  df_new['flag'] = 0\n"
     ]
    },
    {
     "name": "stdout",
     "output_type": "stream",
     "text": [
      "Exceptions(?):  [31, 38, 49, 55, 63, 75, 81, 90, 101, 115, 124, 126]\n",
      "The length of the latent datset before and after filtering: (128, 10) | (71, 10)\n",
      "Number of noisy exceptional features deleted: 57\n",
      "Correcting the activations X\n",
      "Optimizing the latent vector\n",
      "Loss: 0.014011433348059654\n",
      "Loss: 0.009709573350846767\n",
      "Loss: 0.008142558857798576\n",
      "Loss: 0.007453008554875851\n",
      "Loss: 0.0072560920380055904\n",
      "Loss: 0.007028820924460888\n",
      "Loss: 0.006888684816658497\n",
      "Loss: 0.006795969326049089\n",
      "Loss: 0.0067121670581400394\n",
      "Loss: 0.006634944584220648\n"
     ]
    },
    {
     "name": "stderr",
     "output_type": "stream",
     "text": [
      "58it [34:57, 35.32s/it]"
     ]
    },
    {
     "name": "stdout",
     "output_type": "stream",
     "text": [
      "Processing instance 58 for the generation of counterfactual explanation\n",
      "Identifying the most expectional features\n"
     ]
    },
    {
     "name": "stderr",
     "output_type": "stream",
     "text": [
      "d:\\pycharmprojects\\xairobustness\\carla_visual\\carla_visual\\recourse_methods\\piece\\utils.py:226: SettingWithCopyWarning: \n",
      "A value is trying to be set on a copy of a slice from a DataFrame.\n",
      "Try using .loc[row_indexer,col_indexer] = value instead\n",
      "\n",
      "See the caveats in the documentation: https://pandas.pydata.org/pandas-docs/stable/user_guide/indexing.html#returning-a-view-versus-a-copy\n",
      "  df_new['flag'] = 0\n"
     ]
    },
    {
     "name": "stdout",
     "output_type": "stream",
     "text": [
      "Exceptions(?):  [22, 80, 106, 115, 121]\n",
      "The length of the latent datset before and after filtering: (128, 10) | (87, 10)\n",
      "Number of noisy exceptional features deleted: 41\n",
      "Correcting the activations X\n",
      "Optimizing the latent vector\n",
      "Loss: 0.11121614277362823\n",
      "Loss: 0.06426336616277695\n",
      "Loss: 0.062196679413318634\n",
      "Loss: 0.056554265320301056\n",
      "Loss: 0.048947982490062714\n",
      "Loss: 0.0465601421892643\n",
      "Loss: 0.03998914361000061\n",
      "Loss: 0.03579951077699661\n",
      "Loss: 0.033720020204782486\n",
      "Loss: 0.03218111768364906\n"
     ]
    },
    {
     "name": "stderr",
     "output_type": "stream",
     "text": [
      "59it [35:34, 35.88s/it]"
     ]
    },
    {
     "name": "stdout",
     "output_type": "stream",
     "text": [
      "Processing instance 59 for the generation of counterfactual explanation\n",
      "Identifying the most expectional features\n"
     ]
    },
    {
     "name": "stderr",
     "output_type": "stream",
     "text": [
      "d:\\pycharmprojects\\xairobustness\\carla_visual\\carla_visual\\recourse_methods\\piece\\utils.py:226: SettingWithCopyWarning: \n",
      "A value is trying to be set on a copy of a slice from a DataFrame.\n",
      "Try using .loc[row_indexer,col_indexer] = value instead\n",
      "\n",
      "See the caveats in the documentation: https://pandas.pydata.org/pandas-docs/stable/user_guide/indexing.html#returning-a-view-versus-a-copy\n",
      "  df_new['flag'] = 0\n"
     ]
    },
    {
     "name": "stdout",
     "output_type": "stream",
     "text": [
      "Exceptions(?):  [60, 70, 79, 81, 88, 95, 122, 126]\n",
      "The length of the latent datset before and after filtering: (128, 10) | (60, 10)\n",
      "Number of noisy exceptional features deleted: 68\n",
      "Correcting the activations X\n",
      "Optimizing the latent vector\n",
      "Loss: 0.014239182695746422\n",
      "Loss: 0.012183642946183681\n",
      "Loss: 0.01185346394777298\n",
      "Loss: 0.01172627042979002\n",
      "Loss: 0.011646693572402\n",
      "Loss: 0.011604130268096924\n",
      "Loss: 0.011571803130209446\n",
      "Loss: 0.011528611183166504\n",
      "Loss: 0.011485844850540161\n",
      "Loss: 0.011444199830293655\n"
     ]
    },
    {
     "name": "stderr",
     "output_type": "stream",
     "text": [
      "60it [36:15, 37.35s/it]"
     ]
    },
    {
     "name": "stdout",
     "output_type": "stream",
     "text": [
      "Processing instance 60 for the generation of counterfactual explanation\n",
      "Identifying the most expectional features\n"
     ]
    },
    {
     "name": "stderr",
     "output_type": "stream",
     "text": [
      "d:\\pycharmprojects\\xairobustness\\carla_visual\\carla_visual\\recourse_methods\\piece\\utils.py:226: SettingWithCopyWarning: \n",
      "A value is trying to be set on a copy of a slice from a DataFrame.\n",
      "Try using .loc[row_indexer,col_indexer] = value instead\n",
      "\n",
      "See the caveats in the documentation: https://pandas.pydata.org/pandas-docs/stable/user_guide/indexing.html#returning-a-view-versus-a-copy\n",
      "  df_new['flag'] = 0\n"
     ]
    },
    {
     "name": "stdout",
     "output_type": "stream",
     "text": [
      "Exceptions(?):  [12, 79, 120]\n",
      "The length of the latent datset before and after filtering: (128, 10) | (34, 10)\n",
      "Number of noisy exceptional features deleted: 94\n",
      "Correcting the activations X\n",
      "Optimizing the latent vector\n",
      "Loss: 0.013818034902215004\n",
      "Loss: 0.013563275337219238\n",
      "Loss: 0.013365286402404308\n",
      "Loss: 0.013236083090305328\n",
      "Loss: 0.013096919283270836\n",
      "Loss: 0.01294969953596592\n",
      "Loss: 0.012820781208574772\n",
      "Loss: 0.012551063671708107\n",
      "Loss: 0.01237059198319912\n",
      "Loss: 0.012073514983057976\n"
     ]
    },
    {
     "name": "stderr",
     "output_type": "stream",
     "text": [
      "61it [36:53, 37.56s/it]"
     ]
    },
    {
     "name": "stdout",
     "output_type": "stream",
     "text": [
      "Processing instance 61 for the generation of counterfactual explanation\n",
      "Identifying the most expectional features\n"
     ]
    },
    {
     "name": "stderr",
     "output_type": "stream",
     "text": [
      "d:\\pycharmprojects\\xairobustness\\carla_visual\\carla_visual\\recourse_methods\\piece\\utils.py:226: SettingWithCopyWarning: \n",
      "A value is trying to be set on a copy of a slice from a DataFrame.\n",
      "Try using .loc[row_indexer,col_indexer] = value instead\n",
      "\n",
      "See the caveats in the documentation: https://pandas.pydata.org/pandas-docs/stable/user_guide/indexing.html#returning-a-view-versus-a-copy\n",
      "  df_new['flag'] = 0\n"
     ]
    },
    {
     "name": "stdout",
     "output_type": "stream",
     "text": [
      "Exceptions(?):  [12, 60, 75, 79, 86, 103, 120]\n",
      "The length of the latent datset before and after filtering: (128, 10) | (68, 10)\n",
      "Number of noisy exceptional features deleted: 60\n",
      "Correcting the activations X\n",
      "Optimizing the latent vector\n",
      "Loss: 0.006863648071885109\n",
      "Loss: 0.0063795289024710655\n",
      "Loss: 0.006251688115298748\n",
      "Loss: 0.00615251949056983\n",
      "Loss: 0.006067545618861914\n",
      "Loss: 0.0059930309653282166\n",
      "Loss: 0.005949793383479118\n",
      "Loss: 0.005901725962758064\n",
      "Loss: 0.005844540428370237\n",
      "Loss: 0.00577697716653347\n"
     ]
    },
    {
     "name": "stderr",
     "output_type": "stream",
     "text": [
      "62it [37:32, 37.97s/it]"
     ]
    },
    {
     "name": "stdout",
     "output_type": "stream",
     "text": [
      "Processing instance 62 for the generation of counterfactual explanation\n",
      "Identifying the most expectional features\n"
     ]
    },
    {
     "name": "stderr",
     "output_type": "stream",
     "text": [
      "d:\\pycharmprojects\\xairobustness\\carla_visual\\carla_visual\\recourse_methods\\piece\\utils.py:226: SettingWithCopyWarning: \n",
      "A value is trying to be set on a copy of a slice from a DataFrame.\n",
      "Try using .loc[row_indexer,col_indexer] = value instead\n",
      "\n",
      "See the caveats in the documentation: https://pandas.pydata.org/pandas-docs/stable/user_guide/indexing.html#returning-a-view-versus-a-copy\n",
      "  df_new['flag'] = 0\n"
     ]
    },
    {
     "name": "stdout",
     "output_type": "stream",
     "text": [
      "Exceptions(?):  [19, 20, 50, 81, 118, 122]\n",
      "The length of the latent datset before and after filtering: (128, 10) | (67, 10)\n",
      "Number of noisy exceptional features deleted: 61\n",
      "Correcting the activations X\n",
      "Optimizing the latent vector\n",
      "Loss: 0.004745875019580126\n",
      "Loss: 0.004586976952850819\n",
      "Loss: 0.004529281053692102\n",
      "Loss: 0.004462582990527153\n",
      "Loss: 0.0043930551037192345\n",
      "Loss: 0.0043454598635435104\n",
      "Loss: 0.0043214233592152596\n",
      "Loss: 0.004302912391722202\n",
      "Loss: 0.004288770258426666\n",
      "Loss: 0.004273708909749985\n"
     ]
    },
    {
     "name": "stderr",
     "output_type": "stream",
     "text": [
      "63it [38:13, 39.00s/it]"
     ]
    },
    {
     "name": "stdout",
     "output_type": "stream",
     "text": [
      "Processing instance 63 for the generation of counterfactual explanation\n",
      "Identifying the most expectional features\n"
     ]
    },
    {
     "name": "stderr",
     "output_type": "stream",
     "text": [
      "d:\\pycharmprojects\\xairobustness\\carla_visual\\carla_visual\\recourse_methods\\piece\\utils.py:226: SettingWithCopyWarning: \n",
      "A value is trying to be set on a copy of a slice from a DataFrame.\n",
      "Try using .loc[row_indexer,col_indexer] = value instead\n",
      "\n",
      "See the caveats in the documentation: https://pandas.pydata.org/pandas-docs/stable/user_guide/indexing.html#returning-a-view-versus-a-copy\n",
      "  df_new['flag'] = 0\n"
     ]
    },
    {
     "name": "stdout",
     "output_type": "stream",
     "text": [
      "Exceptions(?):  [2, 25, 34, 97]\n",
      "The length of the latent datset before and after filtering: (128, 10) | (78, 10)\n",
      "Number of noisy exceptional features deleted: 50\n",
      "Correcting the activations X\n",
      "Optimizing the latent vector\n",
      "Loss: 0.005452655255794525\n",
      "Loss: 0.004337815567851067\n",
      "Loss: 0.004190131090581417\n",
      "Loss: 0.004010139498859644\n",
      "Loss: 0.00394243560731411\n",
      "Loss: 0.003896364476531744\n",
      "Loss: 0.0038623977452516556\n",
      "Loss: 0.003830383997410536\n",
      "Loss: 0.0038021099753677845\n",
      "Loss: 0.0037795586977154016\n"
     ]
    },
    {
     "name": "stderr",
     "output_type": "stream",
     "text": [
      "64it [38:48, 37.76s/it]"
     ]
    },
    {
     "name": "stdout",
     "output_type": "stream",
     "text": [
      "Processing instance 64 for the generation of counterfactual explanation\n",
      "Identifying the most expectional features\n"
     ]
    },
    {
     "name": "stderr",
     "output_type": "stream",
     "text": [
      "d:\\pycharmprojects\\xairobustness\\carla_visual\\carla_visual\\recourse_methods\\piece\\utils.py:226: SettingWithCopyWarning: \n",
      "A value is trying to be set on a copy of a slice from a DataFrame.\n",
      "Try using .loc[row_indexer,col_indexer] = value instead\n",
      "\n",
      "See the caveats in the documentation: https://pandas.pydata.org/pandas-docs/stable/user_guide/indexing.html#returning-a-view-versus-a-copy\n",
      "  df_new['flag'] = 0\n"
     ]
    },
    {
     "name": "stdout",
     "output_type": "stream",
     "text": [
      "Exceptions(?):  [14, 43, 73, 108, 110, 125]\n",
      "The length of the latent datset before and after filtering: (128, 10) | (56, 10)\n",
      "Number of noisy exceptional features deleted: 72\n",
      "Correcting the activations X\n",
      "Optimizing the latent vector\n",
      "Loss: 0.030004173517227173\n",
      "Loss: 0.029183868318796158\n",
      "Loss: 0.028926869854331017\n",
      "Loss: 0.028718873858451843\n",
      "Loss: 0.028487494215369225\n",
      "Loss: 0.028319237753748894\n",
      "Loss: 0.028166389092803\n",
      "Loss: 0.02802661620080471\n",
      "Loss: 0.02788330242037773\n",
      "Loss: 0.02773939073085785\n"
     ]
    },
    {
     "name": "stderr",
     "output_type": "stream",
     "text": [
      "65it [39:30, 39.05s/it]"
     ]
    },
    {
     "name": "stdout",
     "output_type": "stream",
     "text": [
      "Processing instance 65 for the generation of counterfactual explanation\n",
      "Identifying the most expectional features\n"
     ]
    },
    {
     "name": "stderr",
     "output_type": "stream",
     "text": [
      "d:\\pycharmprojects\\xairobustness\\carla_visual\\carla_visual\\recourse_methods\\piece\\utils.py:226: SettingWithCopyWarning: \n",
      "A value is trying to be set on a copy of a slice from a DataFrame.\n",
      "Try using .loc[row_indexer,col_indexer] = value instead\n",
      "\n",
      "See the caveats in the documentation: https://pandas.pydata.org/pandas-docs/stable/user_guide/indexing.html#returning-a-view-versus-a-copy\n",
      "  df_new['flag'] = 0\n"
     ]
    },
    {
     "name": "stdout",
     "output_type": "stream",
     "text": [
      "Exceptions(?):  [75, 79, 86, 103, 120]\n",
      "The length of the latent datset before and after filtering: (128, 10) | (55, 10)\n",
      "Number of noisy exceptional features deleted: 73\n",
      "Correcting the activations X\n",
      "Optimizing the latent vector\n",
      "Loss: 0.01021156832575798\n",
      "Loss: 0.009821711108088493\n",
      "Loss: 0.009600570425391197\n",
      "Loss: 0.009468982927501202\n",
      "Loss: 0.009355184622108936\n",
      "Loss: 0.009230053052306175\n",
      "Loss: 0.009140106849372387\n",
      "Loss: 0.009066244587302208\n",
      "Loss: 0.009005961008369923\n",
      "Loss: 0.008953075855970383\n"
     ]
    },
    {
     "name": "stderr",
     "output_type": "stream",
     "text": [
      "66it [40:08, 38.67s/it]"
     ]
    },
    {
     "name": "stdout",
     "output_type": "stream",
     "text": [
      "Processing instance 66 for the generation of counterfactual explanation\n",
      "Identifying the most expectional features\n"
     ]
    },
    {
     "name": "stderr",
     "output_type": "stream",
     "text": [
      "d:\\pycharmprojects\\xairobustness\\carla_visual\\carla_visual\\recourse_methods\\piece\\utils.py:226: SettingWithCopyWarning: \n",
      "A value is trying to be set on a copy of a slice from a DataFrame.\n",
      "Try using .loc[row_indexer,col_indexer] = value instead\n",
      "\n",
      "See the caveats in the documentation: https://pandas.pydata.org/pandas-docs/stable/user_guide/indexing.html#returning-a-view-versus-a-copy\n",
      "  df_new['flag'] = 0\n"
     ]
    },
    {
     "name": "stdout",
     "output_type": "stream",
     "text": [
      "Exceptions(?):  [7, 23, 32, 34, 38, 65, 78, 97, 122]\n",
      "The length of the latent datset before and after filtering: (128, 10) | (62, 10)\n",
      "Number of noisy exceptional features deleted: 66\n",
      "Correcting the activations X\n",
      "Optimizing the latent vector\n",
      "Loss: 0.005552804563194513\n",
      "Loss: 0.004737786948680878\n",
      "Loss: 0.0046813637018203735\n",
      "Loss: 0.004667274653911591\n",
      "Loss: 0.0046584890224039555\n",
      "Loss: 0.00465075159445405\n",
      "Loss: 0.00464245630428195\n",
      "Loss: 0.004632870201021433\n",
      "Loss: 0.004619772545993328\n",
      "Loss: 0.004602757282555103\n"
     ]
    },
    {
     "name": "stderr",
     "output_type": "stream",
     "text": [
      "67it [40:39, 36.45s/it]"
     ]
    },
    {
     "name": "stdout",
     "output_type": "stream",
     "text": [
      "Processing instance 67 for the generation of counterfactual explanation\n",
      "Identifying the most expectional features\n"
     ]
    },
    {
     "name": "stderr",
     "output_type": "stream",
     "text": [
      "d:\\pycharmprojects\\xairobustness\\carla_visual\\carla_visual\\recourse_methods\\piece\\utils.py:226: SettingWithCopyWarning: \n",
      "A value is trying to be set on a copy of a slice from a DataFrame.\n",
      "Try using .loc[row_indexer,col_indexer] = value instead\n",
      "\n",
      "See the caveats in the documentation: https://pandas.pydata.org/pandas-docs/stable/user_guide/indexing.html#returning-a-view-versus-a-copy\n",
      "  df_new['flag'] = 0\n"
     ]
    },
    {
     "name": "stdout",
     "output_type": "stream",
     "text": [
      "Exceptions(?):  [34, 66]\n",
      "The length of the latent datset before and after filtering: (128, 10) | (70, 10)\n",
      "Number of noisy exceptional features deleted: 58\n",
      "Correcting the activations X\n",
      "Optimizing the latent vector\n",
      "Loss: 0.005209897644817829\n",
      "Loss: 0.003447354305535555\n",
      "Loss: 0.0033890041522681713\n",
      "Loss: 0.0033508490305393934\n",
      "Loss: 0.003297019051387906\n",
      "Loss: 0.0032443637028336525\n",
      "Loss: 0.003185269422829151\n",
      "Loss: 0.0031544454395771027\n",
      "Loss: 0.00313772726804018\n",
      "Loss: 0.0031268640886992216\n"
     ]
    },
    {
     "name": "stderr",
     "output_type": "stream",
     "text": [
      "68it [41:12, 36.37s/it]\n"
     ]
    }
   ],
   "source": [
    "misclf_batch_feature_probs = []\n",
    "\n",
    "for i, instance in tqdm(enumerate(misclf_samples_info)):\n",
    "    print(f'Processing instance {i} for the generation of counterfactual explanation')\n",
    "    query_image = instance['image']\n",
    "    query_label = instance['label'].detach().item()\n",
    "    query_latent_vector = instance['latent_vector']\n",
    "    query_prediction = instance['prediction'].detach().numpy()\n",
    "    query_activations =  cnn(gen(query_latent_vector))[1][0]\n",
    "\n",
    "    print('Identifying the most expectional features')\n",
    "    df = putils.acquire_feature_probabilities(latent_ds, query_label, cnn, query_image, alpha)\n",
    "    df = putils.filter_df_of_exceptional_noise(df, query_label, cnn, alpha)\n",
    "    # Sort by least probable to the most probable\n",
    "    df = df.sort_values('Probability of Event')\n",
    "\n",
    "    print('Correcting the activations X')\n",
    "    # Get x' -- The Ideal Explanation\n",
    "    cor_activations = putils.modifying_exceptional_features(df, query_label, query_activations)   \n",
    "    cor_activations = cor_activations.clone().detach().float().requires_grad_(False)\n",
    "\n",
    "    print('Optimizing the latent vector')\n",
    "    cor_latent_vector = putils.optim_PIECE(gen, cnn, cor_activations, query_latent_vector)\n",
    "    misclf_samples_info[i]['corrected_activation'] = cor_activations\n",
    "    misclf_samples_info[i]['corrected_latent_vector'] = cor_latent_vector\n"
   ]
  },
  {
   "cell_type": "code",
   "execution_count": 63,
   "metadata": {},
   "outputs": [],
   "source": [
    "cor_activations_lv_path = r'D:\\PycharmProjects\\XAIRobustness\\CARLA_VISUAL\\carla_visual\\recourse_methods\\piece\\misclassified_instances'\n",
    "with open(cor_activations_lv_path+'\\corrected_activations_and_latent_vectors.pickle', 'wb') as f:\n",
    "    cor_activations_and_lv = [{'corrected_activation': sample_info['corrected_activation'],\n",
    "                               'corrected_latent_vector': sample_info['corrected_latent_vector']}\n",
    "                                 for sample_info in misclf_samples_info]\n",
    "    pickle.dump(cor_activations_and_lv, f)"
   ]
  },
  {
   "cell_type": "markdown",
   "metadata": {},
   "source": [
    "Plot corrected mislassifications"
   ]
  },
  {
   "cell_type": "code",
   "execution_count": 48,
   "metadata": {},
   "outputs": [
    {
     "data": {
      "image/png": "[encoded data removed]",
      "text/plain": [
       "<Figure size 1000x800 with 10 Axes>"
      ]
     },
     "metadata": {},
     "output_type": "display_data"
    }
   ],
   "source": [
    "plot_misclassifications(misclf_samples[:10])"
   ]
  },
  {
   "cell_type": "code",
   "execution_count": 53,
   "metadata": {},
   "outputs": [],
   "source": [
    "misclf_sample_slice = [(gen(sample['corrected_latent_vector']).detach(), sample['label']) for sample in misclf_samples_info[:10]]\n",
    "\n",
    "misclf_results = [(*misclf_sample, \n",
    "                   torch.argmax(cnn(misclf_sample[0])[0]).detach().item()) for misclf_sample in misclf_sample_slice]"
   ]
  },
  {
   "cell_type": "code",
   "execution_count": 62,
   "metadata": {},
   "outputs": [
    {
     "data": {
      "text/plain": [
       "(tensor(0), tensor(6))"
      ]
     },
     "execution_count": 62,
     "metadata": {},
     "output_type": "execute_result"
    }
   ],
   "source": [
    "n = 15\n",
    "torch.argmax(cnn(gen(misclf_samples_info[n]['corrected_latent_vector']))[0]), \\\n",
    "misclf_samples_info[n]['label']"
   ]
  },
  {
   "cell_type": "code",
   "execution_count": 54,
   "metadata": {},
   "outputs": [
    {
     "data": {
      "image/png": "[encoded data removed]",
      "text/plain": [
       "<Figure size 1000x800 with 10 Axes>"
      ]
     },
     "metadata": {},
     "output_type": "display_data"
    }
   ],
   "source": [
    "plot_misclassifications(misclf_results) "
   ]
  },
  {
   "cell_type": "code",
   "execution_count": null,
   "metadata": {},
   "outputs": [],
   "source": []
  }
 ],
 "metadata": {
  "kernelspec": {
   "display_name": "venv",
   "language": "python",
   "name": "python3"
  },
  "language_info": {
   "codemirror_mode": {
    "name": "ipython",
    "version": 3
   },
   "file_extension": ".py",
   "mimetype": "text/x-python",
   "name": "python",
   "nbconvert_exporter": "python",
   "pygments_lexer": "ipython3",
   "version": "3.11.4"
  }
 },
 "nbformat": 4,
 "nbformat_minor": 2
}
