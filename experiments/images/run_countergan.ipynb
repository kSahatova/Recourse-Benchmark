{
 "cells": [
  {
   "cell_type": "markdown",
   "metadata": {},
   "source": [
    "# Import libraries"
   ]
  },
  {
   "cell_type": "code",
   "execution_count": 3,
   "metadata": {},
   "outputs": [],
   "source": [
    "import os\n",
    "from datetime import datetime\n",
    "import json\n",
    "import pickle\n",
    "import time\n",
    "import numpy as np\n",
    "import pandas as pd\n",
    "from tqdm import tqdm\n",
    "\n",
    "import tensorflow_probability as tfp\n",
    "import tensorflow as tf\n",
    "\n",
    "from matplotlib import offsetbox\n",
    "from matplotlib.colors import ListedColormap\n",
    "import matplotlib.pyplot as plt\n",
    "\n",
    "from tensorflow.keras.datasets.mnist import load_data\n",
    "from tensorflow.keras.models import load_model\n",
    "from tensorflow.keras.utils import to_categorical\n",
    "\n",
    "from tensorflow.keras import losses\n",
    "\n",
    "plt.rcParams['figure.figsize'] = [13, 5]\n",
    "from carla_visual.plotting.plot_output import plot_image\n"
   ]
  },
  {
   "cell_type": "code",
   "execution_count": 4,
   "metadata": {},
   "outputs": [],
   "source": [
    "import carla_visual.recourse_methods.countergan.utils  as cutils\n",
    "from carla_visual.recourse_methods.countergan. model import create_discriminator, create_generator, define_countergan"
   ]
  },
  {
   "cell_type": "markdown",
   "metadata": {},
   "source": [
    "# Load data and pre-trained models"
   ]
  },
  {
   "cell_type": "code",
   "execution_count": 5,
   "metadata": {},
   "outputs": [],
   "source": [
    "MODELS_WEIGHTS_PATH = r\"D:\\PycharmProjects\\XAIRobustness\\CARLA_VISUAL\\carla_visual\\recourse_methods\\countergan\\models_tf_weights\""
   ]
  },
  {
   "cell_type": "code",
   "execution_count": 6,
   "metadata": {},
   "outputs": [
    {
     "name": "stderr",
     "output_type": "stream",
     "text": [
      "d:\\PycharmProjects\\XAIRobustness\\venv\\Lib\\site-packages\\keras\\src\\layers\\convolutional\\base_conv.py:107: UserWarning: Do not pass an `input_shape`/`input_dim` argument to a layer. When using Sequential models, prefer using an `Input(shape)` object as the first layer in the model instead.\n",
      "  super().__init__(activity_regularizer=activity_regularizer, **kwargs)\n",
      "d:\\PycharmProjects\\XAIRobustness\\venv\\Lib\\site-packages\\keras\\src\\optimizers\\base_optimizer.py:86: UserWarning: Argument `decay` is no longer supported and will be ignored.\n",
      "  warnings.warn(\n",
      "WARNING:absl:Compiled the loaded model, but the compiled metrics have yet to be built. `model.compile_metrics` will be empty until you train or evaluate the model.\n",
      "WARNING:absl:Error in loading the saved optimizer state. As a result, your model is starting with a freshly initialized optimizer.\n"
     ]
    },
    {
     "name": "stdout",
     "output_type": "stream",
     "text": [
      "\u001b[1m313/313\u001b[0m \u001b[32m━━━━━━━━━━━━━━━━━━━━\u001b[0m\u001b[37m\u001b[0m \u001b[1m1s\u001b[0m 3ms/step\n",
      "Classifier accuracy test: 0.989\n"
     ]
    },
    {
     "name": "stderr",
     "output_type": "stream",
     "text": [
      "WARNING:absl:Compiled the loaded model, but the compiled metrics have yet to be built. `model.compile_metrics` will be empty until you train or evaluate the model.\n",
      "WARNING:absl:Error in loading the saved optimizer state. As a result, your model is starting with a freshly initialized optimizer.\n"
     ]
    },
    {
     "name": "stdout",
     "output_type": "stream",
     "text": [
      "\u001b[1m313/313\u001b[0m \u001b[32m━━━━━━━━━━━━━━━━━━━━\u001b[0m\u001b[37m\u001b[0m \u001b[1m1s\u001b[0m 3ms/step\n",
      "AE average reconstruction error: 3.660\n"
     ]
    }
   ],
   "source": [
    "(x_train, y_train), (x_test, y_test) = load_data()\n",
    "\n",
    "x_train = (x_train / 255.).astype(\"float32\")\n",
    "x_test = (x_test / 255.).astype(\"float32\")\n",
    "\n",
    "DESIRED_CLASS = 9  # This is the target class that the generator will learn to synthetize\n",
    "N_CLASSES = 10\n",
    "\n",
    "y_train = to_categorical(y_train)\n",
    "y_test = to_categorical(y_test)\n",
    "\n",
    "x_flat = x_train.reshape((x_train.shape[0], x_train.shape[1]*x_train.shape[2]))\n",
    "\n",
    "X_train = np.expand_dims(x_train, axis=-1)\n",
    "X_test = np.expand_dims(x_test, axis=-1)\n",
    "\n",
    "LOAD_AUTOENCODER_AND_CLASSIFIER = True\n",
    "\n",
    "if LOAD_AUTOENCODER_AND_CLASSIFIER:\n",
    "    classifier = load_model(f\"{MODELS_WEIGHTS_PATH}/classifier.h5\")\n",
    "    y_prob = classifier.predict(X_test)\n",
    "    accuracy = (y_prob.argmax(axis=1) == y_test.argmax(axis=1)).mean()\n",
    "    print(f\"Classifier accuracy test: {accuracy:.3f}\")\n",
    "\n",
    "    autoencoder = load_model(f\"{MODELS_WEIGHTS_PATH}/autoencoder.h5\",\n",
    "                             custom_objects={'mse': losses.mse})\n",
    "    reconstruction_error_test = cutils.compute_reconstruction_error(X_test, autoencoder)\n",
    "    print(f\"AE average reconstruction error: {reconstruction_error_test.mean():.3f}\")"
   ]
  },
  {
   "cell_type": "code",
   "execution_count": 5,
   "metadata": {},
   "outputs": [
    {
     "name": "stdout",
     "output_type": "stream",
     "text": [
      "<KerasTensor shape=(None, 28, 28, 1), dtype=float32, sparse=False, name=keras_tensor_83>\n",
      "<KerasTensor shape=(None, 28, 28, 1), dtype=float32, sparse=False, name=keras_tensor_84>\n"
     ]
    },
    {
     "name": "stderr",
     "output_type": "stream",
     "text": [
      "d:\\PycharmProjects\\XAIRobustness\\venv\\Lib\\site-packages\\keras\\src\\layers\\activations\\leaky_relu.py:41: UserWarning: Argument `alpha` is deprecated. Use `negative_slope` instead.\n",
      "  warnings.warn(\n"
     ]
    }
   ],
   "source": [
    "generator = create_generator(residuals=True)\n",
    "generator.load_weights(f\"{MODELS_WEIGHTS_PATH}/generator.h5\")"
   ]
  },
  {
   "cell_type": "code",
   "execution_count": 6,
   "metadata": {},
   "outputs": [],
   "source": [
    "discriminator = create_discriminator()\n",
    "discriminator.load_weights(f\"{MODELS_WEIGHTS_PATH}/discriminator.h5\")"
   ]
  },
  {
   "cell_type": "code",
   "execution_count": 7,
   "metadata": {},
   "outputs": [],
   "source": [
    "countergan = define_countergan(generator, discriminator, classifier)\n",
    "countergan.load_weights(f\"{MODELS_WEIGHTS_PATH}/countergan.h5\")"
   ]
  },
  {
   "cell_type": "markdown",
   "metadata": {},
   "source": [
    "# Robustness evaluation "
   ]
  },
  {
   "cell_type": "code",
   "execution_count": 21,
   "metadata": {},
   "outputs": [
    {
     "name": "stdout",
     "output_type": "stream",
     "text": [
      "\u001b[1m313/313\u001b[0m \u001b[32m━━━━━━━━━━━━━━━━━━━━\u001b[0m\u001b[37m\u001b[0m \u001b[1m3s\u001b[0m 10ms/step\n"
     ]
    }
   ],
   "source": [
    "counterfactuals = generator.predict(X_test)"
   ]
  },
  {
   "cell_type": "markdown",
   "metadata": {},
   "source": [
    "Compare an instance from the test set and a generated counterfactual"
   ]
  },
  {
   "cell_type": "code",
   "execution_count": 22,
   "metadata": {},
   "outputs": [],
   "source": [
    "test_image = X_test[0]\n",
    "cf_image = counterfactuals[0]"
   ]
  },
  {
   "cell_type": "code",
   "execution_count": 23,
   "metadata": {},
   "outputs": [
    {
     "data": {
      "image/png": "[encoded data removed]",
      "text/plain": [
       "<Figure size 1300x500 with 1 Axes>"
      ]
     },
     "metadata": {},
     "output_type": "display_data"
    }
   ],
   "source": [
    "plot_image(test_image)"
   ]
  },
  {
   "cell_type": "code",
   "execution_count": 24,
   "metadata": {},
   "outputs": [
    {
     "data": {
      "image/png": "[encoded data removed]",
      "text/plain": [
       "<Figure size 1300x500 with 1 Axes>"
      ]
     },
     "metadata": {},
     "output_type": "display_data"
    }
   ],
   "source": [
    "plot_image(cf_image)"
   ]
  },
  {
   "cell_type": "markdown",
   "metadata": {},
   "source": [
    "Perturb the counterfactual and test the prediction of the classifier"
   ]
  },
  {
   "cell_type": "code",
   "execution_count": 49,
   "metadata": {},
   "outputs": [
    {
     "name": "stdout",
     "output_type": "stream",
     "text": [
      "(28, 28, 1)\n",
      "\u001b[1m1/1\u001b[0m \u001b[32m━━━━━━━━━━━━━━━━━━━━\u001b[0m\u001b[37m\u001b[0m \u001b[1m0s\u001b[0m 27ms/step\n"
     ]
    },
    {
     "data": {
      "image/png": "[encoded data removed]",
      "text/plain": [
       "<Figure size 1300x500 with 1 Axes>"
      ]
     },
     "metadata": {},
     "output_type": "display_data"
    },
    {
     "name": "stdout",
     "output_type": "stream",
     "text": [
      "[[0 0 0 0 0 0 0 0 1 0]]\n"
     ]
    }
   ],
   "source": [
    "#noise = np.eye(28, 28) * 0.25\n",
    "noise = np.random.rand(28, 28, 1)  # np.expand_dims(noise, axis=-1)\n",
    "print(noise.shape)\n",
    "noisy_cf_image = cf_image+noise\n",
    "prediction = (classifier.predict(np.expand_dims(noisy_cf_image, axis=0)) > 0.5).astype(int)\n",
    "plot_image(noisy_cf_image)\n",
    "print(prediction)"
   ]
  },
  {
   "cell_type": "code",
   "execution_count": 51,
   "metadata": {},
   "outputs": [
    {
     "name": "stdout",
     "output_type": "stream",
     "text": [
      "\u001b[1m1/1\u001b[0m \u001b[32m━━━━━━━━━━━━━━━━━━━━\u001b[0m\u001b[37m\u001b[0m \u001b[1m0s\u001b[0m 38ms/step\n"
     ]
    },
    {
     "data": {
      "text/plain": [
       "array([[3.1045503e-05, 1.9874413e-05, 5.7319462e-02, 4.0387545e-02,\n",
       "        1.1188907e-04, 2.2444339e-03, 7.5587263e-06, 1.5150759e-03,\n",
       "        8.7679982e-01, 2.1563349e-02]], dtype=float32)"
      ]
     },
     "execution_count": 51,
     "metadata": {},
     "output_type": "execute_result"
    }
   ],
   "source": [
    "classifier.predict(np.expand_dims(noisy_cf_image, axis=0))"
   ]
  },
  {
   "cell_type": "markdown",
   "metadata": {},
   "source": [
    "# Calculate Invalidation Rate"
   ]
  },
  {
   "cell_type": "code",
   "execution_count": 52,
   "metadata": {},
   "outputs": [],
   "source": [
    "def perturb_sample(x, n_samples, sigma2):\n",
    "\n",
    "    # stack copies of this sample, i.e. n rows of x.\n",
    "    n = x.shape[1]\n",
    "    X = np.tile(x, reps=(n_samples, 1, 1, 1))\n",
    "\n",
    "    # sample normal distributed values\n",
    "    Sigma = tf.eye(n) * sigma2\n",
    "    eps = tfp.distributions.MultivariateNormalDiag(\n",
    "            loc=tf.zeros(n),\n",
    "            scale_diag=Sigma\n",
    "                  ).sample((n_samples,))\n",
    "    eps = tf.expand_dims(eps, axis=-1)\n",
    "    return X + eps, Sigma, eps"
   ]
  },
  {
   "cell_type": "code",
   "execution_count": 53,
   "metadata": {},
   "outputs": [],
   "source": [
    "sigmas2 = [0.01, 0.015, 0.02, 0.025]\n",
    "n_samples = 1000"
   ]
  },
  {
   "cell_type": "code",
   "execution_count": 57,
   "metadata": {},
   "outputs": [
    {
     "name": "stderr",
     "output_type": "stream",
     "text": [
      "100%|██████████| 1000/1000 [05:28<00:00,  3.05it/s]\n",
      "100%|██████████| 1000/1000 [06:02<00:00,  2.76it/s]\n",
      "100%|██████████| 1000/1000 [15:08<00:00,  1.10it/s]   \n",
      "100%|██████████| 1000/1000 [09:13<00:00,  1.81it/s]\n"
     ]
    }
   ],
   "source": [
    "rir_results = {}\n",
    "\n",
    "\n",
    "for sigma in sigmas2:\n",
    "    result = []\n",
    "    for x in tqdm(counterfactuals[:1000]):\n",
    "        if len(x.shape) < 4:\n",
    "            x = tf.expand_dims(x, axis=0)\n",
    "        cf_prediction = (classifier.predict(x, verbose=0) > 0.5).astype(int)\n",
    "        cf_prediction = np.tile(cf_prediction, (n_samples, 1)) \n",
    "\n",
    "        X_pert, _, _ = perturb_sample(x, n_samples, sigma2=sigmas2[0])\n",
    "        cf_pert_prediction = (classifier.predict(X_pert, verbose=0).squeeze() > 0.5).astype(int)\n",
    "        delta_M = np.mean(np.all(cf_prediction - cf_pert_prediction, axis=1))\n",
    "\n",
    "        result.append(delta_M)\n",
    "    rir_results['sigma_'+str(sigma)] = result"
   ]
  },
  {
   "cell_type": "code",
   "execution_count": 63,
   "metadata": {},
   "outputs": [
    {
     "name": "stdout",
     "output_type": "stream",
     "text": [
      "0.0    1000\n",
      "dtype: int64\n",
      "0.0    1000\n",
      "dtype: int64\n",
      "0.0    1000\n",
      "dtype: int64\n",
      "0.0    1000\n",
      "dtype: int64\n"
     ]
    }
   ],
   "source": [
    "rir_results_df = {k: pd.DataFrame(v) for k, v in rir_results.items()}\n",
    "for key in rir_results_df.keys():\n",
    "    print(rir_results_df[key].value_counts())"
   ]
  },
  {
   "cell_type": "code",
   "execution_count": 67,
   "metadata": {},
   "outputs": [
    {
     "data": {
      "text/plain": [
       "(1000, 1)"
      ]
     },
     "execution_count": 67,
     "metadata": {},
     "output_type": "execute_result"
    }
   ],
   "source": [
    "rir_results_df['sigma_0.01'].shape"
   ]
  },
  {
   "cell_type": "code",
   "execution_count": 78,
   "metadata": {},
   "outputs": [
    {
     "name": "stderr",
     "output_type": "stream",
     "text": [
      "C:\\Users\\sahat\\AppData\\Local\\Temp\\ipykernel_4032\\1098059160.py:8: MatplotlibDeprecationWarning: The 'labels' parameter of boxplot() has been renamed 'tick_labels' since Matplotlib 3.9; support for the old name will be dropped in 3.11.\n",
      "  box_plot = ax.boxplot(datasets, patch_artist=True, labels=labels)\n"
     ]
    },
    {
     "data": {
      "image/png": "[encoded data removed]",
      "text/plain": [
       "<Figure size 2000x500 with 1 Axes>"
      ]
     },
     "metadata": {},
     "output_type": "display_data"
    }
   ],
   "source": [
    "# Create a figure and a set of subplots\n",
    "fig, ax = plt.subplots(figsize=(20, 5))\n",
    "\n",
    "# Plotting the boxplots\n",
    "datasets = pd.concat(list(rir_results_df.values()), axis=1)\n",
    "labels = list(rir_results_df.keys())\n",
    "\n",
    "box_plot = ax.boxplot(datasets, patch_artist=True, labels=labels)\n",
    "\n",
    "# Customize boxplot colors\n",
    "colors = ['lightblue', 'lightgreen', 'lightpink', 'lightyellow']\n",
    "for patch, color in zip(box_plot['boxes'], colors):\n",
    "    patch.set_facecolor(color)\n",
    "\n",
    "# Add labels and title\n",
    "ax.set_xlabel('Perturbation magnitude')\n",
    "ax.set_ylabel('IR')\n",
    "ax.set_title('Recourse Invalidation Rate', fontsize=16)\n",
    "\n",
    "# Add a grid for better readability\n",
    "ax.grid(True)\n",
    "\n",
    "# Adjust layout and display the plot\n",
    "plt.tight_layout()\n",
    "plt.show()"
   ]
  },
  {
   "cell_type": "code",
   "execution_count": null,
   "metadata": {},
   "outputs": [],
   "source": []
  },
  {
   "cell_type": "code",
   "execution_count": null,
   "metadata": {},
   "outputs": [],
   "source": []
  },
  {
   "cell_type": "code",
   "execution_count": null,
   "metadata": {},
   "outputs": [],
   "source": []
  },
  {
   "cell_type": "code",
   "execution_count": null,
   "metadata": {},
   "outputs": [],
   "source": []
  },
  {
   "cell_type": "code",
   "execution_count": null,
   "metadata": {},
   "outputs": [],
   "source": []
  },
  {
   "cell_type": "code",
   "execution_count": null,
   "metadata": {},
   "outputs": [],
   "source": []
  }
 ],
 "metadata": {
  "kernelspec": {
   "display_name": "venv",
   "language": "python",
   "name": "python3"
  },
  "language_info": {
   "codemirror_mode": {
    "name": "ipython",
    "version": 3
   },
   "file_extension": ".py",
   "mimetype": "text/x-python",
   "name": "python",
   "nbconvert_exporter": "python",
   "pygments_lexer": "ipython3",
   "version": "3.11.4"
  }
 },
 "nbformat": 4,
 "nbformat_minor": 2
}
