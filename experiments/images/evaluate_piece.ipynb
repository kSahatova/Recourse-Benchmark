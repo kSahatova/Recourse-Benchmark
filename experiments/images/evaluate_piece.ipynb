{
 "cells": [
  {
   "cell_type": "code",
   "execution_count": 13,
   "metadata": {},
   "outputs": [],
   "source": [
    "import os.path as osp\n",
    "import numpy as np\n",
    "import pandas as pd\n",
    "import pickle\n",
    "import torch\n",
    "from torch.nn.functional import one_hot\n",
    "\n",
    "import matplotlib.pyplot as plt\n",
    "\n",
    "from carla_visual.dataloaders.online_dataset import load_online_dataset, build_dataloader\n",
    "\n",
    "from carla_visual.models.classifiers import PIECECNN\n",
    "from carla_visual.models.generators import PIECEGenerator\n",
    "\n",
    "from carla_visual.models.utils import load_model_weights\n",
    "\n",
    "from carla_visual.models.autoencoder import AE\n",
    "from carla_visual.evaluation import calculate_sparsity, calculate_proximity, calculate_validity\n",
    "from carla_visual.evaluation import calculate_IM1, calculate_IM2"
   ]
  },
  {
   "cell_type": "code",
   "execution_count": 14,
   "metadata": {},
   "outputs": [],
   "source": [
    "np.random.seed(0)\n",
    "torch.manual_seed(0);"
   ]
  },
  {
   "cell_type": "code",
   "execution_count": 3,
   "metadata": {},
   "outputs": [
    {
     "name": "stdout",
     "output_type": "stream",
     "text": [
      "Shape of the train set:  torch.Size([60000, 28, 28])\n",
      "Shape of the test set:  torch.Size([10000, 28, 28])\n"
     ]
    }
   ],
   "source": [
    "ds_name = 'MNIST'\n",
    "data_root = 'D:\\PycharmProjects\\XAIRobustness\\data\\images'\n",
    "\n",
    "train_data, test_data = load_online_dataset(ds_name, data_root, download=False)\n",
    "print(f'Shape of the train set: ', train_data.data.shape)\n",
    "print(f'Shape of the test set: ', test_data.data.shape)"
   ]
  },
  {
   "cell_type": "code",
   "execution_count": 4,
   "metadata": {},
   "outputs": [],
   "source": [
    "input_shape = (28, 28, 1)\n",
    "input_chn = input_shape[-1]\n",
    "num_classes = 10\n",
    "batch_size = 1\n",
    "nz = 100\n",
    "device = 'cuda' if torch.cuda.is_available() else 'cpu'\n",
    "ngpu = 0 if device == 'cpu' else 1\n"
   ]
  },
  {
   "cell_type": "code",
   "execution_count": 5,
   "metadata": {},
   "outputs": [],
   "source": [
    "train_dataloader, test_dataloader = build_dataloader([train_data, test_data], \n",
    "                                                      batch_size=batch_size, \n",
    "                                                      shuffle=False)"
   ]
  },
  {
   "cell_type": "code",
   "execution_count": 6,
   "metadata": {},
   "outputs": [
    {
     "name": "stdout",
     "output_type": "stream",
     "text": [
      "Total number of parameters in the CNN: 143162\n"
     ]
    }
   ],
   "source": [
    "output_dir = 'D:\\PycharmProjects\\XAIRobustness\\CARLA_VISUAL\\carla_visual\\models\\weights\\piece'\n",
    "cnn_weights_file = 'cnn_weights.pth'\n",
    "gen_weights_file = 'generator_weights.pth'\n",
    "\n",
    "cnn = PIECECNN(input_chn, num_classes)\n",
    "print('Total number of parameters in the CNN:', cnn.get_params_num())\n",
    "cnn = load_model_weights(cnn, osp.join(output_dir, cnn_weights_file), device=device)\n",
    "\n",
    "gen = PIECEGenerator(ngpu=ngpu)\n",
    "gen = load_model_weights(gen, osp.join(output_dir, gen_weights_file), device=device)"
   ]
  },
  {
   "cell_type": "code",
   "execution_count": 7,
   "metadata": {},
   "outputs": [],
   "source": [
    "misclf_samples_info_path = r'D:\\PycharmProjects\\XAIRobustness\\CARLA_VISUAL\\carla_visual\\recourse_methods\\piece\\misclassified_instances\\misclassified_instances_and_latent_vectors.pickle'\n",
    "\n",
    "with open(misclf_samples_info_path, 'rb') as f:\n",
    "    misclf_samples_info = pickle.load(f)"
   ]
  },
  {
   "cell_type": "code",
   "execution_count": 8,
   "metadata": {},
   "outputs": [],
   "source": [
    "cor_activations_lv_path = r'D:\\PycharmProjects\\XAIRobustness\\CARLA_VISUAL\\carla_visual\\recourse_methods\\piece\\misclassified_instances\\corrected_activations_and_latent_vectors.pickle'\n",
    "with open(cor_activations_lv_path, 'rb') as f:\n",
    "    cor_activations_and_lv = pickle.load(f)"
   ]
  },
  {
   "cell_type": "markdown",
   "metadata": {},
   "source": [
    "# General evaluation"
   ]
  },
  {
   "cell_type": "code",
   "execution_count": 9,
   "metadata": {},
   "outputs": [],
   "source": [
    "generated_cfe = [gen(item['corrected_latent_vector']) for item in cor_activations_and_lv]\n",
    "generated_cfe = torch.concat(generated_cfe)"
   ]
  },
  {
   "cell_type": "code",
   "execution_count": 10,
   "metadata": {},
   "outputs": [],
   "source": [
    "cfe_predictions = torch.argmax(cnn(generated_cfe)[0], axis=1)\n",
    "cfe_predictions_encoded = one_hot(cfe_predictions)"
   ]
  },
  {
   "cell_type": "code",
   "execution_count": 11,
   "metadata": {},
   "outputs": [],
   "source": [
    "target_labels = [item['label'].unsqueeze(0) for item in misclf_samples_info]\n",
    "target_labels = torch.concat(target_labels)\n",
    "target_labels_encoded = one_hot(target_labels, num_classes)"
   ]
  },
  {
   "cell_type": "code",
   "execution_count": 12,
   "metadata": {},
   "outputs": [
    {
     "name": "stdout",
     "output_type": "stream",
     "text": [
      "Number of correct CFEs:  19\n",
      "Number of incorrect CFEs:  49\n"
     ]
    }
   ],
   "source": [
    "correct_clf_ind = [i for i, (sample, cf_pred) in enumerate(zip(misclf_samples_info, cfe_predictions)) \n",
    "                   if sample['label']==cf_pred]\n",
    "incorrect_clf_ind = list(set(range(len(cfe_predictions))) - set(correct_clf_ind))\n",
    "\n",
    "print('Number of correct CFEs: ', len(correct_clf_ind))\n",
    "print('Number of incorrect CFEs: ', len(incorrect_clf_ind))"
   ]
  },
  {
   "cell_type": "markdown",
   "metadata": {},
   "source": [
    "## Validity"
   ]
  },
  {
   "cell_type": "code",
   "execution_count": 15,
   "metadata": {},
   "outputs": [
    {
     "name": "stdout",
     "output_type": "stream",
     "text": [
      "Validity: 0.279\n"
     ]
    }
   ],
   "source": [
    "print('Validity:', calculate_validity(cfe_predictions_encoded, target_labels_encoded))"
   ]
  },
  {
   "cell_type": "markdown",
   "metadata": {},
   "source": [
    "## IM1, IM2"
   ]
  },
  {
   "cell_type": "code",
   "execution_count": 18,
   "metadata": {},
   "outputs": [],
   "source": [
    "ae_weights_dir = r'D:\\PycharmProjects\\XAIRobustness\\CARLA_VISUAL\\carla_visual\\evaluation\\interpretability_metrics_looveren\\ae_weights_mnist'\n",
    "ae_models_list = [load_model_weights(AE(), osp.join(ae_weights_dir, f'ae_{i}.pth'), device='cpu') \n",
    "                        for i in range(num_classes)]"
   ]
  },
  {
   "cell_type": "code",
   "execution_count": 19,
   "metadata": {},
   "outputs": [],
   "source": [
    "ae_full = load_model_weights(AE(), osp.join(ae_weights_dir, 'ae_full.pth'), device='cpu') "
   ]
  },
  {
   "cell_type": "code",
   "execution_count": 20,
   "metadata": {},
   "outputs": [],
   "source": [
    "im1_results = []\n",
    "im2_results = []\n",
    "\n",
    "for gen_cf_image, pred, label in zip(generated_cfe, cfe_predictions, target_labels):\n",
    "    ae_i_ind = pred.item()\n",
    "    ae_t_ind = label.item()\n",
    "\n",
    "    ae_i = ae_models_list[ae_i_ind]\n",
    "    ae_t = ae_models_list[ae_t_ind]\n",
    "    \n",
    "    im1_results.append(calculate_IM1(gen_cf_image, ae_t, ae_i))\n",
    "    im2_results.append(calculate_IM2(gen_cf_image, ae_t, ae_full))\n",
    "\n"
   ]
  },
  {
   "cell_type": "code",
   "execution_count": 21,
   "metadata": {},
   "outputs": [
    {
     "name": "stdout",
     "output_type": "stream",
     "text": [
      "Average IM1:  0.99235\n",
      "Average IM2:  0.9607919307726728\n"
     ]
    }
   ],
   "source": [
    "print('Average IM1: ', sum(im1_results) / len(im1_results))\n",
    "print('Average IM2: ', sum(im2_results) / len(im2_results))"
   ]
  },
  {
   "cell_type": "code",
   "execution_count": 23,
   "metadata": {},
   "outputs": [
    {
     "data": {
      "image/png": "[encoded data removed]",
      "text/plain": [
       "<Figure size 500x500 with 1 Axes>"
      ]
     },
     "metadata": {},
     "output_type": "display_data"
    }
   ],
   "source": [
    "fig, ax = plt.subplots(figsize=(5, 5))\n",
    "\n",
    "bp = ax.boxplot([im1_results, im2_results], patch_artist=True, tick_labels=['IM1', 'IM2'], showmeans=True)\n",
    "\n",
    "# Customize boxplot colors\n",
    "colors = ['lightpink'] * len(bp['boxes'])\n",
    "for patch, color in zip(bp['boxes'], colors):\n",
    "    patch.set_facecolor(color)\n",
    "\n",
    "# Add labels and title\n",
    "ax.set_title('Boxplot of the results of IM1 & IM2')\n",
    "# Add a grid for better readability\n",
    "ax.yaxis.grid(True)\n",
    "\n",
    "ax.text(1.15, np.mean(im1_results), str(round(np.mean(im1_results), 3)), \n",
    "        fontsize=11, color='black', backgroundcolor='lightgreen')\n",
    "ax.text(2.15, np.mean(im2_results), str(round(np.mean(im2_results), 3)),\n",
    "         fontsize=11, color='black', backgroundcolor='lightgreen')\n",
    "\n",
    "# Show the plot\n",
    "plt.tight_layout()\n",
    "plt.show()"
   ]
  },
  {
   "cell_type": "markdown",
   "metadata": {},
   "source": [
    "## Distances"
   ]
  },
  {
   "cell_type": "markdown",
   "metadata": {},
   "source": [
    "### Diffusion distance"
   ]
  },
  {
   "cell_type": "code",
   "execution_count": null,
   "metadata": {},
   "outputs": [],
   "source": []
  },
  {
   "cell_type": "markdown",
   "metadata": {},
   "source": [
    "### Mahalanobis distance"
   ]
  },
  {
   "cell_type": "markdown",
   "metadata": {},
   "source": [
    "Shows how close is an image to the training distribution of the targte (?) class -> Covariance mterix should be calculated for the distribution of images of a target class."
   ]
  },
  {
   "cell_type": "code",
   "execution_count": 46,
   "metadata": {},
   "outputs": [],
   "source": [
    "from scipy.spatial.distance import mahalanobis\n",
    "from scipy.linalg import inv\n",
    "\n",
    "\n",
    "def mahalanobis_distance(factuals: torch.Tensor, counterfactuals: torch.Tensor):\n",
    "    \"\"\"\n",
    "    Calculates Mahalanobis distance\n",
    "\n",
    "    Parameters\n",
    "    ----------\n",
    "     factuals: np.ndarray\n",
    "            Normalized and encoded array with factual data.\n",
    "            Shape: NxM\n",
    "     counterfactuals: np.ndarray\n",
    "            Normalized and encoded array with counterfactual data\n",
    "            Shape: NxM\n",
    "\n",
    "    Returns\n",
    "    ---------\n",
    "    A list of distances for each provided instance\n",
    "    \"\"\"\n",
    "    # Calculate the covariance matrix of the original instances\n",
    "    factuals_array = factuals.detach().numpy()\n",
    "    counterfactuals_array = counterfactuals.detach().numpy()\n",
    "    cov_matrix = np.cov(factuals_array, rowvar=False)\n",
    "\n",
    "    # Compute the inverse of the covariance matrix\n",
    "    inv_cov_matrix = inv(cov_matrix)\n",
    "\n",
    "    # Calculate the Mahalanobis distance for each pair of instances\n",
    "    mahalanobis_distances = []\n",
    "    for factual, counterfactual in zip(factuals_array, counterfactuals_array):\n",
    "        distance = mahalanobis(factual, counterfactual, inv_cov_matrix)\n",
    "        mahalanobis_distances.append(distance)\n",
    "\n",
    "    return mahalanobis_distances"
   ]
  },
  {
   "cell_type": "code",
   "execution_count": 25,
   "metadata": {},
   "outputs": [],
   "source": [
    "# Misclassified counterfactuals \n",
    "\n",
    "correct_cf_samples_info = []\n",
    "for ind in correct_clf_ind:\n",
    "    cfe_predictions[ind]\n",
    "    correct_cf_samples_info.append({'cf_image': generated_cfe[ind]})"
   ]
  },
  {
   "cell_type": "code",
   "execution_count": null,
   "metadata": {},
   "outputs": [],
   "source": [
    "from sklearn.covariance import MinCovDet\n",
    "\n",
    "class MahalanobisDistance:\n",
    "    def __init__(self, target_class_samples):\n",
    "        \"\"\"\n",
    "        Initialize with samples from the target class distribution\n",
    "        \n",
    "        Args:\n",
    "            target_class_samples: torch.Tensor or numpy array of shape (n_samples, n_features)\n",
    "                                containing samples from the target class\n",
    "        \"\"\"\n",
    "        if isinstance(target_class_samples, torch.Tensor):\n",
    "            target_class_samples = target_class_samples.cpu().numpy()\n",
    "            \n",
    "        self.mean = np.mean(target_class_samples, axis=0)\n",
    "        \n",
    "        # Calculate covariance matrix\n",
    "        self.cov = MinCovDet().fit(target_class_samples)\n",
    "        self.inv_cov = self.cov.precision_  # Use precision_ for inverse covariance\n",
    "        \n",
    "    def calculate(self, counterfactual):\n",
    "        \"\"\"\n",
    "        Calculate Mahalanobis distance between counterfactual and target class distribution\n",
    "        \n",
    "        Args:\n",
    "            counterfactual: torch.Tensor or numpy array of shape (n_features,)\n",
    "                          containing the counterfactual example\n",
    "                          \n",
    "        Returns:\n",
    "            float: Mahalanobis distance\n",
    "        \"\"\"\n",
    "        if isinstance(counterfactual, torch.Tensor):\n",
    "            counterfactual = counterfactual.cpu().numpy()\n",
    "            \n",
    "        if counterfactual.ndim == 2:\n",
    "            counterfactual = counterfactual.squeeze()\n",
    "            \n",
    "        # Calculate difference from mean\n",
    "        diff = counterfactual - self.mean\n",
    "        \n",
    "        # Calculate Mahalanobis distance\n",
    "        mahalanobis_dist = np.sqrt(diff.dot(self.inv_cov).dot(diff))\n",
    "        \n",
    "        return mahalanobis_dist\n",
    "    \n",
    "    def calculate_batch(self, counterfactuals):\n",
    "        \"\"\"\n",
    "        Calculate Mahalanobis distance for a batch of counterfactuals\n",
    "        \n",
    "        Args:\n",
    "            counterfactuals: torch.Tensor or numpy array of shape (n_samples, n_features)\n",
    "                           containing multiple counterfactual examples\n",
    "                           \n",
    "        Returns:\n",
    "            numpy array: Array of Mahalanobis distances\n",
    "        \"\"\"\n",
    "        if isinstance(counterfactuals, torch.Tensor):\n",
    "            counterfactuals = counterfactuals.cpu().numpy()\n",
    "            \n",
    "        # Calculate differences from mean\n",
    "        diff = counterfactuals - self.mean\n",
    "        \n",
    "        # Calculate Mahalanobis distances\n",
    "        mahalanobis_dists = np.sqrt(np.sum(diff.dot(self.inv_cov) * diff, axis=1))\n",
    "        \n",
    "        return mahalanobis_dists\n",
    "\n",
    "# Example usage\n",
    "def demonstrate_mahalanobis():\n",
    "    # Generate synthetic data for target class\n",
    "    np.random.seed(42)\n",
    "    n_samples = 1000\n",
    "    n_features = 10\n",
    "    \n",
    "    # Create synthetic target class distribution (multivariate normal)\n",
    "    mean = np.random.randn(n_features)\n",
    "    cov = np.random.randn(n_features, n_features)\n",
    "    cov = cov.T.dot(cov)  # Ensure positive semi-definite\n",
    "    target_samples = np.random.multivariate_normal(mean, cov, n_samples)\n",
    "    \n",
    "    # Create counterfactual examples\n",
    "    counterfactual_close = mean + np.random.randn(n_features) * 0.1  # Close to mean\n",
    "    counterfactual_far = mean + np.random.randn(n_features) * 2.0    # Far from mean\n",
    "    \n",
    "    # Initialize calculator\n",
    "    mahalanobis_calc = MahalanobisDistance(target_samples)\n",
    "    \n",
    "    # Calculate distances\n",
    "    dist_close = mahalanobis_calc.calculate(counterfactual_close)\n",
    "    dist_far = mahalanobis_calc.calculate(counterfactual_far)\n",
    "    \n",
    "    print(f\"Mahalanobis distance for close counterfactual: {dist_close:.2f}\")\n",
    "    print(f\"Mahalanobis distance for far counterfactual: {dist_far:.2f}\")\n",
    "    \n",
    "    # Demonstrate batch calculation\n",
    "    batch_counterfactuals = np.vstack([counterfactual_close, counterfactual_far])\n",
    "    batch_distances = mahalanobis_calc.calculate_batch(batch_counterfactuals)\n",
    "    \n",
    "    print(\"\\nBatch calculation results:\")\n",
    "    print(f\"Distances: {batch_distances}\")\n",
    "\n",
    "if __name__ == \"__main__\":\n",
    "    demonstrate_mahalanobis()\n",
    "\n",
    "# Example with real model and data\n",
    "def calculate_counterfactual_naturalness(model, data_loader, target_class, counterfactual):\n",
    "    \"\"\"\n",
    "    Calculate how natural a counterfactual is with respect to the target class\n",
    "    \n",
    "    Args:\n",
    "        model: trained model\n",
    "        data_loader: DataLoader containing the training data\n",
    "        target_class: int, the target class\n",
    "        counterfactual: torch.Tensor, the counterfactual example\n",
    "        \n",
    "    Returns:\n",
    "        float: Mahalanobis distance\n",
    "    \"\"\"\n",
    "    # Collect features for target class\n",
    "    target_features = []\n",
    "    device = next(model.parameters()).device\n",
    "    \n",
    "    with torch.no_grad():\n",
    "        for inputs, labels in data_loader:\n",
    "            inputs = inputs.to(device)\n",
    "            labels = labels.to(device)\n",
    "            \n",
    "            # Get samples from target class\n",
    "            target_mask = labels == target_class\n",
    "            if not target_mask.any():\n",
    "                continue\n",
    "                \n",
    "            target_inputs = inputs[target_mask]\n",
    "            \n",
    "            # Get features (assuming model has a feature extraction method)\n",
    "            features = model.get_features(target_inputs)\n",
    "            target_features.append(features.cpu().numpy())\n",
    "    \n",
    "    target_features = np.concatenate(target_features, axis=0)\n",
    "    \n",
    "    # Initialize calculator with target class features\n",
    "    mahalanobis_calc = MahalanobisDistance(target_features)\n",
    "    \n",
    "    # Get features for counterfactual\n",
    "    with torch.no_grad():\n",
    "        counterfactual_features = model.get_features(counterfactual.unsqueeze(0))\n",
    "    \n",
    "    # Calculate distance\n",
    "    distance = mahalanobis_calc.calculate(counterfactual_features)\n",
    "    \n",
    "    return distance"
   ]
  },
  {
   "cell_type": "code",
   "execution_count": null,
   "metadata": {},
   "outputs": [],
   "source": [
    "# Calculate the covariance matrix of the original instances\n",
    "factuals_array = factuals.detach().numpy()\n",
    "counterfactuals_array = counterfactuals.detach().numpy()\n",
    "cov_matrix = np.cov(factuals_array, rowvar=False)\n",
    "\n",
    "# Compute the inverse of the covariance matrix\n",
    "inv_cov_matrix = inv(cov_matrix)\n",
    "\n",
    "# Calculate the Mahalanobis distance for each pair of instances\n",
    "mahalanobis_distances = []\n",
    "for factual, counterfactual in zip(factuals_array, counterfactuals_array):\n",
    "    distance = mahalanobis(factual, counterfactual, inv_cov_matrix)\n",
    "    mahalanobis_distances.append(distance)"
   ]
  },
  {
   "cell_type": "markdown",
   "metadata": {},
   "source": [
    "### Proximity"
   ]
  },
  {
   "cell_type": "markdown",
   "metadata": {},
   "source": [
    "Identifying proximity for the correctly classified counterfactuals "
   ]
  },
  {
   "cell_type": "code",
   "execution_count": 143,
   "metadata": {},
   "outputs": [],
   "source": [
    "proximity_results_cor = []\n",
    "\n",
    "for ind in correct_clf_ind:\n",
    "    # scaling the original and generated CFEs to the range of [0, 1]  \n",
    "    cf = generated_cfe[ind]\n",
    "    cf_norm = ((cf + 0.1307) * 0.3081).flatten()\n",
    "\n",
    "    original_img = misclf_samples_info[ind]['image']\n",
    "    original_img_norm = ((original_img + 0.1307) * 0.3081).flatten()\n",
    "\n",
    "    proximity = calculate_proximity(original_img_norm, cf_norm)\n",
    "    proximity_results_cor.append(round(proximity.detach().item(), 4))\n",
    "\n",
    "avg_proximity_cor = np.mean(proximity_results_cor)\n"
   ]
  },
  {
   "cell_type": "code",
   "execution_count": 144,
   "metadata": {},
   "outputs": [],
   "source": [
    "proximity_results_incor = []\n",
    "\n",
    "for ind in incorrect_clf_ind:\n",
    "    # scaling the original and generated CFEs to the range of [0, 1]  \n",
    "    cf = generated_cfe[ind]\n",
    "    cf_norm = ((cf + 0.1307) * 0.3081).flatten()\n",
    "\n",
    "    original_img = misclf_samples_info[ind]['image']\n",
    "    original_img_norm = ((original_img + 0.1307) * 0.3081).flatten()\n",
    "\n",
    "    proximity = calculate_proximity(original_img_norm, cf_norm)\n",
    "    proximity_results_incor.append(round(proximity.detach().item(), 4))\n",
    "\n",
    "avg_proximity_incor = np.mean(proximity_results_incor)\n"
   ]
  },
  {
   "cell_type": "code",
   "execution_count": 162,
   "metadata": {},
   "outputs": [
    {
     "data": {
      "image/png": "[encoded data removed]",
      "text/plain": [
       "<Figure size 500x400 with 1 Axes>"
      ]
     },
     "metadata": {},
     "output_type": "display_data"
    }
   ],
   "source": [
    "# Create a figure and a set of subplots\n",
    "fig, ax = plt.subplots(figsize=(5, 4))\n",
    "\n",
    "# Plotting the boxplots\n",
    "#datasets = pd.DataFrame([proximity_results_cor, proximity_results_incor]).T\n",
    "box_plot = ax.boxplot([proximity_results_cor,\n",
    "                       proximity_results_incor], \n",
    "                       patch_artist=True, showmeans=True, tick_labels=['correctly pred CFEs', \n",
    "                                                                       'incorrectly pred CFEs'])\n",
    "\n",
    "# Customize boxplot colors\n",
    "colors = ['lightblue'] * len(box_plot['boxes'])\n",
    "for patch, color in zip(box_plot['boxes'], colors):\n",
    "    patch.set_facecolor(color)\n",
    "\n",
    "# Add labels and title\n",
    "ax.set_ylabel('Proximity')\n",
    "ax.set_title('Proximity of CFEs', fontsize=16)\n",
    "ax.text(1.15, avg_proximity_cor, str(round(avg_proximity_cor, 3)), \n",
    "        fontsize=11, color='black', backgroundcolor='lightgreen')\n",
    "ax.text(2.15, avg_proximity_incor, str(round(avg_proximity_incor, 3)), \n",
    "        fontsize=11, color='black', backgroundcolor='lightgreen')\n",
    "\n",
    "# Add a grid for better readability\n",
    "ax.grid(True)\n",
    "\n",
    "# Adjust layout and display the plot\n",
    "plt.tight_layout()\n",
    "plt.show()"
   ]
  },
  {
   "cell_type": "markdown",
   "metadata": {},
   "source": [
    "### Sparsity"
   ]
  },
  {
   "cell_type": "code",
   "execution_count": null,
   "metadata": {},
   "outputs": [],
   "source": [
    "sparsity_results_incor = []\n",
    "sparsity_results_cor = []\n",
    "\n",
    "for ind in incorrect_clf_ind:\n",
    "    # scaling the original and generated CFEs to the range of [0, 1]  \n",
    "    cf = generated_cfe[ind]\n",
    "    cf_norm = ((cf + 0.1307) * 0.3081).flatten()\n",
    "\n",
    "    original_img = misclf_samples_info[ind]['image']\n",
    "    original_img_norm = ((original_img + 0.1307) * 0.3081).flatten()\n",
    "\n",
    "    proximity = calculate_proximity(original_img_norm, cf_norm)\n",
    "    proximity_results_incor.append(round(proximity.detach().item(), 4))\n",
    "\n",
    "avg_proximity_incor = np.mean(proximity_results_incor)"
   ]
  },
  {
   "cell_type": "code",
   "execution_count": null,
   "metadata": {},
   "outputs": [],
   "source": []
  },
  {
   "cell_type": "code",
   "execution_count": null,
   "metadata": {},
   "outputs": [],
   "source": []
  },
  {
   "cell_type": "markdown",
   "metadata": {},
   "source": [
    "# Robustness evaluation"
   ]
  },
  {
   "cell_type": "markdown",
   "metadata": {},
   "source": [
    "## Invalidation rate"
   ]
  },
  {
   "cell_type": "code",
   "execution_count": 24,
   "metadata": {},
   "outputs": [],
   "source": [
    "import torch\n",
    "from tqdm import tqdm\n",
    "from torch.distributions.multivariate_normal import MultivariateNormal"
   ]
  },
  {
   "cell_type": "code",
   "execution_count": 25,
   "metadata": {},
   "outputs": [],
   "source": [
    "def perturb_sample(x, n_samples, perturb_magnitude):\n",
    "    \n",
    "    # stack copies of this sample, i.e. n rows of x.\n",
    "    X = x.repeat(n_samples, 1, 1, 1)\n",
    "    \n",
    "    # sample normal distributed values\n",
    "    sigma = torch.eye(x.shape[1]) * perturb_magnitude\n",
    "    eps = MultivariateNormal(\n",
    "        loc=torch.zeros(x.shape[1]), covariance_matrix=sigma\n",
    "    ).sample((n_samples,))\n",
    "    eps = eps.unsqueeze(-1).unsqueeze(-1)\n",
    "    \n",
    "    return X + eps"
   ]
  },
  {
   "cell_type": "code",
   "execution_count": 26,
   "metadata": {},
   "outputs": [],
   "source": [
    "def calculate_invalidation_rate(counterfactuals, classifier, n_samples, perturb_magnitude):\n",
    "    result = []\n",
    "    for x in tqdm(counterfactuals):\n",
    "        if len(x.shape) < 4:\n",
    "            x = x.unsqueeze(0)\n",
    "            \n",
    "        cf_prediction = one_hot(torch.argmax(classifier(x)[0], axis=1), num_classes)\n",
    "        cf_prediction = cf_prediction.repeat(n_samples, 1) \n",
    "\n",
    "        X_pert = perturb_sample(x, n_samples, perturb_magnitude=perturb_magnitude)\n",
    "        cf_pert_prediction = one_hot(torch.argmax(classifier(X_pert)[0], axis=1), num_classes)\n",
    "\n",
    "        hamming_distance = torch.sum(cf_pert_prediction != cf_prediction, axis=1)\n",
    "        incorrect_explanations_num = torch.where(hamming_distance==2)[0].shape[0]\n",
    "\n",
    "        invalidation_rate = incorrect_explanations_num / cf_prediction.shape[0]\n",
    "\n",
    "        result.append(invalidation_rate)\n",
    "    return result"
   ]
  },
  {
   "cell_type": "code",
   "execution_count": 27,
   "metadata": {},
   "outputs": [
    {
     "name": "stderr",
     "output_type": "stream",
     "text": [
      "100%|██████████| 68/68 [00:01<00:00, 58.43it/s]\n",
      "100%|██████████| 68/68 [00:01<00:00, 61.58it/s]\n",
      "100%|██████████| 68/68 [00:01<00:00, 61.23it/s]\n",
      "100%|██████████| 68/68 [00:01<00:00, 62.93it/s]\n"
     ]
    }
   ],
   "source": [
    "perturb_magnitudes = [0.01, 0.015, 0.02, 0.025]\n",
    "invalidation_rates = []\n",
    "for perturb_magnitude in perturb_magnitudes:\n",
    "    invalidation_rates.append(calculate_invalidation_rate(generated_cfe, cnn, n_samples=100,\n",
    "                                                         perturb_magnitude=perturb_magnitude))"
   ]
  },
  {
   "cell_type": "markdown",
   "metadata": {},
   "source": [
    "## Visualize invalidation rates"
   ]
  },
  {
   "cell_type": "code",
   "execution_count": 33,
   "metadata": {},
   "outputs": [
    {
     "name": "stderr",
     "output_type": "stream",
     "text": [
      "C:\\Users\\sahat\\AppData\\Local\\Temp\\ipykernel_58212\\3095175641.py:8: MatplotlibDeprecationWarning: The 'labels' parameter of boxplot() has been renamed 'tick_labels' since Matplotlib 3.9; support for the old name will be dropped in 3.11.\n",
      "  box_plot = ax.boxplot(datasets, patch_artist=True, labels=labels)\n"
     ]
    },
    {
     "data": {
      "image/png": "[encoded data removed]",
      "text/plain": [
       "<Figure size 800x400 with 1 Axes>"
      ]
     },
     "metadata": {},
     "output_type": "display_data"
    }
   ],
   "source": [
    "# Create a figure and a set of subplots\n",
    "fig, ax = plt.subplots(figsize=(8, 4))\n",
    "\n",
    "# Plotting the boxplots\n",
    "datasets = pd.DataFrame(invalidation_rates).T\n",
    "labels = [f'sigma={sigma}' for sigma in perturb_magnitudes]\n",
    "\n",
    "box_plot = ax.boxplot(datasets, patch_artist=True, labels=labels)\n",
    "\n",
    "# Customize boxplot colors\n",
    "colors = ['lightblue'] * len(box_plot['boxes'])\n",
    "for patch, color in zip(box_plot['boxes'], colors):\n",
    "    patch.set_facecolor(color)\n",
    "\n",
    "# Add labels and title\n",
    "ax.set_xlabel('Perturbation magnitude')\n",
    "ax.set_ylabel('IR')\n",
    "ax.set_title('Recourse Invalidation Rate', fontsize=16)\n",
    "\n",
    "# Add a grid for better readability\n",
    "ax.grid(True)\n",
    "\n",
    "# Adjust layout and display the plot\n",
    "plt.tight_layout()\n",
    "plt.show()"
   ]
  },
  {
   "cell_type": "markdown",
   "metadata": {},
   "source": [
    "## Manifold Topology Divergence"
   ]
  },
  {
   "cell_type": "code",
   "execution_count": null,
   "metadata": {},
   "outputs": [],
   "source": []
  }
 ],
 "metadata": {
  "kernelspec": {
   "display_name": "venv",
   "language": "python",
   "name": "python3"
  },
  "language_info": {
   "codemirror_mode": {
    "name": "ipython",
    "version": 3
   },
   "file_extension": ".py",
   "mimetype": "text/x-python",
   "name": "python",
   "nbconvert_exporter": "python",
   "pygments_lexer": "ipython3",
   "version": "3.11.4"
  }
 },
 "nbformat": 4,
 "nbformat_minor": 2
}
